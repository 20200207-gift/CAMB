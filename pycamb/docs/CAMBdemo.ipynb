{
 "cells": [
  {
   "cell_type": "code",
   "execution_count": 1,
   "metadata": {
    "collapsed": false
   },
   "outputs": [
    {
     "name": "stdout",
     "output_type": "stream",
     "text": [
      "Using CAMB installed at c:\\Work\\Dist\\git\\camb\\pycamb\n"
     ]
    },
    {
     "ename": "SyntaxError",
     "evalue": "invalid syntax (model.py, line 261)",
     "output_type": "error",
     "traceback": [
      "\u001b[1;36m  File \u001b[1;32m\"c:\\Work\\Dist\\git\\camb\\pycamb\\camb\\model.py\"\u001b[1;36m, line \u001b[1;32m261\u001b[0m\n\u001b[1;33m    return self\u001b[0m\n\u001b[1;37m         ^\u001b[0m\n\u001b[1;31mSyntaxError\u001b[0m\u001b[1;31m:\u001b[0m invalid syntax\n"
     ]
    }
   ],
   "source": [
    "%matplotlib inline\n",
    "import sys, platform, os\n",
    "if platform.system()!='Windows':\n",
    "    !cd $HOME/git/camb; git pull github master; git log -1\n",
    "import os\n",
    "from matplotlib import pyplot as plt\n",
    "import numpy as np\n",
    "print('Using CAMB installed at '+ os.path.realpath(os.path.join(os.getcwd(),'..')))\n",
    "sys.path.insert(0,os.path.realpath(os.path.join(os.getcwd(),'..')))\n",
    "import camb\n",
    "from camb import model, initialpower"
   ]
  },
  {
   "cell_type": "code",
   "execution_count": null,
   "metadata": {
    "collapsed": false
   },
   "outputs": [],
   "source": [
    "#Set up a new set of parameters for CAMB\n",
    "pars = camb.CAMBparams()\n",
    "#This function sets up CosmoMC-like settings, with one massive neutrino and helium set using BBN consistency\n",
    "pars.set_cosmology(H0=67.5, ombh2=0.022, omch2=0.122, mnu=0.06, omk=0, tau=0.06)\n",
    "pars.InitPower.set_params(ns=0.965, r=0)\n",
    "pars.set_for_lmax(2500, lens_potential_accuracy=0);"
   ]
  },
  {
   "cell_type": "code",
   "execution_count": null,
   "metadata": {
    "collapsed": false
   },
   "outputs": [],
   "source": [
    "#calculate results for these parameters\n",
    "results = camb.get_results(pars)"
   ]
  },
  {
   "cell_type": "code",
   "execution_count": null,
   "metadata": {
    "collapsed": false
   },
   "outputs": [],
   "source": [
    "#get dictionary of CAMB power spectra\n",
    "powers =results.get_cmb_power_spectra(pars)\n",
    "for name in powers: print name"
   ]
  },
  {
   "cell_type": "code",
   "execution_count": null,
   "metadata": {
    "collapsed": false
   },
   "outputs": [],
   "source": [
    "#plot the total lensed CMB power spectra versus unlensed, and fractional difference\n",
    "totCL=powers['total']\n",
    "unlensedCL=powers['unlensed_scalar']\n",
    "print totCL.shape\n",
    "#Python CL arrays are all zero based (starting at L=0), Note L=0,1 entries will be zero by default.\n",
    "#The differenent CL are always in the order TT, EE, BB, TE (with BB=0 for unlensed scalar results).\n",
    "ls = np.arange(totCL.shape[0])\n",
    "fig, ax = plt.subplots(2,2, figsize = (12,12))\n",
    "ax[0,0].plot(ls,totCL[:,0], color='k')\n",
    "ax[0,0].plot(ls,unlensedCL[:,0], color='r')\n",
    "ax[0,0].set_title('TT')\n",
    "ax[0,1].plot(ls[2:], 1-unlensedCL[2:,0]/totCL[2:,0]);\n",
    "ax[0,1].set_title(r'$\\Delta TT$')\n",
    "ax[1,0].plot(ls,totCL[:,1], color='k')\n",
    "ax[1,0].plot(ls,unlensedCL[:,1], color='r')\n",
    "ax[1,0].set_title(r'$EE$')\n",
    "ax[1,1].plot(ls,totCL[:,3], color='k')\n",
    "ax[1,1].plot(ls,unlensedCL[:,3], color='r')\n",
    "ax[1,1].set_title(r'$TE$');\n",
    "for ax in ax.reshape(-1): ax.set_xlim([2,2500])\n"
   ]
  },
  {
   "cell_type": "code",
   "execution_count": null,
   "metadata": {
    "collapsed": false
   },
   "outputs": [],
   "source": [
    "#You can calculate spectra for different primordial power spectra without recalculating everything\n",
    "#for example, let's plot the BB spectra as a function of r\n",
    "pars.WantTensors = True\n",
    "results = camb.get_transfer_functions(pars)\n",
    "lmax=2000\n",
    "rs = np.linspace(0,0.2,6)\n",
    "for r in rs:\n",
    "    inflation_params = initialpower.InitialPowerParams()\n",
    "    inflation_params.set_params(ns=0.96, r=r)\n",
    "    results.power_spectra_from_transfer(inflation_params)\n",
    "    cl = results.get_total_cls(lmax)\n",
    "    plt.loglog(np.arange(lmax+1),cl[:,2])\n",
    "plt.xlim([2,lmax])\n",
    "plt.legend(rs, loc='lower right');"
   ]
  },
  {
   "cell_type": "code",
   "execution_count": null,
   "metadata": {
    "collapsed": false
   },
   "outputs": [],
   "source": [
    "#Now get matter power spectra and sigma8 at redshift 0 and 0.8\n",
    "pars = camb.CAMBparams()\n",
    "pars.set_cosmology(H0=67.5, ombh2=0.022, omch2=0.122)\n",
    "pars.set_dark_energy() #re-set defaults\n",
    "pars.InitPower.set_params(ns=0.965)\n",
    "#Not non-linear corrections couples to smaller scales than you want\n",
    "pars.set_matter_power(redshifts=[0., 0.8], kmax=2.0)\n",
    "\n",
    "#Linear spectra\n",
    "pars.NonLinear = model.NonLinear_none\n",
    "results = camb.get_results(pars)\n",
    "kh, z, pk = results.get_matter_power_spectrum(minkh=1e-4, maxkh=1, npoints = 200)\n",
    "s8 = np.array(results.get_sigma8())\n",
    "\n",
    "#Non-Linear spectra (Halofit)\n",
    "pars.NonLinear = model.NonLinear_both\n",
    "results.calc_power_spectra(pars)\n",
    "kh_nonlin, z_nonlin, pk_nonlin = results.get_matter_power_spectrum(minkh=1e-4, maxkh=1, npoints = 200)\n"
   ]
  },
  {
   "cell_type": "code",
   "execution_count": null,
   "metadata": {
    "collapsed": false
   },
   "outputs": [],
   "source": [
    "print results.get_sigma8()"
   ]
  },
  {
   "cell_type": "code",
   "execution_count": null,
   "metadata": {
    "collapsed": false
   },
   "outputs": [],
   "source": [
    "for i, (redshift, line) in enumerate(zip(z,['-','--'])):\n",
    "    plt.loglog(kh, pk[i,:], color='k', ls = line)\n",
    "    plt.loglog(kh_nonlin, pk_nonlin[i,:], color='r', ls = line)\n",
    "plt.xlabel('k/h Mpc');\n",
    "plt.legend(['linear','non-linear'], loc='lower left');\n",
    "plt.title('Matter power at z=%s and z= %s'%tuple(z));"
   ]
  },
  {
   "cell_type": "code",
   "execution_count": null,
   "metadata": {
    "collapsed": false
   },
   "outputs": [],
   "source": [
    "#Plot CMB lensing potential power for various values of w\n",
    "pars = camb.CAMBparams()\n",
    "pars.set_cosmology(H0=67.5, ombh2=0.022, omch2=0.122)\n",
    "pars.InitPower.set_params(As=2e-9, ns=0.965)\n",
    "pars.set_for_lmax(2000, lens_potential_accuracy=1)\n",
    "\n",
    "ws = np.linspace(-1.5, -0.6, 5)\n",
    "for w in ws:\n",
    "    pars.set_dark_energy(w) \n",
    "    results = camb.get_results(pars)\n",
    "    cl = results.get_lens_potential_cls(lmax=2000)\n",
    "    plt.loglog(np.arange(2001), cl[:,0])\n",
    "\n",
    "#Note dark energy model is currently global, so reset to LCDM by using this:\n",
    "pars.set_dark_energy() \n",
    "plt.legend(ws)\n",
    "plt.ylabel('$[L(L+1)]^2C_L^{\\phi\\phi}/2\\pi$')\n",
    "plt.xlabel('$L$')\n",
    "plt.xlim([2,2000])\n"
   ]
  },
  {
   "cell_type": "code",
   "execution_count": null,
   "metadata": {
    "collapsed": false
   },
   "outputs": [],
   "source": [
    "#You can view the parameters (as used by fortran CAMB) using print. \n",
    "#Note some of these (from ReionHist and below) are not input parameters but calculated\n",
    "print pars"
   ]
  },
  {
   "cell_type": "code",
   "execution_count": null,
   "metadata": {
    "collapsed": false
   },
   "outputs": [],
   "source": [
    "#Get various background functions and derived parameters\n",
    "pars = camb.CAMBparams()\n",
    "pars.set_cosmology(H0=67.5, ombh2=0.022, omch2=0.122)\n",
    "results = camb.get_background(pars)\n",
    "print 'Derived parameter dictionary:\\n', results.get_derived_params()"
   ]
  },
  {
   "cell_type": "code",
   "execution_count": null,
   "metadata": {
    "collapsed": false
   },
   "outputs": [],
   "source": [
    "z = np.linspace(0,4,100)\n",
    "DA = results.angular_diameter_distance(z)\n",
    "plt.plot(z, DA)\n",
    "plt.xlabel('$z$')\n",
    "plt.ylabel(r'$D_A /\\rm{Mpc}$')\n",
    "plt.title('Angular diameter distance')\n",
    "plt.ylim([0,2000]);"
   ]
  },
  {
   "cell_type": "code",
   "execution_count": null,
   "metadata": {
    "collapsed": false
   },
   "outputs": [],
   "source": [
    "print 'CosmoMC theta_MC parameter: ', results.cosmomc_theta()"
   ]
  },
  {
   "cell_type": "code",
   "execution_count": null,
   "metadata": {
    "collapsed": false
   },
   "outputs": [],
   "source": [
    "#You can also directly access some lower level quantities, for example the CMB transfer functions:\n",
    "pars = camb.CAMBparams()\n",
    "pars.set_cosmology(H0=67.5, ombh2=0.022, omch2=0.122)\n",
    "data = camb.get_transfer_functions(pars)\n",
    "transfer = data.get_cmb_transfer_data()\n",
    "print 'Number of sources (T, E, phi..): %s; number of ell: %s; number of k: %s '%tuple(transfer.delta_p_l_k.shape)"
   ]
  },
  {
   "cell_type": "code",
   "execution_count": null,
   "metadata": {
    "collapsed": false
   },
   "outputs": [],
   "source": [
    "#Plot the transfer functions as a function of k for various ell\n",
    "fig, axs = plt.subplots(2,2, figsize=(12,8), sharex = True)\n",
    "for ix, ax in zip([3, 20, 40, 60],axs.reshape(-1)):\n",
    "    ax.plot(transfer.q,transfer.delta_p_l_k[0,ix,:])\n",
    "    ax.set_title(r'$\\ell = %s$'%transfer.l[ix])\n",
    "    if ix>1: ax.set_xlabel(r'$k \\rm{Mpc}$')"
   ]
  },
  {
   "cell_type": "code",
   "execution_count": null,
   "metadata": {
    "collapsed": false
   },
   "outputs": [],
   "source": [
    "#Note that internal samplings can be quite sparsely sampled, e.g. look at l=2 transfer function\n",
    "def plot_cmb_transfer_l(trans, ix):\n",
    "    _, axs = plt.subplots(1,2, figsize=(12,6))\n",
    "    for source_ix, (name, ax) in enumerate(zip(['T', 'E'], axs)):\n",
    "        ax.semilogx(trans.q,trans.delta_p_l_k[source_ix,ix,:])\n",
    "        ax.set_xlim([1e-5, 0.05])\n",
    "        ax.set_xlabel(r'$k \\rm{Mpc}$')\n",
    "        ax.set_title(r'%s transfer function for $\\ell = %s$'%(name, trans.l[ix]))\n",
    "plot_cmb_transfer_l(transfer,0)"
   ]
  },
  {
   "cell_type": "code",
   "execution_count": null,
   "metadata": {
    "collapsed": false
   },
   "outputs": [],
   "source": [
    "#So if you want to make nice plots, either interpolate or do things at higher than default accuracy\n",
    "pars.set_accuracy(AccuracyBoost=2) #higher accuracy, so higher sampling density\n",
    "data = camb.get_transfer_functions(pars)\n",
    "plot_cmb_transfer_l(data.get_cmb_transfer_data(),0)\n",
    "pars.set_accuracy(AccuracyBoost=1); #re-set default"
   ]
  },
  {
   "cell_type": "code",
   "execution_count": null,
   "metadata": {
    "collapsed": false
   },
   "outputs": [],
   "source": [
    "#Similarly for tensor transfer function \n",
    "#e.g. see where various C_L^BB come from in k by plotting normalized transfer**2 (C_l is ~ integral over log k P(k) T(k)^2)\n",
    "pars = camb.CAMBparams()\n",
    "pars.set_cosmology(H0=67.5, ombh2=0.022, omch2=0.122)\n",
    "pars.WantScalars = False\n",
    "pars.WantTensors = True\n",
    "pars.set_accuracy(AccuracyBoost=2)\n",
    "data = camb.get_transfer_functions(pars)\n",
    "transfer = data.get_cmb_transfer_data('tensor')\n",
    "print r'Calculated L: ', transfer.l\n",
    "plt.figure(figsize=(14,3))\n",
    "ixs=[13,19,21]\n",
    "ls = [transfer.l[i] for i in ixs]\n",
    "cols=['b','r','c']\n",
    "for ix,col in zip(ixs, cols):\n",
    "    k_weight = transfer.delta_p_l_k[2,ix,:]**2\n",
    "    k_weight /= np.sum(k_weight)\n",
    "    plt.semilogx(transfer.q,k_weight, color=col)\n",
    "plt.xlim([1e-3, 0.1])\n",
    "plt.legend(ls)\n",
    "plt.xlabel(r'$k \\rm{Mpc}$')\n",
    "plt.title(r'Contribution to B from primordial tensor power spectrum for various $\\ell$')\n",
    "#compare with k_* = l/chi*, note DAstar is in GPc, so multiply by 1000 to get standard Mpc units used for k\n",
    "derived = data.get_derived_params()\n",
    "for l,col in zip(ls,cols):\n",
    "    plt.axvline(l/(1000*derived['DAstar']), color=col, ls=':', lw=2)"
   ]
  },
  {
   "cell_type": "code",
   "execution_count": null,
   "metadata": {
    "collapsed": false
   },
   "outputs": [],
   "source": [
    "#if you want to combine the transfer functions with the primordial power spectra, you can get the latter via\n",
    "k=10**np.linspace(-5, 1, 50)\n",
    "pars.InitPower.set_params(ns=0.96, r=0.2) #this functions imposes inflation conistency relation by default\n",
    "scalar_pk= pars.scalar_power(k)\n",
    "tensor_pk= pars.tensor_power(k)\n",
    "plt.semilogx(k,scalar_pk);\n",
    "plt.semilogx(k,tensor_pk);\n",
    "plt.xlabel(r'$k \\rm{Mpc}$')\n",
    "plt.ylabel(r'${\\cal P}(k)$')\n",
    "plt.legend(['scalar', 'tensor']);"
   ]
  },
  {
   "cell_type": "code",
   "execution_count": null,
   "metadata": {
    "collapsed": false
   },
   "outputs": [],
   "source": [
    "print(camb.set_params(AccuracyBoost=2))"
   ]
  },
  {
   "cell_type": "code",
   "execution_count": null,
   "metadata": {
    "collapsed": true
   },
   "outputs": [],
   "source": []
  }
 ],
 "metadata": {
  "kernelspec": {
   "display_name": "Python 2",
   "language": "python",
   "name": "python2"
  },
  "language_info": {
   "codemirror_mode": {
    "name": "ipython",
    "version": 2
   },
   "file_extension": ".py",
   "mimetype": "text/x-python",
   "name": "python",
   "nbconvert_exporter": "python",
   "pygments_lexer": "ipython2",
   "version": "2.7.9"
  }
 },
 "nbformat": 4,
 "nbformat_minor": 0
}
