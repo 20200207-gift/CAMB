{
 "cells": [
  {
   "cell_type": "code",
   "execution_count": 1,
   "metadata": {
    "collapsed": false
   },
   "outputs": [],
   "source": [
    "#Set of scalar equations implemented in CAMB, and calculation of the line-of-sight sources\n",
    "#indices are: g - photons, r- massless neutrinos, c - CDM, b - baryons, de - dark energy, nu - massive neutrinos\n",
    "# kappa = 8 pi G, Pi is anisotropic stress, q =(rho+p)v the heat flux (and for components rho_i q_i = (rho_i+p_i)v_i)\n",
    "# z is the perturbation to the expansion, h perturbation to the scale factor, sigma the shear\n",
    "# phi the Weyl potential, and eta the 3-curvature. Equations are in a general gauge\n",
    "# Equations are implemented in CAMB in the CDM frame (synchronous gauge, but using variables above). \n",
    "# There are functions to convert into Newtonian and synchronous gauge metric variables\n",
    "# Note the code calls Delta_i density perturbation variables clxi\n",
    "\n",
    "%matplotlib inline\n",
    "import sys, platform, os\n",
    "from matplotlib import pyplot as plt\n",
    "import numpy as np"
   ]
  },
  {
   "cell_type": "code",
   "execution_count": 64,
   "metadata": {
    "collapsed": false
   },
   "outputs": [],
   "source": [
    "import warnings\n",
    "warnings.filterwarnings('ignore', category=DeprecationWarning, module='.*/IPython/.*')\n",
    "import sympy\n",
    "from sympy import diff, Eq\n",
    "from sympy.abc import t, kappa, K, k\n",
    "from sympy.utilities.codegen import codegen\n",
    "a, rho, P, rho, H, phi, z, eta, sigma, A, hdot = sympy.symbols('a rho P rho H phi z eta sigma A hdot', cls=sympy.Function)\n",
    "rho_b, rho_c, rho_g, rho_r, rho_nu, p_b, p_nu, csq_b = sympy.symbols('rho_b, rho_c, rho_g, rho_r, rho_nu, p_b, p_nu, c_sb^2', cls=sympy.Function)\n",
    "delta, delta_P, Pi,q, Delta_P_nu, Delta_nu  = sympy.symbols('delta, delta_P, Pi, q, Delta_P_nu, Delta_nu', cls=sympy.Function)\n",
    "Delta_c, Delta_g, Delta_r, Delta_b, Kf = sympy.symbols('Delta_c, Delta_g, Delta_r, Delta_b, Kf', cls=sympy.Function)\n",
    "v_b, v_c, q_g, q_nu, q_r= sympy.symbols('v_b, v_c, q_g q_nu q_r', cls=sympy.Function)\n",
    "pi_g, pi_r, pi_nu = sympy.symbols('pi_g pi_r pi_nu', cls=sympy.Function)\n",
    "rho_de, w_de, csqhat_de, v_de, Delta_de = sympy.symbols('rho_de, w_de, chat_sde^2, v_de, Delta_de', cls=sympy.Function)\n",
    "#J_3, E_3, G_3 = sympy.symbols('J_3, E_3, G_3', cls=sympy.Function)\n",
    "opac,drag,photbar, exptau, vis, polter = sympy.symbols('opac drag photbar exptau vis polter', cls=sympy.Function)\n",
    "#Newtonian gauge variables\n",
    "Phi, Psi, Phi_N, Psi_N = sympy.symbols('Phi, Psi, Phi_N, Psi_N', cls=sympy.Function)\n",
    "#Synchronous gauge variables\n",
    "eta_s, hdot_s = sympy.symbols('eta_s hdot_s', cls=sympy.Function)\n",
    "\n",
    "\n",
    "def subs(eqs,expr):\n",
    "    #generalization to act on lists of equations, and support using Eq equations\n",
    "    if isinstance(expr, (list, tuple)):\n",
    "        res = [subs(eqs,ex) for ex in expr]\n",
    "        return [ x for x in res if x != True]\n",
    "    if isinstance(eqs, dict):\n",
    "        return expr.subs(eqs)\n",
    "    else:\n",
    "        if not isinstance(eqs,(list,tuple)):\n",
    "            eqs = [eqs]        \n",
    "        eqs = [(eq.lhs,eq.rhs)for eq in eqs]        \n",
    "        return expr.subs(eqs)\n",
    "\n",
    "def solve(eq, x):\n",
    "    res= sympy.solve(eq,x)\n",
    "    if len(res)==1:\n",
    "        return res[0]\n",
    "    else:\n",
    "        return res\n",
    "\n",
    "half = sympy.Rational(1,2)\n",
    "third = sympy.Rational(1,3)\n",
    "K_fac = Kf(1)\n",
    "K_fac_sub = (1-3*K/k**2);\n",
    "K_sub = Eq(K,solve(K_fac_sub-K_fac,K))\n",
    "sympy.init_printing()\n"
   ]
  },
  {
   "cell_type": "code",
   "execution_count": 3,
   "metadata": {
    "collapsed": false
   },
   "outputs": [
    {
     "data": {
      "image/png": "[encoded data removed]",
      "text/latex": [
       "$$H^{2}{\\left (t \\right )} = - K + \\frac{\\kappa}{3} a^{2}{\\left (t \\right )} \\rho{\\left (t \\right )}$$"
      ],
      "text/plain": [
       "                2        \n",
       " 2           κ⋅a (t)⋅ρ(t)\n",
       "H (t) = -K + ────────────\n",
       "                  3      "
      ]
     },
     "execution_count": 3,
     "metadata": {},
     "output_type": "execute_result"
    }
   ],
   "source": [
    "H_t = diff(a(t),t)/a(t)\n",
    "dH = -a(t)**2/6*kappa*(rho(t)+3*P(t))\n",
    "Friedmann = Eq(H(t)**2,a(t)**2*kappa*rho(t)/3-K)\n",
    "Friedmann"
   ]
  },
  {
   "cell_type": "code",
   "execution_count": 4,
   "metadata": {
    "collapsed": false
   },
   "outputs": [
    {
     "data": {
      "image/png": "[encoded data removed]",
      "text/latex": [
       "$$\\left [ \\frac{d}{d t} a{\\left (t \\right )} = H{\\left (t \\right )} a{\\left (t \\right )}, \\quad \\frac{d}{d t} H{\\left (t \\right )} = - \\frac{\\kappa}{6} \\left(3 P{\\left (t \\right )} + \\rho{\\left (t \\right )}\\right) a^{2}{\\left (t \\right )}, \\quad \\frac{d}{d t} \\operatorname{exptau}{\\left (t \\right )} = \\operatorname{vis}{\\left (t \\right )}\\right ]$$"
      ],
      "text/plain": [
       "⎡                                                     2                       \n",
       "⎢d                     d          -κ⋅(3⋅P(t) + ρ(t))⋅a (t)   d                \n",
       "⎢──(a(t)) = H(t)⋅a(t), ──(H(t)) = ─────────────────────────, ──(exptau(t)) = v\n",
       "⎣dt                    dt                     6              dt               \n",
       "\n",
       "     ⎤\n",
       "     ⎥\n",
       "is(t)⎥\n",
       "     ⎦"
      ]
     },
     "execution_count": 4,
     "metadata": {},
     "output_type": "execute_result"
    }
   ],
   "source": [
    "background_eqs = [\n",
    "    Eq(diff(a(t),t),H(t)*a(t)),\n",
    "    Eq(diff(H(t),t),dH),\n",
    "    Eq(diff(exptau(t),t),vis(t))\n",
    "]\n",
    "background_eqs"
   ]
  },
  {
   "cell_type": "code",
   "execution_count": 5,
   "metadata": {
    "collapsed": false
   },
   "outputs": [
    {
     "data": {
      "image/png": "[encoded data removed]",
      "text/latex": [
       "$$\\left [ k^{3} \\operatorname{Kf}{\\left (1 \\right )} \\phi{\\left (t \\right )} + \\frac{k \\kappa}{2} \\left(\\operatorname{Kf}{\\left (1 \\right )} \\Pi{\\left (t \\right )} + \\delta{\\left (t \\right )}\\right) a^{2}{\\left (t \\right )} + \\frac{3 \\kappa}{2} H{\\left (t \\right )} a^{2}{\\left (t \\right )} q{\\left (t \\right )}, \\quad k^{2} \\eta{\\left (t \\right )} + 2 k H{\\left (t \\right )} z{\\left (t \\right )} - \\kappa a^{2}{\\left (t \\right )} \\delta{\\left (t \\right )}, \\quad \\frac{2 k^{2}}{3 a^{2}{\\left (t \\right )}} \\left(- \\operatorname{Kf}{\\left (1 \\right )} \\sigma{\\left (t \\right )} + z{\\left (t \\right )}\\right) + \\kappa q{\\left (t \\right )}\\right ]$$"
      ],
      "text/plain": [
       "⎡                                         2                2                  \n",
       "⎢ 3              k⋅κ⋅(Kf(1)⋅Π(t) + δ(t))⋅a (t)   3⋅κ⋅H(t)⋅a (t)⋅q(t)   2      \n",
       "⎢k ⋅Kf(1)⋅φ(t) + ───────────────────────────── + ───────────────────, k ⋅η(t) \n",
       "⎢                              2                          2                   \n",
       "⎣                                                                             \n",
       "\n",
       "                                   2                              ⎤\n",
       "                     2          2⋅k ⋅(-Kf(1)⋅σ(t) + z(t))         ⎥\n",
       "+ 2⋅k⋅H(t)⋅z(t) - κ⋅a (t)⋅δ(t), ───────────────────────── + κ⋅q(t)⎥\n",
       "                                            2                     ⎥\n",
       "                                         3⋅a (t)                  ⎦"
      ]
     },
     "execution_count": 5,
     "metadata": {},
     "output_type": "execute_result"
    }
   ],
   "source": [
    "#constraint equations relating variables\n",
    "cons1 = k**3*K_fac*phi(t)+kappa/2*(a(t))**2*k*(delta(t)+Pi(t)*K_fac)  +3*kappa/2*a(t)**2*H(t)*q(t)\n",
    "cons2 = k**2*eta(t)-kappa*a(t)**2*delta(t) + 2*k*H(t)*z(t)\n",
    "cons3 = 2*third*(k/a(t))**2*(z(t)-K_fac*sigma(t))+kappa*q(t)\n",
    "cons4 = hdot(t) - k/3*z(t)+H(t)*A(t)\n",
    "constraints = [cons1,cons2, cons3]\n",
    "constraints"
   ]
  },
  {
   "cell_type": "code",
   "execution_count": 6,
   "metadata": {
    "collapsed": false
   },
   "outputs": [],
   "source": [
    "phi_sub = Eq(phi(t),solve(cons1,phi(t)))"
   ]
  },
  {
   "cell_type": "code",
   "execution_count": 7,
   "metadata": {
    "collapsed": false
   },
   "outputs": [],
   "source": [
    "#Eliminate z [perturbation in expansion rate] in favour of the curvature perturbation eta\n",
    "z_sub=Eq(z(t),solve(cons2,z(t)))"
   ]
  },
  {
   "cell_type": "code",
   "execution_count": 8,
   "metadata": {
    "collapsed": false
   },
   "outputs": [],
   "source": [
    "sigma_sub=Eq(sigma(t),subs(z_sub,solve(cons3,sigma(t))))"
   ]
  },
  {
   "cell_type": "code",
   "execution_count": 9,
   "metadata": {
    "collapsed": false
   },
   "outputs": [],
   "source": [
    "hdot_sub = Eq(hdot(t),subs(z_sub,solve(cons4,hdot(t))))"
   ]
  },
  {
   "cell_type": "code",
   "execution_count": 10,
   "metadata": {
    "collapsed": false
   },
   "outputs": [
    {
     "data": {
      "image/png": "[encoded data removed]",
      "text/latex": [
       "$$\\left [ z{\\left (t \\right )} = \\frac{1}{2 k H{\\left (t \\right )}} \\left(- k^{2} \\eta{\\left (t \\right )} + \\kappa a^{2}{\\left (t \\right )} \\delta{\\left (t \\right )}\\right), \\quad \\sigma{\\left (t \\right )} = \\frac{1}{k^{2} \\operatorname{Kf}{\\left (1 \\right )}} \\left(\\frac{k}{2 H{\\left (t \\right )}} \\left(- k^{2} \\eta{\\left (t \\right )} + \\kappa a^{2}{\\left (t \\right )} \\delta{\\left (t \\right )}\\right) + \\frac{3 \\kappa}{2} a^{2}{\\left (t \\right )} q{\\left (t \\right )}\\right), \\quad \\phi{\\left (t \\right )} = - \\frac{\\kappa a^{2}{\\left (t \\right )}}{2 k^{3} \\operatorname{Kf}{\\left (1 \\right )}} \\left(k \\operatorname{Kf}{\\left (1 \\right )} \\Pi{\\left (t \\right )} + k \\delta{\\left (t \\right )} + 3 H{\\left (t \\right )} q{\\left (t \\right )}\\right), \\quad \\dot{h}{\\left (t \\right )} = \\frac{1}{6 H{\\left (t \\right )}} \\left(- k^{2} \\eta{\\left (t \\right )} + \\kappa a^{2}{\\left (t \\right )} \\delta{\\left (t \\right )}\\right) - A{\\left (t \\right )} H{\\left (t \\right )}\\right ]$$"
      ],
      "text/plain": [
       "⎡                                          ⎛   2           2        ⎞        2\n",
       "⎢                                        k⋅⎝- k ⋅η(t) + κ⋅a (t)⋅δ(t)⎠   3⋅κ⋅a \n",
       "⎢          2           2                 ──────────────────────────── + ──────\n",
       "⎢       - k ⋅η(t) + κ⋅a (t)⋅δ(t)                    2⋅H(t)                    \n",
       "⎢z(t) = ────────────────────────, σ(t) = ─────────────────────────────────────\n",
       "⎢               2⋅k⋅H(t)                                     2                \n",
       "⎣                                                           k ⋅Kf(1)          \n",
       "\n",
       "                                                                              \n",
       "(t)⋅q(t)                                                                      \n",
       "────────                                                   2                 2\n",
       "2                -κ⋅(k⋅Kf(1)⋅Π(t) + k⋅δ(t) + 3⋅H(t)⋅q(t))⋅a (t)           - k \n",
       "────────, φ(t) = ───────────────────────────────────────────────, ḣ(t) = ────\n",
       "                                       3                                      \n",
       "                                    2⋅k ⋅Kf(1)                                \n",
       "\n",
       "                                ⎤\n",
       "                                ⎥\n",
       "           2                    ⎥\n",
       "⋅η(t) + κ⋅a (t)⋅δ(t)            ⎥\n",
       "──────────────────── - A(t)⋅H(t)⎥\n",
       "     6⋅H(t)                     ⎥\n",
       "                                ⎦"
      ]
     },
     "execution_count": 10,
     "metadata": {},
     "output_type": "execute_result"
    }
   ],
   "source": [
    "var_subs=  [z_sub,sigma_sub,phi_sub,hdot_sub]\n",
    "var_subs"
   ]
  },
  {
   "cell_type": "code",
   "execution_count": 11,
   "metadata": {
    "collapsed": false
   },
   "outputs": [
    {
     "data": {
      "image/png": "[encoded data removed]",
      "text/latex": [
       "$$q{\\left (t \\right )} = \\frac{2 k^{2}}{3 \\kappa a^{2}{\\left (t \\right )}} \\left(\\operatorname{Kf}{\\left (1 \\right )} \\sigma{\\left (t \\right )} - \\frac{1}{2 k H{\\left (t \\right )}} \\left(- k^{2} \\eta{\\left (t \\right )} + \\kappa a^{2}{\\left (t \\right )} \\delta{\\left (t \\right )}\\right)\\right)$$"
      ],
      "text/plain": [
       "            ⎛                2           2        ⎞\n",
       "          2 ⎜             - k ⋅η(t) + κ⋅a (t)⋅δ(t)⎟\n",
       "       2⋅k ⋅⎜Kf(1)⋅σ(t) - ────────────────────────⎟\n",
       "            ⎝                     2⋅k⋅H(t)        ⎠\n",
       "q(t) = ────────────────────────────────────────────\n",
       "                             2                     \n",
       "                        3⋅κ⋅a (t)                  "
      ]
     },
     "execution_count": 11,
     "metadata": {},
     "output_type": "execute_result"
    }
   ],
   "source": [
    "q_sub = Eq(q(t),subs(z_sub,solve(cons3,q(t))))\n",
    "q_sub\n"
   ]
  },
  {
   "cell_type": "code",
   "execution_count": 12,
   "metadata": {
    "collapsed": false
   },
   "outputs": [],
   "source": [
    "dz = -H(t)*z(t) - kappa*a(t)**2/k/2*(delta(t)+3*delta_P(t)) + (3*kappa*a(t)**2*(rho(t)+P(t))/2)*A(t)/k+k*K_fac*A(t)"
   ]
  },
  {
   "cell_type": "code",
   "execution_count": 13,
   "metadata": {
    "collapsed": false
   },
   "outputs": [],
   "source": [
    "dsigma=-H(t)*sigma(t)+k*(phi(t)+A(t))-half*kappa*a(t)**2/k*Pi(t)"
   ]
  },
  {
   "cell_type": "code",
   "execution_count": 14,
   "metadata": {
    "collapsed": false
   },
   "outputs": [],
   "source": [
    "deta = -1/k*(2*K*z(t) + kappa*a(t)**2*q(t) +2*K_fac*k*H(t)*A(t))"
   ]
  },
  {
   "cell_type": "code",
   "execution_count": 15,
   "metadata": {
    "collapsed": false
   },
   "outputs": [],
   "source": [
    "dphi = -H(t)*phi(t)+half/k**2*kappa*a(t)**2*(k*(rho(t)+P(t))*sigma(t)+k*q(t)-diff(Pi(t),t)-H(t)*Pi(t))"
   ]
  },
  {
   "cell_type": "code",
   "execution_count": 16,
   "metadata": {
    "collapsed": false
   },
   "outputs": [
    {
     "data": {
      "image/png": "[encoded data removed]",
      "text/latex": [
       "$$\\left [ \\frac{d}{d t} z{\\left (t \\right )} = k A{\\left (t \\right )} \\operatorname{Kf}{\\left (1 \\right )} - H{\\left (t \\right )} z{\\left (t \\right )} + \\frac{3 \\kappa}{2 k} \\left(P{\\left (t \\right )} + \\rho{\\left (t \\right )}\\right) A{\\left (t \\right )} a^{2}{\\left (t \\right )} - \\frac{\\kappa}{2 k} \\left(\\delta{\\left (t \\right )} + 3 \\delta_{P}{\\left (t \\right )}\\right) a^{2}{\\left (t \\right )}, \\quad \\frac{d}{d t} \\sigma{\\left (t \\right )} = k \\left(A{\\left (t \\right )} + \\phi{\\left (t \\right )}\\right) - H{\\left (t \\right )} \\sigma{\\left (t \\right )} - \\frac{\\Pi{\\left (t \\right )}}{2 k} \\kappa a^{2}{\\left (t \\right )}, \\quad \\frac{d}{d t} \\eta{\\left (t \\right )} = - \\frac{1}{k} \\left(2 K z{\\left (t \\right )} + 2 k A{\\left (t \\right )} H{\\left (t \\right )} \\operatorname{Kf}{\\left (1 \\right )} + \\kappa a^{2}{\\left (t \\right )} q{\\left (t \\right )}\\right), \\quad \\frac{d}{d t} \\phi{\\left (t \\right )} = - H{\\left (t \\right )} \\phi{\\left (t \\right )} + \\frac{\\kappa}{2 k^{2}} \\left(k \\left(P{\\left (t \\right )} + \\rho{\\left (t \\right )}\\right) \\sigma{\\left (t \\right )} + k q{\\left (t \\right )} - H{\\left (t \\right )} \\Pi{\\left (t \\right )} - \\frac{d}{d t} \\Pi{\\left (t \\right )}\\right) a^{2}{\\left (t \\right )}\\right ]$$"
      ],
      "text/plain": [
       "⎡                                                                             \n",
       "⎢                                                              2              \n",
       "⎢d                                     3⋅κ⋅(P(t) + ρ(t))⋅A(t)⋅a (t)   κ⋅(δ(t) \n",
       "⎢──(z(t)) = k⋅A(t)⋅Kf(1) - H(t)⋅z(t) + ──────────────────────────── - ────────\n",
       "⎢dt                                                2⋅k                        \n",
       "⎣                                                                             \n",
       "\n",
       "                                                                              \n",
       "             2                                                      2         \n",
       "+ 3⋅δ_P(t))⋅a (t)  d                                        κ⋅Π(t)⋅a (t)  d   \n",
       "─────────────────, ──(σ(t)) = k⋅(A(t) + φ(t)) - H(t)⋅σ(t) - ────────────, ──(η\n",
       "   2⋅k             dt                                           2⋅k       dt  \n",
       "                                                                              \n",
       "\n",
       "                                                                              \n",
       "        ⎛                                    2        ⎞                       \n",
       "       -⎝2⋅K⋅z(t) + 2⋅k⋅A(t)⋅H(t)⋅Kf(1) + κ⋅a (t)⋅q(t)⎠   d                   \n",
       "(t)) = ─────────────────────────────────────────────────, ──(φ(t)) = -H(t)⋅φ(t\n",
       "                               k                          dt                  \n",
       "                                                                              \n",
       "\n",
       "      ⎛                                            d       ⎞  2   ⎤\n",
       "    κ⋅⎜k⋅(P(t) + ρ(t))⋅σ(t) + k⋅q(t) - H(t)⋅Π(t) - ──(Π(t))⎟⋅a (t)⎥\n",
       "      ⎝                                            dt      ⎠      ⎥\n",
       ") + ──────────────────────────────────────────────────────────────⎥\n",
       "                                    2                             ⎥\n",
       "                                 2⋅k                              ⎦"
      ]
     },
     "execution_count": 16,
     "metadata": {},
     "output_type": "execute_result"
    }
   ],
   "source": [
    "pert_eqs = [\n",
    "    Eq(diff(z(t),t),dz),\n",
    "    Eq(diff(sigma(t),t),dsigma),\n",
    "    Eq(diff(eta(t),t),deta),\n",
    "    Eq(diff(phi(t),t), dphi)]\n",
    "pert_eqs"
   ]
  },
  {
   "cell_type": "code",
   "execution_count": 17,
   "metadata": {
    "collapsed": false
   },
   "outputs": [
    {
     "data": {
      "image/png": "[encoded data removed]",
      "text/latex": [
       "$$\\frac{d}{d t} \\eta{\\left (t \\right )} = \\left(- \\frac{2 k}{3} \\sigma{\\left (t \\right )} + 2 \\dot{h}{\\left (t \\right )}\\right) \\operatorname{Kf}{\\left (1 \\right )}$$"
      ],
      "text/plain": [
       "d          ⎛  2⋅k⋅σ(t)          ⎞      \n",
       "──(η(t)) = ⎜- ──────── + 2⋅ḣ(t)⎟⋅Kf(1)\n",
       "dt         ⎝     3              ⎠      "
      ]
     },
     "execution_count": 17,
     "metadata": {},
     "output_type": "execute_result"
    }
   ],
   "source": [
    "assert(subs(K_sub,subs(var_subs,subs(q_sub,deta).simplify()-K_fac*(2*hdot(t) - 2*k/3*sigma(t)))).simplify()==0)\n",
    "Eq(diff(eta(t),t), K_fac*(2*hdot(t)-2*k/3*sigma(t))) "
   ]
  },
  {
   "cell_type": "code",
   "execution_count": 18,
   "metadata": {
    "collapsed": false
   },
   "outputs": [
    {
     "data": {
      "image/png": "[encoded data removed]",
      "text/latex": [
       "$$\\left [ \\frac{d}{d t} q{\\left (t \\right )} = - k \\left(P{\\left (t \\right )} + \\rho{\\left (t \\right )}\\right) A{\\left (t \\right )} - \\frac{2 k}{3} \\operatorname{Kf}{\\left (1 \\right )} \\Pi{\\left (t \\right )} + k \\delta_{P}{\\left (t \\right )} - 4 H{\\left (t \\right )} q{\\left (t \\right )}, \\quad \\frac{d}{d t} \\delta{\\left (t \\right )} = - k q{\\left (t \\right )} - 3 \\left(P{\\left (t \\right )} + \\rho{\\left (t \\right )}\\right) \\dot{h}{\\left (t \\right )} - 3 \\left(\\delta{\\left (t \\right )} + \\delta_{P}{\\left (t \\right )}\\right) H{\\left (t \\right )}\\right ]$$"
      ],
      "text/plain": [
       "⎡d                                  2⋅k⋅Kf(1)⋅Π(t)                           d\n",
       "⎢──(q(t)) = -k⋅(P(t) + ρ(t))⋅A(t) - ────────────── + k⋅δ_P(t) - 4⋅H(t)⋅q(t), ─\n",
       "⎣dt                                       3                                  d\n",
       "\n",
       "                                                                  ⎤\n",
       "─(δ(t)) = -k⋅q(t) - 3⋅(P(t) + ρ(t))⋅ḣ(t) - 3⋅(δ(t) + δ_P(t))⋅H(t)⎥\n",
       "t                                                                 ⎦"
      ]
     },
     "execution_count": 18,
     "metadata": {},
     "output_type": "execute_result"
    }
   ],
   "source": [
    "drag_t=opac(t)*(4*v_b(t)/3-q_g(t))\n",
    "photbar_t =rho_g(t)/rho_b(t);\n",
    "dgrho_t =kappa*a(t)**2*delta(t);\n",
    "\n",
    "total_eqs = [\n",
    "     Eq(diff(q(t),t),k*delta_P(t)-4*H(t)*q(t)-2*third*k*K_fac*Pi(t) -(rho(t)+P(t))*k*A(t)),\n",
    "     Eq(diff(delta(t),t),-k*q(t) - 3*H(t)*(delta(t) + delta_P(t)) - 3*hdot(t)*(rho(t)+P(t)))\n",
    "]\n",
    "\n",
    "tot_eqs = total_eqs + pert_eqs + background_eqs\n",
    "total_eqs"
   ]
  },
  {
   "cell_type": "code",
   "execution_count": 19,
   "metadata": {
    "collapsed": true
   },
   "outputs": [],
   "source": [
    "#check consistency of constraint equations with evolution equations\n",
    "assert(subs(var_subs,subs(tot_eqs,diff(cons3,t))).simplify()==0)\n",
    "assert(subs(Friedmann,subs(var_subs,subs(tot_eqs,diff(cons2,t))).simplify()).simplify()==0)\n",
    "assert(subs(K_sub,subs(Friedmann,subs(var_subs,subs(tot_eqs,diff(cons1,t))).simplify())).simplify()==0)"
   ]
  },
  {
   "cell_type": "code",
   "execution_count": 20,
   "metadata": {
    "collapsed": false
   },
   "outputs": [
    {
     "data": {
      "image/png": "[encoded data removed]",
      "text/latex": [
       "$$\\left [ \\Psi{\\left (t \\right )} = - A{\\left (t \\right )} + \\frac{1}{k} \\left(H{\\left (t \\right )} \\sigma{\\left (t \\right )} + \\frac{d}{d t} \\sigma{\\left (t \\right )}\\right), \\quad \\Phi{\\left (t \\right )} = - \\frac{\\eta{\\left (t \\right )}}{2 \\operatorname{Kf}{\\left (1 \\right )}} - \\frac{1}{k} H{\\left (t \\right )} \\sigma{\\left (t \\right )}\\right ]$$"
      ],
      "text/plain": [
       "⎡                           d                                     ⎤\n",
       "⎢               H(t)⋅σ(t) + ──(σ(t))                              ⎥\n",
       "⎢                           dt                   η(t)    H(t)⋅σ(t)⎥\n",
       "⎢Ψ(t) = -A(t) + ────────────────────, Φ(t) = - ─────── - ─────────⎥\n",
       "⎣                        k                     2⋅Kf(1)       k    ⎦"
      ]
     },
     "execution_count": 20,
     "metadata": {},
     "output_type": "execute_result"
    }
   ],
   "source": [
    "#Newtonian gauge variables in general. Note sigma here is the shear, Pi the anisotropic stress\n",
    "Newt_vars = [Eq(Psi(t), -A(t) + (diff(sigma(t),t)+H(t)*sigma(t))/k), Eq(Phi(t),-eta(t)/2/K_fac - H(t)*sigma(t)/k)]\n",
    "assert(subs(var_subs,subs(pert_eqs,subs(Newt_vars,Phi(t)+Psi(t)-2*phi(t)))).simplify()==0)\n",
    "Newt_vars"
   ]
  },
  {
   "cell_type": "markdown",
   "metadata": {},
   "source": [
    "Newtonian gauge variables $\\Psi$ and $\\Phi$ (not used in CAMB but may be useful) defined for metrix sign choices so flat metric is\n",
    "$$ds^2 = a(\\eta)^2\\left( (1+2\\Psi)d\\eta^2 - (1-2\\Phi)\\delta_{ij}dx^idx^j\\right)$$\n",
    "(default, as defined by [Ma and Bertschinger](https://arxiv.org/abs/astro-ph/9506072), number count and 21cm papers, etc.)\n",
    "or\n",
    "$$ds^2 = a(\\eta)^2\\left( (1+2\\Psi_N)d\\eta^2 - (1+2\\Phi_N)\\delta_{ij}dx^idx^j\\right)$$\n",
    "(as defined by [Hu et.al.](https://arxiv.org/abs/astro-ph/9709066), lensing review, etc.) \n"
   ]
  },
  {
   "cell_type": "code",
   "execution_count": 21,
   "metadata": {
    "collapsed": false
   },
   "outputs": [
    {
     "data": {
      "image/png": "[encoded data removed]",
      "text/latex": [
       "$$\\left [ A{\\left (t \\right )} = - \\Psi{\\left (t \\right )}, \\quad \\frac{d^{2}}{d t^{2}}  \\sigma{\\left (t \\right )} = 0, \\quad \\frac{d}{d t} \\sigma{\\left (t \\right )} = 0, \\quad \\sigma{\\left (t \\right )} = 0, \\quad \\phi{\\left (t \\right )} = \\frac{1}{2} \\Phi{\\left (t \\right )} + \\frac{1}{2} \\Psi{\\left (t \\right )}, \\quad \\eta{\\left (t \\right )} = - 2 \\operatorname{Kf}{\\left (1 \\right )} \\Phi{\\left (t \\right )}, \\quad \\dot{h}{\\left (t \\right )} = - \\frac{d}{d t} \\Phi{\\left (t \\right )}, \\quad z{\\left (t \\right )} = \\frac{1}{2 k H{\\left (t \\right )}} \\left(2 k^{2} \\operatorname{Kf}{\\left (1 \\right )} \\Phi{\\left (t \\right )} + \\kappa a^{2}{\\left (t \\right )} \\delta{\\left (t \\right )}\\right)\\right ]$$"
      ],
      "text/plain": [
       "⎡                2                                                            \n",
       "⎢               d             d                              Φ(t)   Ψ(t)      \n",
       "⎢A(t) = -Ψ(t), ───(σ(t)) = 0, ──(σ(t)) = 0, σ(t) = 0, φ(t) = ──── + ────, η(t)\n",
       "⎢                2            dt                              2      2        \n",
       "⎣              dt                                                             \n",
       "\n",
       "                                               2                 2        ⎤\n",
       "                           d                2⋅k ⋅Kf(1)⋅Φ(t) + κ⋅a (t)⋅δ(t)⎥\n",
       " = -2⋅Kf(1)⋅Φ(t), ḣ(t) = -──(Φ(t)), z(t) = ──────────────────────────────⎥\n",
       "                           dt                          2⋅k⋅H(t)           ⎥\n",
       "                                                                          ⎦"
      ]
     },
     "execution_count": 21,
     "metadata": {},
     "output_type": "execute_result"
    }
   ],
   "source": [
    "Newtonian_subs1 = [Eq(Phi(t),phi(t)+half*a(t)**2*kappa*Pi(t)/k**2),\n",
    "                   Eq(Psi(t),phi(t)-half*a(t)**2*kappa*Pi(t)/k**2)]\n",
    "\n",
    "Newtonian_subs2 = [Eq(Phi_N(t),-phi(t)-half*a(t)**2*kappa*Pi(t)/k**2),\n",
    " Eq(Psi_N(t),phi(t)-half*a(t)**2*kappa*Pi(t)/k**2)]\n",
    "\n",
    "#Newtonian gauge has zero shear\n",
    "Newt_subs = [ Eq(A(t), -Psi(t)), Eq(diff(sigma(t),t,t),0), Eq(diff(sigma(t),t),0), \n",
    "             Eq(sigma(t),0), Eq(phi(t),(Phi(t)+Psi(t))/2), Eq(eta(t), -2*Phi(t)*K_fac), Eq(hdot(t), -diff(Phi(t),t))]\n",
    "Newt_subs+= [subs(Newt_subs,z_sub)]\n",
    "\n",
    "def newtonian_gauge(x, convention=1):\n",
    "    if isinstance(x,(list,tuple)):\n",
    "        return [newtonian_gauge(y) for y in x]\n",
    "    res = subs(Newt_subs,x)\n",
    "    if res != True:\n",
    "        res = res.simplify()\n",
    "        res2 = res.subs(Psi(t), Phi(t) - a(t)**2*kappa*Pi(t)/k**2).simplify()\n",
    "        if len(str(res2)) < len(str(res)):\n",
    "            res= res2\n",
    "        if convention==2:\n",
    "            return res.subs(Phi(t), -Phi_N(t)).subs(Psi(t),Psi_N(t))\n",
    "        else:\n",
    "            return res\n",
    "    else:\n",
    "        return res\n",
    "\n",
    "\n",
    "assert(newtonian_gauge(dsigma)==0)\n",
    "\n",
    "Newt_subs"
   ]
  },
  {
   "cell_type": "code",
   "execution_count": 22,
   "metadata": {
    "collapsed": false
   },
   "outputs": [
    {
     "data": {
      "image/png": "[encoded data removed]",
      "text/latex": [
       "$$\\frac{\\kappa}{2 k} a^{2}{\\left (t \\right )} q{\\left (t \\right )}$$"
      ],
      "text/plain": [
       "   2        \n",
       "κ⋅a (t)⋅q(t)\n",
       "────────────\n",
       "    2⋅k     "
      ]
     },
     "execution_count": 22,
     "metadata": {},
     "output_type": "execute_result"
    }
   ],
   "source": [
    "#e.g. get the Newtonian gauge equation for diff(Phi(t),t) + H(t)*Psi(t) \n",
    "#[eq 23b of Ma and Bertschinger, noting that their (rho+P)theta = k q since q = (rho+P)v]\n",
    "newtonian_gauge(subs(tot_eqs,subs(Newtonian_subs1,(diff(Phi(t),t) + H(t)*Psi(t))).simplify().doit()))"
   ]
  },
  {
   "cell_type": "code",
   "execution_count": 23,
   "metadata": {
    "collapsed": true
   },
   "outputs": [],
   "source": [
    "#Relations for setting the sychronous gauge. note however that hdot and eta still differ from Ma & Bertshinger by factors\n",
    "#zero acceleration, comoving with CDM\n",
    "sync_subs = [Eq(diff(A(t),t),0), Eq(A(t),0), Eq(v_c(t),0)]\n",
    "def cdm_gauge(x):\n",
    "    if isinstance(x,(list,tuple)):\n",
    "        return [cdm_gauge(y) for y in x]\n",
    "    return subs(sync_subs,x).simplify()\n",
    "    "
   ]
  },
  {
   "cell_type": "markdown",
   "metadata": {},
   "source": [
    "Define synchonous gauge variables in Ma and Bertschinger notation (generalized to non-flat)\n",
    "\n",
    "In terms of [Hu et al](https://arxiv.org/abs/astro-ph/9709066) variables $h_L+ h_T/3 = \\eta_s$ and $h_L = -h_s/6$"
   ]
  },
  {
   "cell_type": "code",
   "execution_count": 24,
   "metadata": {
    "collapsed": false
   },
   "outputs": [
    {
     "data": {
      "image/png": "[encoded data removed]",
      "text/latex": [
       "$$\\left [ \\eta{\\left (t \\right )} = - 2 \\operatorname{Kf}{\\left (1 \\right )} \\eta_{s}{\\left (t \\right )}, \\quad \\dot{h}{\\left (t \\right )} = \\frac{1}{6} \\dot{h}_{s}{\\left (t \\right )}, \\quad \\phi{\\left (t \\right )} = - \\frac{\\kappa a^{2}{\\left (t \\right )}}{2 k^{3} \\operatorname{Kf}{\\left (1 \\right )}} \\left(k \\operatorname{Kf}{\\left (1 \\right )} \\Pi{\\left (t \\right )} + k \\delta{\\left (t \\right )} + 3 H{\\left (t \\right )} q{\\left (t \\right )}\\right), \\quad z{\\left (t \\right )} = \\frac{\\dot{h}_{s}{\\left (t \\right )}}{2 k}, \\quad \\sigma{\\left (t \\right )} = \\frac{1}{2 k} \\left(\\dot{h}_{s}{\\left (t \\right )} + 6 \\frac{d}{d t} \\eta_{s}{\\left (t \\right )}\\right)\\right ]$$"
      ],
      "text/plain": [
       "⎡                                                                             \n",
       "⎢                                                                             \n",
       "⎢                                ḣ_s(t)         -κ⋅(k⋅Kf(1)⋅Π(t) + k⋅δ(t) + 3\n",
       "⎢η(t) = -2⋅Kf(1)⋅η_s(t), ḣ(t) = ───────, φ(t) = ─────────────────────────────\n",
       "⎢                                   6                                  3      \n",
       "⎣                                                                   2⋅k ⋅Kf(1)\n",
       "\n",
       "                                                       d         ⎤\n",
       "             2                             ḣ_s(t) + 6⋅──(η_s(t))⎥\n",
       "⋅H(t)⋅q(t))⋅a (t)          ḣ_s(t)                     dt        ⎥\n",
       "──────────────────, z(t) = ───────, σ(t) = ──────────────────────⎥\n",
       "                             2⋅k                    2⋅k          ⎥\n",
       "                                                                 ⎦"
      ]
     },
     "execution_count": 24,
     "metadata": {},
     "output_type": "execute_result"
    }
   ],
   "source": [
    "synchronous_subs = [Eq(eta_s(t),-eta(t)/2/K_fac), Eq(hdot_s(t),6*hdot(t))]\n",
    "\n",
    "\n",
    "synch_subs = [Eq(eta(t),-2*K_fac*eta_s(t)), Eq(hdot(t),hdot_s(t)/6), phi_sub ]\n",
    "synch_subs += [subs(synch_subs, Eq(z(t), solve(cons4,z(t)))), \n",
    "                                Eq(sigma(t),(hdot_s(t)+diff(6*eta_s(t),t))/2/k)]\n",
    "\n",
    "assert(subs(K_sub,subs(var_subs,subs(pert_eqs,subs(synchronous_subs,subs(synch_subs,sigma(t)) - sigma(t))\n",
    "                              .doit())).simplify().collect(eta(t))).simplify()==0)\n",
    "\n",
    "synch_subs = cdm_gauge(synch_subs)\n",
    "\n",
    "def synchronous_gauge(x, convention=1):\n",
    "    if isinstance(x,(list,tuple)):\n",
    "        return [synchronous_gauge(y) for y in x]\n",
    "    res = subs(synch_subs,cdm_gauge(x))\n",
    "    if res != True:\n",
    "        return res.simplify()\n",
    "    else:\n",
    "        return res\n",
    "\n",
    "synch_subs"
   ]
  },
  {
   "cell_type": "code",
   "execution_count": 25,
   "metadata": {
    "collapsed": false
   },
   "outputs": [
    {
     "data": {
      "image/png": "[encoded data removed]",
      "text/latex": [
       "$$\\phi{\\left (t \\right )} = \\frac{1}{4 k^{2}} \\left(2 k^{2} \\eta_{s}{\\left (t \\right )} + \\frac{d}{d t} \\dot{h}_{s}{\\left (t \\right )} + 6 \\frac{d^{2}}{d t^{2}}  \\eta_{s}{\\left (t \\right )}\\right)$$"
      ],
      "text/plain": [
       "                                       2        \n",
       "          2          d                d         \n",
       "       2⋅k ⋅η_s(t) + ──(ḣ_s(t)) + 6⋅───(η_s(t))\n",
       "                     dt                2        \n",
       "                                     dt         \n",
       "φ(t) = ─────────────────────────────────────────\n",
       "                             2                  \n",
       "                          4⋅k                   "
      ]
     },
     "execution_count": 25,
     "metadata": {},
     "output_type": "execute_result"
    }
   ],
   "source": [
    "#Alternative pure-metric expression for phi\n",
    "Eq(phi(t),subs(Eq(Pi(t),-(3*diff(eta_s(t),t,t)+diff(hdot_s(t),t)/2 + 2*(3*H(t)*diff(eta_s(t),t) + H(t)*hdot_s(t)/2) - k**2*eta_s(t))/kappa/a(t)**2),\n",
    " synchronous_gauge(subs(sympy.solve([var_subs[0],var_subs[1],var_subs[3]], (delta(t), q(t), A(t))), phi_sub).rhs)).simplify())"
   ]
  },
  {
   "cell_type": "code",
   "execution_count": 26,
   "metadata": {
    "collapsed": false
   },
   "outputs": [
    {
     "data": {
      "image/png": "[encoded data removed]",
      "text/latex": [
       "$$- \\frac{\\kappa}{2} a^{2}{\\left (t \\right )} \\delta{\\left (t \\right )}$$"
      ],
      "text/plain": [
       "    2         \n",
       "-κ⋅a (t)⋅δ(t) \n",
       "──────────────\n",
       "      2       "
      ]
     },
     "execution_count": 26,
     "metadata": {},
     "output_type": "execute_result"
    }
   ],
   "source": [
    "#Check the four synchronous gauge equations\n",
    "synchronous_gauge(subs(var_subs,subs(synchronous_subs, K_fac*k**2*eta_s(t)-H(t)*hdot_s(t)/2)).simplify())"
   ]
  },
  {
   "cell_type": "code",
   "execution_count": 27,
   "metadata": {
    "collapsed": false
   },
   "outputs": [
    {
     "data": {
      "image/png": "[encoded data removed]",
      "text/latex": [
       "$$\\frac{\\kappa}{2 k} a^{2}{\\left (t \\right )} q{\\left (t \\right )}$$"
      ],
      "text/plain": [
       "   2        \n",
       "κ⋅a (t)⋅q(t)\n",
       "────────────\n",
       "    2⋅k     "
      ]
     },
     "execution_count": 27,
     "metadata": {},
     "output_type": "execute_result"
    }
   ],
   "source": [
    "synchronous_gauge(subs(pert_eqs,subs(synchronous_subs, -K/2*hdot_s(t)/k**2 + K_fac*diff(eta_s(t),t)).doit()))"
   ]
  },
  {
   "cell_type": "code",
   "execution_count": 28,
   "metadata": {
    "collapsed": false
   },
   "outputs": [
    {
     "data": {
      "image/png": "[encoded data removed]",
      "text/latex": [
       "$$\\frac{\\kappa}{6} \\left(\\delta{\\left (t \\right )} + 3 \\delta_{P}{\\left (t \\right )}\\right) a^{2}{\\left (t \\right )}$$"
      ],
      "text/plain": [
       "                     2   \n",
       "κ⋅(δ(t) + 3⋅δ_P(t))⋅a (t)\n",
       "─────────────────────────\n",
       "            6            "
      ]
     },
     "execution_count": 28,
     "metadata": {},
     "output_type": "execute_result"
    }
   ],
   "source": [
    "synchronous_gauge(subs(K_sub,subs(Friedmann,subs(var_subs,subs(total_eqs,subs(background_eqs,subs(pert_eqs,subs(var_subs,\n",
    "        subs(synchronous_subs, -(diff(hdot_s(t),t) + H(t)*hdot_s(t))/6).doit()).doit())).simplify().expand())\n",
    "    ).simplify().expand())).simplify())"
   ]
  },
  {
   "cell_type": "code",
   "execution_count": 29,
   "metadata": {
    "collapsed": false
   },
   "outputs": [
    {
     "data": {
      "image/png": "[encoded data removed]",
      "text/latex": [
       "$$- \\kappa \\Pi{\\left (t \\right )} a^{2}{\\left (t \\right )}$$"
      ],
      "text/plain": [
       "         2   \n",
       "-κ⋅Π(t)⋅a (t)"
      ]
     },
     "execution_count": 29,
     "metadata": {},
     "output_type": "execute_result"
    }
   ],
   "source": [
    "#Seems to be a factor of 2 missing in last line of eq A8 of Hu et al.\n",
    "synchronous_gauge(subs(q_sub,subs(K_sub,subs(Friedmann,subs(var_subs,subs(tot_eqs+background_eqs,subs(var_subs,subs(pert_eqs,subs(synchronous_subs,\n",
    "    3*diff(eta_s(t),t,t)+diff(hdot_s(t),t)/2 + 2*(3*H(t)*diff(eta_s(t),t) + H(t)*hdot_s(t)/2) - k**2*eta_s(t)).doit()).doit()).doit()))\n",
    "                  .simplify()))))"
   ]
  },
  {
   "cell_type": "code",
   "execution_count": 30,
   "metadata": {
    "collapsed": true
   },
   "outputs": [],
   "source": [
    "#Fluid components"
   ]
  },
  {
   "cell_type": "code",
   "execution_count": 31,
   "metadata": {
    "collapsed": false
   },
   "outputs": [
    {
     "data": {
      "image/png": "[encoded data removed]",
      "text/latex": [
       "$$\\left [ \\frac{d}{d t} \\rho_{b}{\\left (t \\right )} = - 3 \\left(\\operatorname{p_{b}}{\\left (t \\right )} + \\rho_{b}{\\left (t \\right )}\\right) H{\\left (t \\right )}, \\quad \\frac{d}{d t} \\rho_{c}{\\left (t \\right )} = - 3 H{\\left (t \\right )} \\rho_{c}{\\left (t \\right )}, \\quad \\frac{d}{d t} \\rho_{g}{\\left (t \\right )} = - 4 H{\\left (t \\right )} \\rho_{g}{\\left (t \\right )}, \\quad \\frac{d}{d t} \\rho_{r}{\\left (t \\right )} = - 4 H{\\left (t \\right )} \\rho_{r}{\\left (t \\right )}, \\quad \\frac{d}{d t} \\rho_{\\nu}{\\left (t \\right )} = - 3 \\left(\\operatorname{p_{\\nu}}{\\left (t \\right )} + \\rho_{\\nu}{\\left (t \\right )}\\right) H{\\left (t \\right )}, \\quad \\frac{d}{d t} \\rho_{de}{\\left (t \\right )} = - 3 \\left(\\operatorname{w_{de}}{\\left (t \\right )} + 1\\right) H{\\left (t \\right )} \\rho_{de}{\\left (t \\right )}\\right ]$$"
      ],
      "text/plain": [
       "⎡d                                       d                            d       \n",
       "⎢──(ρ_b(t)) = -3⋅(p_b(t) + ρ_b(t))⋅H(t), ──(ρ_c(t)) = -3⋅H(t)⋅ρ_c(t), ──(ρ_g(t\n",
       "⎣dt                                      dt                           dt      \n",
       "\n",
       "                     d                          d                             \n",
       ")) = -4⋅H(t)⋅ρ_g(t), ──(ρᵣ(t)) = -4⋅H(t)⋅ρᵣ(t), ──(ρ_ν(t)) = -3⋅(p_ν(t) + ρ_ν(\n",
       "                     dt                         dt                            \n",
       "\n",
       "          d                                          ⎤\n",
       "t))⋅H(t), ──(ρ_de(t)) = -3⋅(w_de(t) + 1)⋅H(t)⋅ρ_de(t)⎥\n",
       "          dt                                         ⎦"
      ]
     },
     "execution_count": 31,
     "metadata": {},
     "output_type": "execute_result"
    }
   ],
   "source": [
    "density_eqs = [\n",
    " Eq(diff(rho_b(t),t),-3*H(t)*(rho_b(t)+p_b(t))),\n",
    " Eq(diff(rho_c(t),t),-3*H(t)*(rho_c(t))),\n",
    " Eq(diff(rho_g(t),t),-4*H(t)*(rho_g(t))),\n",
    " Eq(diff(rho_r(t),t),-4*H(t)*(rho_r(t))),\n",
    " Eq(diff(rho_nu(t),t),-3*H(t)*(rho_nu(t)+p_nu(t))),\n",
    " Eq(diff(rho_de(t),t),-3*H(t)*(rho_de(t)*(1+w_de(t))))\n",
    "]\n",
    "density_eqs\n"
   ]
  },
  {
   "cell_type": "code",
   "execution_count": 32,
   "metadata": {
    "collapsed": false
   },
   "outputs": [
    {
     "data": {
      "image/png": "[encoded data removed]",
      "text/latex": [
       "$$\\left [ \\frac{d}{d t} \\Delta_{r}{\\left (t \\right )} = - k \\operatorname{q_{r}}{\\left (t \\right )} - 4 \\dot{h}{\\left (t \\right )}, \\quad \\frac{d}{d t} \\Delta_{g}{\\left (t \\right )} = - k \\operatorname{q_{g}}{\\left (t \\right )} - 4 \\dot{h}{\\left (t \\right )}, \\quad \\frac{d}{d t} \\Delta_{b}{\\left (t \\right )} = \\left(k \\operatorname{v_{b}}{\\left (t \\right )} + 3 \\dot{h}{\\left (t \\right )}\\right) \\left(- \\frac{\\operatorname{p_{b}}{\\left (t \\right )}}{\\rho_{b}{\\left (t \\right )}} - 1\\right) + \\left(- 3 \\operatorname{c^{2}_{sb}}{\\left (t \\right )} + \\frac{3 \\operatorname{p_{b}}{\\left (t \\right )}}{\\rho_{b}{\\left (t \\right )}}\\right) \\Delta_{b}{\\left (t \\right )} H{\\left (t \\right )}, \\quad \\frac{d}{d t} \\Delta_{c}{\\left (t \\right )} = - k \\operatorname{v_{c}}{\\left (t \\right )} - 3 \\dot{h}{\\left (t \\right )}, \\quad \\frac{d}{d t} \\Delta_{\\nu}{\\left (t \\right )} = - k \\operatorname{q_{\\nu}}{\\left (t \\right )} + \\left(- \\frac{3 \\operatorname{p_{\\nu}}{\\left (t \\right )}}{\\rho_{\\nu}{\\left (t \\right )}} - 3\\right) \\dot{h}{\\left (t \\right )} + 3 \\left(- \\Delta_{P \\nu}{\\left (t \\right )} + \\frac{\\Delta_{\\nu}{\\left (t \\right )} \\operatorname{p_{\\nu}}{\\left (t \\right )}}{\\rho_{\\nu}{\\left (t \\right )}}\\right) H{\\left (t \\right )}, \\quad \\frac{d}{d t} \\Delta_{de}{\\left (t \\right )} = - k \\left(\\operatorname{w_{de}}{\\left (t \\right )} + 1\\right) \\operatorname{v_{de}}{\\left (t \\right )} - 3 \\left(\\Delta_{de}{\\left (t \\right )} + \\frac{3}{k} \\left(\\operatorname{w_{de}}{\\left (t \\right )} + 1\\right) H{\\left (t \\right )} \\operatorname{v_{de}}{\\left (t \\right )}\\right) \\left(\\hat{c}^{2}_{sde}{\\left (t \\right )} - \\operatorname{w_{de}}{\\left (t \\right )}\\right) H{\\left (t \\right )} + \\left(- 3 \\operatorname{w_{de}}{\\left (t \\right )} - 3\\right) \\dot{h}{\\left (t \\right )} - \\frac{3}{k} H{\\left (t \\right )} \\operatorname{v_{de}}{\\left (t \\right )} \\frac{d}{d t} \\operatorname{w_{de}}{\\left (t \\right )}\\right ]$$"
      ],
      "text/plain": [
       "⎡                                                                             \n",
       "⎢                                                                             \n",
       "⎢d                               d                                 d          \n",
       "⎢──(Δᵣ(t)) = -k⋅qᵣ(t) - 4⋅ḣ(t), ──(Δ_g(t)) = -k⋅q_g(t) - 4⋅ḣ(t), ──(Δ_b(t)) \n",
       "⎣dt                              dt                                dt         \n",
       "\n",
       "                                                                              \n",
       "                                                                              \n",
       "                       ⎛  p_b(t)    ⎞   ⎛                3⋅p_b(t)⎞            \n",
       "= (k⋅v_b(t) + 3⋅ḣ(t))⋅⎜- ────── - 1⎟ + ⎜-3⋅c_sb__2(t) + ────────⎟⋅Δ_b(t)⋅H(t)\n",
       "                       ⎝  ρ_b(t)    ⎠   ⎝                 ρ_b(t) ⎠            \n",
       "\n",
       "                                                                              \n",
       "                                                                              \n",
       "  d                                 d                        ⎛  3⋅p_ν(t)    ⎞ \n",
       ", ──(Δ_c(t)) = -k⋅v_c(t) - 3⋅ḣ(t), ──(Δ_ν(t)) = -k⋅q_ν(t) + ⎜- ──────── - 3⎟⋅\n",
       "  dt                                dt                       ⎝   ρ_ν(t)     ⎠ \n",
       "\n",
       "                                                                              \n",
       "                                                                              \n",
       "          ⎛            Δ_ν(t)⋅p_ν(t)⎞       d                                 \n",
       "ḣ(t) + 3⋅⎜-Δ_P_ν(t) + ─────────────⎟⋅H(t), ──(Δ_de(t)) = -k⋅(w_de(t) + 1)⋅v_d\n",
       "          ⎝                ρ_ν(t)   ⎠       dt                                \n",
       "\n",
       "                                                                              \n",
       "                                                                              \n",
       "         ⎛          3⋅(w_de(t) + 1)⋅H(t)⋅v_de(t)⎞                             \n",
       "e(t) - 3⋅⎜Δ_de(t) + ────────────────────────────⎟⋅(ĉ_sde__2(t) - w_de(t))⋅H(t\n",
       "         ⎝                       k              ⎠                             \n",
       "\n",
       "                                            d          ⎤\n",
       "                             3⋅H(t)⋅v_de(t)⋅──(w_de(t))⎥\n",
       "                                            dt         ⎥\n",
       ") + (-3⋅w_de(t) - 3)⋅ḣ(t) - ──────────────────────────⎥\n",
       "                                         k             ⎦"
      ]
     },
     "execution_count": 32,
     "metadata": {},
     "output_type": "execute_result"
    }
   ],
   "source": [
    "delta_eqs = [\n",
    "   Eq(diff(Delta_r(t),t),-4*hdot(t)-k*q_r(t)),\n",
    "   Eq(diff(Delta_g(t),t),-4*hdot(t)-k*q_g(t)),\n",
    "   Eq(diff(Delta_b(t),t),-(1+p_b(t)/rho_b(t))*(3*hdot(t)+k*v_b(t))\n",
    "                       +(p_b(t)/rho_b(t)-csq_b(t))*3*H(t)*Delta_b(t)),\n",
    "   Eq(diff(Delta_c(t),t), -3*hdot(t) -k*v_c(t)),\n",
    "   Eq(diff(Delta_nu(t),t), -3*(1+p_nu(t)/rho_nu(t))*hdot(t) \n",
    "            - k*q_nu(t) +3*H(t)*(-Delta_P_nu(t) + Delta_nu(t)*p_nu(t)/rho_nu(t))),\n",
    "   Eq(diff(Delta_de(t),t), \n",
    "      -3*(1+w_de(t))*hdot(t)-(1+w_de(t))*k*v_de(t)-3*H(t)*(csqhat_de(t)-w_de(t))*(Delta_de(t)+3*H(t)*(1+w_de(t))*v_de(t)/k)\n",
    "     - 3*H(t)*diff(w_de(t),t)*v_de(t)/k)  \n",
    "]\n",
    "delta_eqs"
   ]
  },
  {
   "cell_type": "code",
   "execution_count": 33,
   "metadata": {
    "collapsed": false
   },
   "outputs": [
    {
     "data": {
      "image/png": "[encoded data removed]",
      "text/latex": [
       "$$\\left [ \\frac{d}{d t} \\Delta_{r}{\\left (t \\right )} = - k \\operatorname{q_{r}}{\\left (t \\right )} + 4 \\frac{d}{d t} \\Phi{\\left (t \\right )}, \\quad \\frac{d}{d t} \\Delta_{g}{\\left (t \\right )} = - k \\operatorname{q_{g}}{\\left (t \\right )} + 4 \\frac{d}{d t} \\Phi{\\left (t \\right )}, \\quad \\frac{d}{d t} \\Delta_{b}{\\left (t \\right )} = - \\frac{1}{\\rho_{b}{\\left (t \\right )}} \\left(\\left(k \\operatorname{v_{b}}{\\left (t \\right )} - 3 \\frac{d}{d t} \\Phi{\\left (t \\right )}\\right) \\left(\\operatorname{p_{b}}{\\left (t \\right )} + \\rho_{b}{\\left (t \\right )}\\right) + 3 \\left(\\operatorname{c^{2}_{sb}}{\\left (t \\right )} \\rho_{b}{\\left (t \\right )} - \\operatorname{p_{b}}{\\left (t \\right )}\\right) \\Delta_{b}{\\left (t \\right )} H{\\left (t \\right )}\\right), \\quad \\frac{d}{d t} \\Delta_{c}{\\left (t \\right )} = - k \\operatorname{v_{c}}{\\left (t \\right )} + 3 \\frac{d}{d t} \\Phi{\\left (t \\right )}, \\quad \\frac{d}{d t} \\Delta_{\\nu}{\\left (t \\right )} = \\frac{1}{\\rho_{\\nu}{\\left (t \\right )}} \\left(- k \\operatorname{q_{\\nu}}{\\left (t \\right )} \\rho_{\\nu}{\\left (t \\right )} - 3 \\left(\\Delta_{P \\nu}{\\left (t \\right )} \\rho_{\\nu}{\\left (t \\right )} - \\Delta_{\\nu}{\\left (t \\right )} \\operatorname{p_{\\nu}}{\\left (t \\right )}\\right) H{\\left (t \\right )} + 3 \\left(\\operatorname{p_{\\nu}}{\\left (t \\right )} + \\rho_{\\nu}{\\left (t \\right )}\\right) \\frac{d}{d t} \\Phi{\\left (t \\right )}\\right), \\quad \\frac{d}{d t} \\Delta_{de}{\\left (t \\right )} = \\frac{1}{k} \\left(k \\left(- k \\operatorname{v_{de}}{\\left (t \\right )} + 3 \\frac{d}{d t} \\Phi{\\left (t \\right )}\\right) \\left(\\operatorname{w_{de}}{\\left (t \\right )} + 1\\right) - 3 \\left(k \\Delta_{de}{\\left (t \\right )} + 3 \\left(\\operatorname{w_{de}}{\\left (t \\right )} + 1\\right) H{\\left (t \\right )} \\operatorname{v_{de}}{\\left (t \\right )}\\right) \\left(\\hat{c}^{2}_{sde}{\\left (t \\right )} - \\operatorname{w_{de}}{\\left (t \\right )}\\right) H{\\left (t \\right )} - 3 H{\\left (t \\right )} \\operatorname{v_{de}}{\\left (t \\right )} \\frac{d}{d t} \\operatorname{w_{de}}{\\left (t \\right )}\\right)\\right ]$$"
      ],
      "text/plain": [
       "⎡                                                                             \n",
       "⎢                                                                             \n",
       "⎢d                        d         d                          d         d    \n",
       "⎢──(Δᵣ(t)) = -k⋅qᵣ(t) + 4⋅──(Φ(t)), ──(Δ_g(t)) = -k⋅q_g(t) + 4⋅──(Φ(t)), ──(Δ_\n",
       "⎣dt                       dt        dt                         dt        dt   \n",
       "\n",
       "         ⎛⎛             d       ⎞                                             \n",
       "        -⎜⎜k⋅v_b(t) - 3⋅──(Φ(t))⎟⋅(p_b(t) + ρ_b(t)) + 3⋅(c_sb__2(t)⋅ρ_b(t) - p\n",
       "         ⎝⎝             dt      ⎠                                             \n",
       "b(t)) = ──────────────────────────────────────────────────────────────────────\n",
       "                                                  ρ_b(t)                      \n",
       "\n",
       "                  ⎞                                                           \n",
       "_b(t))⋅Δ_b(t)⋅H(t)⎟                                                     -k⋅q_ν\n",
       "                  ⎠   d                          d         d                  \n",
       "────────────────────, ──(Δ_c(t)) = -k⋅v_c(t) + 3⋅──(Φ(t)), ──(Δ_ν(t)) = ──────\n",
       "                      dt                         dt        dt                 \n",
       "\n",
       "                                                                            d \n",
       "(t)⋅ρ_ν(t) - 3⋅(Δ_P_ν(t)⋅ρ_ν(t) - Δ_ν(t)⋅p_ν(t))⋅H(t) + 3⋅(p_ν(t) + ρ_ν(t))⋅──\n",
       "                                                                            dt\n",
       "──────────────────────────────────────────────────────────────────────────────\n",
       "                                    ρ_ν(t)                                    \n",
       "\n",
       "                        ⎛               d       ⎞                             \n",
       "(Φ(t))                k⋅⎜-k⋅v_de(t) + 3⋅──(Φ(t))⎟⋅(w_de(t) + 1) - 3⋅(k⋅Δ_de(t)\n",
       "        d               ⎝               dt      ⎠                             \n",
       "──────, ──(Δ_de(t)) = ────────────────────────────────────────────────────────\n",
       "        dt                                                                    \n",
       "\n",
       "                                                                              \n",
       " + 3⋅(w_de(t) + 1)⋅H(t)⋅v_de(t))⋅(ĉ_sde__2(t) - w_de(t))⋅H(t) - 3⋅H(t)⋅v_de(t\n",
       "                                                                              \n",
       "──────────────────────────────────────────────────────────────────────────────\n",
       "                 k                                                            \n",
       "\n",
       "  d          ⎤\n",
       ")⋅──(w_de(t))⎥\n",
       "  dt         ⎥\n",
       "─────────────⎥\n",
       "             ⎦"
      ]
     },
     "execution_count": 33,
     "metadata": {},
     "output_type": "execute_result"
    }
   ],
   "source": [
    "newtonian_gauge(delta_eqs)"
   ]
  },
  {
   "cell_type": "code",
   "execution_count": 34,
   "metadata": {
    "collapsed": false
   },
   "outputs": [
    {
     "data": {
      "image/png": "[encoded data removed]",
      "text/latex": [
       "$$\\left [ \\frac{d}{d t} \\operatorname{q_{r}}{\\left (t \\right )} = - \\frac{4 k}{3} A{\\left (t \\right )} + \\frac{k}{3} \\Delta_{r}{\\left (t \\right )} - \\frac{2 k}{3} \\operatorname{Kf}{\\left (1 \\right )} \\pi_{r}{\\left (t \\right )}, \\quad \\frac{d}{d t} \\operatorname{q_{g}}{\\left (t \\right )} = - \\frac{4 k}{3} A{\\left (t \\right )} + \\frac{k}{3} \\Delta_{g}{\\left (t \\right )} - \\frac{2 k}{3} \\operatorname{Kf}{\\left (1 \\right )} \\pi_{g}{\\left (t \\right )} + \\left(- \\operatorname{q_{g}}{\\left (t \\right )} + \\frac{4}{3} \\operatorname{v_{b}}{\\left (t \\right )}\\right) \\operatorname{opac}{\\left (t \\right )}, \\quad \\frac{d}{d t} \\operatorname{v_{b}}{\\left (t \\right )} = - k A{\\left (t \\right )} + \\frac{1}{\\operatorname{p_{b}}{\\left (t \\right )} + \\rho_{b}{\\left (t \\right )}} \\left(k \\Delta_{b}{\\left (t \\right )} \\operatorname{c^{2}_{sb}}{\\left (t \\right )} \\rho_{b}{\\left (t \\right )} - \\left(- \\operatorname{q_{g}}{\\left (t \\right )} + \\frac{4}{3} \\operatorname{v_{b}}{\\left (t \\right )}\\right) \\operatorname{opac}{\\left (t \\right )} \\rho_{g}{\\left (t \\right )}\\right) - H{\\left (t \\right )} \\operatorname{v_{b}}{\\left (t \\right )} - \\frac{\\operatorname{v_{b}}{\\left (t \\right )} \\frac{d}{d t} \\operatorname{p_{b}}{\\left (t \\right )}}{\\operatorname{p_{b}}{\\left (t \\right )} + \\rho_{b}{\\left (t \\right )}}, \\quad \\frac{d}{d t} \\operatorname{v_{c}}{\\left (t \\right )} = - k A{\\left (t \\right )} - H{\\left (t \\right )} \\operatorname{v_{c}}{\\left (t \\right )}, \\quad \\frac{d}{d t} \\operatorname{q_{\\nu}}{\\left (t \\right )} = - k \\left(\\frac{\\operatorname{p_{\\nu}}{\\left (t \\right )}}{\\rho_{\\nu}{\\left (t \\right )}} + 1\\right) A{\\left (t \\right )} - \\frac{k}{3} \\left(- 3 \\Delta_{P \\nu}{\\left (t \\right )} + 2 \\operatorname{Kf}{\\left (1 \\right )} \\pi_{\\nu}{\\left (t \\right )}\\right) - \\left(- \\frac{3 \\operatorname{p_{\\nu}}{\\left (t \\right )}}{\\rho_{\\nu}{\\left (t \\right )}} + 1\\right) H{\\left (t \\right )} \\operatorname{q_{\\nu}}{\\left (t \\right )}, \\quad \\frac{d}{d t} \\operatorname{v_{de}}{\\left (t \\right )} = - k A{\\left (t \\right )} + \\frac{k \\Delta_{de}{\\left (t \\right )} \\hat{c}^{2}_{sde}{\\left (t \\right )}}{\\operatorname{w_{de}}{\\left (t \\right )} + 1} - \\left(- 3 \\hat{c}^{2}_{sde}{\\left (t \\right )} + 1\\right) H{\\left (t \\right )} \\operatorname{v_{de}}{\\left (t \\right )}\\right ]$$"
      ],
      "text/plain": [
       "⎡                                                                             \n",
       "⎢                                                                             \n",
       "⎢d             4⋅k⋅A(t)   k⋅Δᵣ(t)   2⋅k⋅Kf(1)⋅πᵣ(t)  d              4⋅k⋅A(t)  \n",
       "⎢──(qᵣ(t)) = - ──────── + ─────── - ───────────────, ──(q_g(t)) = - ──────── +\n",
       "⎣dt               3          3             3         dt                3      \n",
       "\n",
       "                                                                              \n",
       "                                                                              \n",
       " k⋅Δ_g(t)   2⋅k⋅Kf(1)⋅π_g(t)   ⎛          4⋅v_b(t)⎞          d                \n",
       " ──────── - ──────────────── + ⎜-q_g(t) + ────────⎟⋅opac(t), ──(v_b(t)) = -k⋅A\n",
       "    3              3           ⎝             3    ⎠          dt               \n",
       "\n",
       "                                   ⎛          4⋅v_b(t)⎞                       \n",
       "      k⋅Δ_b(t)⋅c_sb__2(t)⋅ρ_b(t) - ⎜-q_g(t) + ────────⎟⋅opac(t)⋅ρ_g(t)        \n",
       "                                   ⎝             3    ⎠                       \n",
       "(t) + ──────────────────────────────────────────────────────────────── - H(t)⋅\n",
       "                              p_b(t) + ρ_b(t)                                 \n",
       "\n",
       "                d                                                             \n",
       "         v_b(t)⋅──(p_b(t))                                                    \n",
       "                dt          d                                   d             \n",
       "v_b(t) - ─────────────────, ──(v_c(t)) = -k⋅A(t) - H(t)⋅v_c(t), ──(q_ν(t)) = -\n",
       "          p_b(t) + ρ_b(t)   dt                                  dt            \n",
       "\n",
       "                                                                              \n",
       "                                                                              \n",
       "   ⎛p_ν(t)    ⎞        k⋅(-3⋅Δ_P_ν(t) + 2⋅Kf(1)⋅π_ν(t))   ⎛  3⋅p_ν(t)    ⎞    \n",
       " k⋅⎜────── + 1⎟⋅A(t) - ──────────────────────────────── - ⎜- ──────── + 1⎟⋅H(t\n",
       "   ⎝ρ_ν(t)    ⎠                       3                   ⎝   ρ_ν(t)     ⎠    \n",
       "\n",
       "                                                                              \n",
       "                                                                              \n",
       "          d                       k⋅Δ_de(t)⋅ĉ_sde__2(t)                      \n",
       ")⋅q_ν(t), ──(v_de(t)) = -k⋅A(t) + ────────────────────── - (-3⋅ĉ_sde__2(t) + \n",
       "          dt                           w_de(t) + 1                            \n",
       "\n",
       "               ⎤\n",
       "               ⎥\n",
       "               ⎥\n",
       "1)⋅H(t)⋅v_de(t)⎥\n",
       "               ⎦"
      ]
     },
     "execution_count": 34,
     "metadata": {},
     "output_type": "execute_result"
    }
   ],
   "source": [
    "vel_eqs = [\n",
    "    Eq(diff(q_r(t),t),-2*third*k*pi_r(t)*K_fac+third*k*Delta_r(t)-4*k/3*A(t)), \n",
    "    Eq(diff(q_g(t),t),-2*third*k*pi_g(t)*K_fac+third*k*Delta_g(t)+drag_t-4*k/3*A(t)),\n",
    "    Eq(diff(v_b(t),t),-k*A(t)-H(t)*v_b(t) - diff(p_b(t),t)*v_b(t)/(rho_b(t)+p_b(t))\n",
    "              +1/(rho_b(t)+p_b(t))*(rho_b(t)*csq_b(t)*k*Delta_b(t)-rho_g(t)*drag_t)),\n",
    "    Eq(diff(v_c(t),t),-H(t)*v_c(t)-k*A(t)),\n",
    "    Eq(diff(q_nu(t),t),-H(t)*(1-3*p_nu(t)/rho_nu(t))*q_nu(t) \n",
    "             -k/3*(2*K_fac*pi_nu(t) - 3*Delta_P_nu(t))-(1+p_nu(t)/rho_nu(t))*k*A(t)),\n",
    "    Eq(diff(v_de(t),t),k*csqhat_de(t)*Delta_de(t)/(1+w_de(t))-H(t)*(1-3*csqhat_de(t))*v_de(t) - k*A(t) )\n",
    "]\n",
    "vel_eqs"
   ]
  },
  {
   "cell_type": "code",
   "execution_count": 35,
   "metadata": {
    "collapsed": true
   },
   "outputs": [],
   "source": [
    "component_eqs = density_eqs + delta_eqs + vel_eqs"
   ]
  },
  {
   "cell_type": "code",
   "execution_count": 36,
   "metadata": {
    "collapsed": true
   },
   "outputs": [],
   "source": [
    "rho_t =rho_b(t)+rho_c(t)+rho_r(t)+rho_g(t)+rho_nu(t)+ rho_de(t)"
   ]
  },
  {
   "cell_type": "code",
   "execution_count": 37,
   "metadata": {
    "collapsed": false
   },
   "outputs": [],
   "source": [
    "P_t=third*(rho_r(t)+rho_g(t))+p_b(t)+p_nu(t) + w_de(t)*rho_de(t)"
   ]
  },
  {
   "cell_type": "code",
   "execution_count": 38,
   "metadata": {
    "collapsed": false
   },
   "outputs": [
    {
     "data": {
      "image/png": "[encoded data removed]",
      "text/latex": [
       "$$\\left [ \\rho{\\left (t \\right )} = \\rho_{b}{\\left (t \\right )} + \\rho_{c}{\\left (t \\right )} + \\rho_{de}{\\left (t \\right )} + \\rho_{g}{\\left (t \\right )} + \\rho_{\\nu}{\\left (t \\right )} + \\rho_{r}{\\left (t \\right )}, \\quad P{\\left (t \\right )} = \\operatorname{p_{b}}{\\left (t \\right )} + \\operatorname{p_{\\nu}}{\\left (t \\right )} + \\rho_{de}{\\left (t \\right )} \\operatorname{w_{de}}{\\left (t \\right )} + \\frac{1}{3} \\rho_{g}{\\left (t \\right )} + \\frac{1}{3} \\rho_{r}{\\left (t \\right )}\\right ]$$"
      ],
      "text/plain": [
       "⎡                                                                             \n",
       "⎢ρ(t) = ρ_b(t) + ρ_c(t) + ρ_de(t) + ρ_g(t) + ρ_ν(t) + ρᵣ(t), P(t) = p_b(t) + p\n",
       "⎣                                                                             \n",
       "\n",
       "                          ρ_g(t)   ρᵣ(t)⎤\n",
       "_ν(t) + ρ_de(t)⋅w_de(t) + ────── + ─────⎥\n",
       "                            3        3  ⎦"
      ]
     },
     "execution_count": 38,
     "metadata": {},
     "output_type": "execute_result"
    }
   ],
   "source": [
    "tot_subs = [\n",
    "    Eq(rho(t), rho_t),\n",
    "    Eq(P(t), P_t)\n",
    "]\n",
    "tot_subs"
   ]
  },
  {
   "cell_type": "code",
   "execution_count": 39,
   "metadata": {
    "collapsed": false
   },
   "outputs": [
    {
     "data": {
      "image/png": "[encoded data removed]",
      "text/latex": [
       "$$\\left [ \\Pi{\\left (t \\right )} = \\pi_{g}{\\left (t \\right )} \\rho_{g}{\\left (t \\right )} + \\pi_{\\nu}{\\left (t \\right )} \\rho_{\\nu}{\\left (t \\right )} + \\pi_{r}{\\left (t \\right )} \\rho_{r}{\\left (t \\right )}, \\quad \\delta{\\left (t \\right )} = \\Delta_{b}{\\left (t \\right )} \\rho_{b}{\\left (t \\right )} + \\Delta_{c}{\\left (t \\right )} \\rho_{c}{\\left (t \\right )} + \\Delta_{de}{\\left (t \\right )} \\rho_{de}{\\left (t \\right )} + \\Delta_{g}{\\left (t \\right )} \\rho_{g}{\\left (t \\right )} + \\Delta_{\\nu}{\\left (t \\right )} \\rho_{\\nu}{\\left (t \\right )} + \\Delta_{r}{\\left (t \\right )} \\rho_{r}{\\left (t \\right )}, \\quad q{\\left (t \\right )} = \\left(\\operatorname{p_{b}}{\\left (t \\right )} + \\rho_{b}{\\left (t \\right )}\\right) \\operatorname{v_{b}}{\\left (t \\right )} + \\left(\\operatorname{w_{de}}{\\left (t \\right )} + 1\\right) \\rho_{de}{\\left (t \\right )} \\operatorname{v_{de}}{\\left (t \\right )} + \\operatorname{q_{g}}{\\left (t \\right )} \\rho_{g}{\\left (t \\right )} + \\operatorname{q_{\\nu}}{\\left (t \\right )} \\rho_{\\nu}{\\left (t \\right )} + \\operatorname{q_{r}}{\\left (t \\right )} \\rho_{r}{\\left (t \\right )} + \\rho_{c}{\\left (t \\right )} \\operatorname{v_{c}}{\\left (t \\right )}, \\quad \\delta_{P}{\\left (t \\right )} = \\left(\\Delta_{de}{\\left (t \\right )} \\hat{c}^{2}_{sde}{\\left (t \\right )} + \\frac{3}{k} \\left(\\operatorname{w_{de}}{\\left (t \\right )} + 1\\right) \\left(\\hat{c}^{2}_{sde}{\\left (t \\right )} - \\operatorname{w_{de}}{\\left (t \\right )} + \\frac{\\frac{d}{d t} \\operatorname{w_{de}}{\\left (t \\right )}}{3 \\left(\\operatorname{w_{de}}{\\left (t \\right )} + 1\\right) H{\\left (t \\right )}}\\right) H{\\left (t \\right )} \\operatorname{v_{de}}{\\left (t \\right )}\\right) \\rho_{de}{\\left (t \\right )} + \\Delta_{P \\nu}{\\left (t \\right )} \\rho_{\\nu}{\\left (t \\right )} + \\Delta_{b}{\\left (t \\right )} \\operatorname{c^{2}_{sb}}{\\left (t \\right )} \\rho_{b}{\\left (t \\right )} + \\frac{1}{3} \\Delta_{g}{\\left (t \\right )} \\rho_{g}{\\left (t \\right )} + \\frac{1}{3} \\Delta_{r}{\\left (t \\right )} \\rho_{r}{\\left (t \\right )}\\right ]$$"
      ],
      "text/plain": [
       "⎡                                                                             \n",
       "⎢                                                                             \n",
       "⎢                                                                             \n",
       "⎢                                                                             \n",
       "⎢                                                                             \n",
       "⎢Π(t) = π_g(t)⋅ρ_g(t) + π_ν(t)⋅ρ_ν(t) + πᵣ(t)⋅ρᵣ(t), δ(t) = Δ_b(t)⋅ρ_b(t) + Δ_\n",
       "⎣                                                                             \n",
       "\n",
       "                                                                              \n",
       "                                                                              \n",
       "                                                                              \n",
       "                                                                              \n",
       "                                                                              \n",
       "c(t)⋅ρ_c(t) + Δ_de(t)⋅ρ_de(t) + Δ_g(t)⋅ρ_g(t) + Δ_ν(t)⋅ρ_ν(t) + Δᵣ(t)⋅ρᵣ(t), q\n",
       "                                                                              \n",
       "\n",
       "                                                                              \n",
       "                                                                              \n",
       "                                                                              \n",
       "                                                                              \n",
       "                                                                              \n",
       "(t) = (p_b(t) + ρ_b(t))⋅v_b(t) + (w_de(t) + 1)⋅ρ_de(t)⋅v_de(t) + q_g(t)⋅ρ_g(t)\n",
       "                                                                              \n",
       "\n",
       "                                                         ⎛                    \n",
       "                                                         ⎜                    \n",
       "                                                         ⎜                    \n",
       "                                                         ⎜                    \n",
       "                                                         ⎜                    \n",
       " + q_ν(t)⋅ρ_ν(t) + qᵣ(t)⋅ρᵣ(t) + ρ_c(t)⋅v_c(t), δ_P(t) = ⎜Δ_de(t)⋅ĉ_sde__2(t)\n",
       "                                                         ⎝                    \n",
       "\n",
       "                   ⎛                             d               ⎞            \n",
       "                   ⎜                             ──(w_de(t))     ⎟            \n",
       "                   ⎜                             dt              ⎟            \n",
       "   3⋅(w_de(t) + 1)⋅⎜ĉ_sde__2(t) - w_de(t) + ────────────────────⎟⋅H(t)⋅v_de(t\n",
       "                   ⎝                         3⋅(w_de(t) + 1)⋅H(t)⎠            \n",
       " + ───────────────────────────────────────────────────────────────────────────\n",
       "                                        k                                     \n",
       "\n",
       " ⎞                                                                            \n",
       " ⎟                                                                            \n",
       " ⎟                                                                            \n",
       ")⎟                                                                            \n",
       " ⎟                                                        Δ_g(t)⋅ρ_g(t)   Δᵣ(t\n",
       "─⎟⋅ρ_de(t) + Δ_P_ν(t)⋅ρ_ν(t) + Δ_b(t)⋅c_sb__2(t)⋅ρ_b(t) + ───────────── + ────\n",
       " ⎠                                                              3             \n",
       "\n",
       "       ⎤\n",
       "       ⎥\n",
       "       ⎥\n",
       "       ⎥\n",
       ")⋅ρᵣ(t)⎥\n",
       "───────⎥\n",
       " 3     ⎦"
      ]
     },
     "execution_count": 39,
     "metadata": {},
     "output_type": "execute_result"
    }
   ],
   "source": [
    "#Note that csqhat_de is defined in the dark energy rest-frame, so this is general-gauge result for pressure perturbation:\n",
    "Delta_P_de =  (csqhat_de(t)*Delta_de(t) + 3*H(t)*v_de(t)/k*(1+w_de(t))*(csqhat_de(t)-w_de(t) + diff(w_de(t),t)/3/H(t)/(1+w_de(t))))\n",
    "tot_pert_subs = [\n",
    "    Eq(Pi(t), rho_g(t)*pi_g(t)+rho_r(t)*pi_r(t) + rho_nu(t)*pi_nu(t)),\n",
    "    Eq(delta(t),rho_g(t)*Delta_g(t)+rho_r(t)*Delta_r(t)+rho_b(t)*Delta_b(t)+rho_c(t)*Delta_c(t) \n",
    "             +rho_nu(t)*Delta_nu(t) + rho_de(t)*Delta_de(t)),\n",
    "    Eq(q(t),rho_g(t)*q_g(t)+rho_r(t)*q_r(t)+rho_c(t)*v_c(t)+(rho_b(t)+p_b(t))*v_b(t) + rho_nu(t)*q_nu(t)+ rho_de(t)*(1+w_de(t))*v_de(t)),\n",
    "    Eq(delta_P(t),rho_nu(t)*Delta_P_nu(t) + third*(rho_g(t)*Delta_g(t)+rho_r(t)*Delta_r(t)) +csq_b(t)*Delta_b(t)*rho_b(t)\n",
    "        + Delta_P_de*rho_de(t))\n",
    "\n",
    "]\n",
    "tot_pert_subs"
   ]
  },
  {
   "cell_type": "code",
   "execution_count": 40,
   "metadata": {
    "collapsed": false
   },
   "outputs": [],
   "source": [
    "def make_index_func(name,l, namespace = globals()):\n",
    "    name += '_'+str(l)\n",
    "    if not name in namespace:\n",
    "        namespace[name] = sympy.Function(name)\n",
    "    return namespace[name]\n",
    "\n",
    "#Boltzmann hierarchies\n",
    "def J_eq(l):\n",
    "  #photons\n",
    "  assert(l>1) \n",
    "  Gl = make_index_func('J',l)\n",
    "  Glp = make_index_func('J',l+1)\n",
    "  Glm = make_index_func('J',l-1)\n",
    "  eq=-k/(2*l+1)*( (l+1)*Kf(l)*Glp(t) - l*Glm(t)) - opac(t)*Gl(t)\n",
    "  if l==2: eq = eq +  8*k/15*sigma(t) + opac(t)*polter(t)\n",
    "  return Eq(diff(Gl(t),t),eq).subs('J_2(t)', pi_g(t)).subs('J_1(t)', q_g(t))\n",
    "\n",
    "def G_eq(l):\n",
    "  #massless neutrinos\n",
    "  assert(l>1) \n",
    "  Gl = make_index_func('G',l)\n",
    "  Glp = make_index_func('G',l+1)\n",
    "  Glm = make_index_func('G',l-1)\n",
    "  eq=-k/(2*l+1)*( (l+1)*Kf(l)*Glp(t) - l*Glm(t));\n",
    "  if l==2: eq = eq +  8*k/15*sigma(t)\n",
    "  return Eq(diff(Gl(t),t),eq).subs('G_2(t)', pi_r(t)).subs('G_1(t)', q_r(t))\n",
    "\n",
    "def E_eq(l):\n",
    "  #E polarization  \n",
    "  assert(l>1)\n",
    "  El = make_index_func('E',l)\n",
    "  Elp = make_index_func('E',l+1)\n",
    "  Elm = make_index_func('E',l-1)\n",
    "  eq = -k/(2*l+1)*( (l+3)*(l-1)*Kf(l)*Elp(t)/(l+1) - l*Elm(t))-opac(t)*El(t);\n",
    "  if l==2:\n",
    "    eq = eq +polter(t)*opac(t)\n",
    "  return Eq(diff(El(t),t),eq).subs('E_1(t)', 0)\n"
   ]
  },
  {
   "cell_type": "code",
   "execution_count": 41,
   "metadata": {
    "collapsed": false
   },
   "outputs": [
    {
     "data": {
      "image/png": "[encoded data removed]",
      "text/latex": [
       "$$\\left [ \\frac{d}{d t} \\pi_{g}{\\left (t \\right )} = - \\frac{k}{5} \\left(3 \\operatorname{J_{3}}{\\left (t \\right )} \\operatorname{Kf}{\\left (2 \\right )} - 2 \\operatorname{q_{g}}{\\left (t \\right )}\\right) + \\frac{8 k}{15} \\sigma{\\left (t \\right )} - \\operatorname{opac}{\\left (t \\right )} \\pi_{g}{\\left (t \\right )} + \\operatorname{opac}{\\left (t \\right )} \\operatorname{polter}{\\left (t \\right )}, \\quad \\frac{d}{d t} \\pi_{r}{\\left (t \\right )} = - \\frac{k}{5} \\left(3 \\operatorname{G_{3}}{\\left (t \\right )} \\operatorname{Kf}{\\left (2 \\right )} - 2 \\operatorname{q_{r}}{\\left (t \\right )}\\right) + \\frac{8 k}{15} \\sigma{\\left (t \\right )}, \\quad \\frac{d}{d t} \\operatorname{E_{2}}{\\left (t \\right )} = - \\frac{k}{3} \\operatorname{E_{3}}{\\left (t \\right )} \\operatorname{Kf}{\\left (2 \\right )} - \\operatorname{E_{2}}{\\left (t \\right )} \\operatorname{opac}{\\left (t \\right )} + \\operatorname{opac}{\\left (t \\right )} \\operatorname{polter}{\\left (t \\right )}, \\quad \\frac{d}{d t} \\operatorname{J_{3}}{\\left (t \\right )} = - \\frac{k}{7} \\left(4 \\operatorname{J_{4}}{\\left (t \\right )} \\operatorname{Kf}{\\left (3 \\right )} - 3 \\pi_{g}{\\left (t \\right )}\\right) - \\operatorname{J_{3}}{\\left (t \\right )} \\operatorname{opac}{\\left (t \\right )}, \\quad \\frac{d}{d t} \\operatorname{G_{3}}{\\left (t \\right )} = - \\frac{k}{7} \\left(4 \\operatorname{G_{4}}{\\left (t \\right )} \\operatorname{Kf}{\\left (3 \\right )} - 3 \\pi_{r}{\\left (t \\right )}\\right), \\quad \\frac{d}{d t} \\operatorname{E_{3}}{\\left (t \\right )} = - \\frac{k}{7} \\left(- 3 \\operatorname{E_{2}}{\\left (t \\right )} + 3 \\operatorname{E_{4}}{\\left (t \\right )} \\operatorname{Kf}{\\left (3 \\right )}\\right) - \\operatorname{E_{3}}{\\left (t \\right )} \\operatorname{opac}{\\left (t \\right )}, \\quad \\frac{d}{d t} \\operatorname{J_{4}}{\\left (t \\right )} = - \\frac{k}{9} \\left(- 4 \\operatorname{J_{3}}{\\left (t \\right )} + 5 \\operatorname{J_{5}}{\\left (t \\right )} \\operatorname{Kf}{\\left (4 \\right )}\\right) - \\operatorname{J_{4}}{\\left (t \\right )} \\operatorname{opac}{\\left (t \\right )}, \\quad \\frac{d}{d t} \\operatorname{G_{4}}{\\left (t \\right )} = - \\frac{k}{9} \\left(- 4 \\operatorname{G_{3}}{\\left (t \\right )} + 5 \\operatorname{G_{5}}{\\left (t \\right )} \\operatorname{Kf}{\\left (4 \\right )}\\right), \\quad \\frac{d}{d t} \\operatorname{E_{4}}{\\left (t \\right )} = - \\frac{k}{9} \\left(- 4 \\operatorname{E_{3}}{\\left (t \\right )} + \\frac{21}{5} \\operatorname{E_{5}}{\\left (t \\right )} \\operatorname{Kf}{\\left (4 \\right )}\\right) - \\operatorname{E_{4}}{\\left (t \\right )} \\operatorname{opac}{\\left (t \\right )}\\right ]$$"
      ],
      "text/plain": [
       "⎡                                                                             \n",
       "⎢                                                                             \n",
       "⎢d              k⋅(3⋅J₃(t)⋅Kf(2) - 2⋅q_g(t))   8⋅k⋅σ(t)                       \n",
       "⎢──(π_g(t)) = - ──────────────────────────── + ──────── - opac(t)⋅π_g(t) + opa\n",
       "⎣dt                          5                    15                          \n",
       "\n",
       "                                                                              \n",
       "                                                                              \n",
       "                d             k⋅(3⋅G₃(t)⋅Kf(2) - 2⋅qᵣ(t))   8⋅k⋅σ(t)  d       \n",
       "c(t)⋅polter(t), ──(πᵣ(t)) = - ─────────────────────────── + ────────, ──(E₂(t)\n",
       "                dt                         5                   15     dt      \n",
       "\n",
       "                                                                              \n",
       "                                                                              \n",
       "      k⋅E₃(t)⋅Kf(2)                                      d             k⋅(4⋅J₄\n",
       ") = - ───────────── - E₂(t)⋅opac(t) + opac(t)⋅polter(t), ──(J₃(t)) = - ───────\n",
       "            3                                            dt                   \n",
       "\n",
       "                                                                              \n",
       "                                                                              \n",
       "(t)⋅Kf(3) - 3⋅π_g(t))                  d           -k⋅(4⋅G₄(t)⋅Kf(3) - 3⋅πᵣ(t)\n",
       "───────────────────── - J₃(t)⋅opac(t), ──(G₃(t)) = ───────────────────────────\n",
       "      7                                dt                        7            \n",
       "\n",
       "                                                                              \n",
       "                                                                              \n",
       ")   d             k⋅(-3⋅E₂(t) + 3⋅E₄(t)⋅Kf(3))                  d             \n",
       "──, ──(E₃(t)) = - ──────────────────────────── - E₃(t)⋅opac(t), ──(J₄(t)) = - \n",
       "    dt                         7                                dt            \n",
       "\n",
       "                                                                              \n",
       "                                                                              \n",
       "k⋅(-4⋅J₃(t) + 5⋅J₅(t)⋅Kf(4))                  d           -k⋅(-4⋅G₃(t) + 5⋅G₅(\n",
       "──────────────────────────── - J₄(t)⋅opac(t), ──(G₄(t)) = ────────────────────\n",
       "             9                                dt                        9     \n",
       "\n",
       "                            ⎛           21⋅E₅(t)⋅Kf(4)⎞                ⎤\n",
       "                          k⋅⎜-4⋅E₃(t) + ──────────────⎟                ⎥\n",
       "t)⋅Kf(4))   d               ⎝                 5       ⎠                ⎥\n",
       "──────────, ──(E₄(t)) = - ───────────────────────────── - E₄(t)⋅opac(t)⎥\n",
       "            dt                          9                              ⎦"
      ]
     },
     "execution_count": 41,
     "metadata": {},
     "output_type": "execute_result"
    }
   ],
   "source": [
    "hierarchies = []\n",
    "for l in range(2,5):\n",
    "    hierarchies+= [J_eq(l), G_eq(l), E_eq(l)]\n",
    "hierarchies    "
   ]
  },
  {
   "cell_type": "code",
   "execution_count": 42,
   "metadata": {
    "collapsed": true
   },
   "outputs": [],
   "source": [
    "#Check consistency of fluid equations with equations from total stress-energy conservation\n",
    "for eq in total_eqs:\n",
    "    assert(subs(component_eqs+tot_subs,subs(tot_pert_subs,eq).doit()).doit().simplify())"
   ]
  },
  {
   "cell_type": "code",
   "execution_count": 43,
   "metadata": {
    "collapsed": false
   },
   "outputs": [
    {
     "data": {
      "image/png": "[encoded data removed]",
      "text/latex": [
       "$$\\frac{3}{5} \\operatorname{E_{2}}{\\left (t \\right )} + \\frac{1}{10} \\pi_{g}{\\left (t \\right )}$$"
      ],
      "text/plain": [
       "3⋅E₂(t)   π_g(t)\n",
       "─────── + ──────\n",
       "   5        10  "
      ]
     },
     "execution_count": 43,
     "metadata": {},
     "output_type": "execute_result"
    }
   ],
   "source": [
    "polter_t = sympy.Rational(2,15)*(3*pi_g(t)/4 + 9*E_2(t)/2)\n",
    "#quadrupole source =15*polter_t/8\n",
    "polter_t"
   ]
  },
  {
   "cell_type": "code",
   "execution_count": 44,
   "metadata": {
    "collapsed": false
   },
   "outputs": [],
   "source": [
    "#Line of sight temperature anisotropy source\n",
    "\n",
    "source1 = k*sigma(t)*exptau(t) +vis(t)*15*polter(t)/8\n",
    "source = source1/3+diff(source1,t,t)/k**2 +vis(t)*Delta_g(t)/4-hdot(t)*exptau(t) +diff(vis(t)*v_b(t)-k*exptau(t)*A(t),t)/k"
   ]
  },
  {
   "cell_type": "code",
   "execution_count": 45,
   "metadata": {
    "collapsed": false
   },
   "outputs": [],
   "source": [
    "src=subs(var_subs,subs(background_eqs+pert_eqs,subs(background_eqs+pert_eqs,source).expand().doit()).simplify()).simplify().expand()"
   ]
  },
  {
   "cell_type": "code",
   "execution_count": 46,
   "metadata": {
    "collapsed": false
   },
   "outputs": [
    {
     "data": {
      "image/png": "[encoded data removed]",
      "text/latex": [
       "$$\\frac{\\operatorname{exptau}{\\left (t \\right )}}{6 k^{3} H{\\left (t \\right )} \\operatorname{Kf}{\\left (1 \\right )}} \\left(k^{3} \\left(k^{2} \\eta{\\left (t \\right )} - \\kappa a^{2}{\\left (t \\right )} \\delta{\\left (t \\right )}\\right) \\operatorname{Kf}{\\left (1 \\right )} + k^{3} \\left(- k^{2} \\eta{\\left (t \\right )} - 3 \\kappa P{\\left (t \\right )} a^{2}{\\left (t \\right )} \\eta{\\left (t \\right )} + \\kappa a^{2}{\\left (t \\right )} \\delta{\\left (t \\right )} - 2 \\kappa a^{2}{\\left (t \\right )} \\eta{\\left (t \\right )} \\rho{\\left (t \\right )}\\right) - 3 k^{3} H^{2}{\\left (t \\right )} \\eta{\\left (t \\right )} + 3 k^{2} \\kappa H{\\left (t \\right )} \\operatorname{Kf}{\\left (1 \\right )} a^{2}{\\left (t \\right )} q{\\left (t \\right )} + 3 k^{2} \\kappa H{\\left (t \\right )} a^{2}{\\left (t \\right )} q{\\left (t \\right )} + k \\kappa^{2} \\left(3 P{\\left (t \\right )} + 2 \\rho{\\left (t \\right )}\\right) a^{4}{\\left (t \\right )} \\delta{\\left (t \\right )} + 9 k \\kappa H^{2}{\\left (t \\right )} a^{2}{\\left (t \\right )} \\delta{\\left (t \\right )} - 6 k \\kappa H{\\left (t \\right )} \\operatorname{Kf}{\\left (1 \\right )} a^{2}{\\left (t \\right )} \\frac{d}{d t} \\Pi{\\left (t \\right )} + 3 \\kappa \\left(3 \\kappa P{\\left (t \\right )} a^{2}{\\left (t \\right )} + 2 \\kappa a^{2}{\\left (t \\right )} \\rho{\\left (t \\right )} + 9 H^{2}{\\left (t \\right )}\\right) H{\\left (t \\right )} a^{2}{\\left (t \\right )} q{\\left (t \\right )}\\right)$$"
      ],
      "text/plain": [
       "⎛ 3 ⎛ 2           2        ⎞          3 ⎛   2                  2              \n",
       "⎜k ⋅⎝k ⋅η(t) - κ⋅a (t)⋅δ(t)⎠⋅Kf(1) + k ⋅⎝- k ⋅η(t) - 3⋅κ⋅P(t)⋅a (t)⋅η(t) + κ⋅a\n",
       "⎝                                                                             \n",
       "──────────────────────────────────────────────────────────────────────────────\n",
       "                                                                              \n",
       "                                                                              \n",
       "\n",
       "2                2             ⎞      3  2              2               2     \n",
       " (t)⋅δ(t) - 2⋅κ⋅a (t)⋅η(t)⋅ρ(t)⎠ - 3⋅k ⋅H (t)⋅η(t) + 3⋅k ⋅κ⋅H(t)⋅Kf(1)⋅a (t)⋅q\n",
       "                                                                              \n",
       "──────────────────────────────────────────────────────────────────────────────\n",
       "                                                                              \n",
       "                                                                              \n",
       "\n",
       "         2         2              2                    4                  2   \n",
       "(t) + 3⋅k ⋅κ⋅H(t)⋅a (t)⋅q(t) + k⋅κ ⋅(3⋅P(t) + 2⋅ρ(t))⋅a (t)⋅δ(t) + 9⋅k⋅κ⋅H (t)\n",
       "                                                                              \n",
       "──────────────────────────────────────────────────────────────────────────────\n",
       "                 3                                                            \n",
       "              6⋅k ⋅H(t)⋅Kf(1)                                                 \n",
       "\n",
       "  2                             2    d              ⎛          2           2  \n",
       "⋅a (t)⋅δ(t) - 6⋅k⋅κ⋅H(t)⋅Kf(1)⋅a (t)⋅──(Π(t)) + 3⋅κ⋅⎝3⋅κ⋅P(t)⋅a (t) + 2⋅κ⋅a (t\n",
       "                                     dt                                       \n",
       "──────────────────────────────────────────────────────────────────────────────\n",
       "                                                                              \n",
       "                                                                              \n",
       "\n",
       "            2   ⎞       2        ⎞          \n",
       ")⋅ρ(t) + 9⋅H (t)⎠⋅H(t)⋅a (t)⋅q(t)⎟⋅exptau(t)\n",
       "                                 ⎠          \n",
       "────────────────────────────────────────────\n",
       "                                            \n",
       "                                            "
      ]
     },
     "execution_count": 46,
     "metadata": {},
     "output_type": "execute_result"
    }
   ],
   "source": [
    "ISW = src.coeff(exptau(t))*exptau(t)\n",
    "ISW.simplify()"
   ]
  },
  {
   "cell_type": "code",
   "execution_count": 47,
   "metadata": {
    "collapsed": false
   },
   "outputs": [],
   "source": [
    "#Check ISW is just 2*d phi/d eta\n",
    "assert(subs(K_sub,subs(Friedmann,subs(K_sub,subs(Friedmann,subs(var_subs,2*dphi*exptau(t) - ISW).simplify())).simplify())).simplify()==0)"
   ]
  },
  {
   "cell_type": "code",
   "execution_count": 48,
   "metadata": {
    "collapsed": false
   },
   "outputs": [
    {
     "data": {
      "image/png": "[encoded data removed]",
      "text/latex": [
       "$$\\frac{\\kappa a^{2}{\\left (t \\right )}}{4 k^{3} H{\\left (t \\right )} \\operatorname{Kf}{\\left (1 \\right )}} \\left(- 2 k \\left(- k q{\\left (t \\right )} + H{\\left (t \\right )} \\Pi{\\left (t \\right )} + \\frac{d}{d t} \\Pi{\\left (t \\right )}\\right) H{\\left (t \\right )} \\operatorname{Kf}{\\left (1 \\right )} - \\left(k \\left(k^{2} \\eta{\\left (t \\right )} - \\kappa a^{2}{\\left (t \\right )} \\delta{\\left (t \\right )}\\right) - 3 \\kappa H{\\left (t \\right )} a^{2}{\\left (t \\right )} q{\\left (t \\right )}\\right) \\left(P{\\left (t \\right )} + \\rho{\\left (t \\right )}\\right) + 2 \\left(k \\operatorname{Kf}{\\left (1 \\right )} \\Pi{\\left (t \\right )} + k \\delta{\\left (t \\right )} + 3 H{\\left (t \\right )} q{\\left (t \\right )}\\right) H^{2}{\\left (t \\right )}\\right)$$"
      ],
      "text/plain": [
       "  ⎛      ⎛                      d       ⎞              ⎛  ⎛ 2           2     \n",
       "κ⋅⎜- 2⋅k⋅⎜-k⋅q(t) + H(t)⋅Π(t) + ──(Π(t))⎟⋅H(t)⋅Kf(1) - ⎝k⋅⎝k ⋅η(t) - κ⋅a (t)⋅δ\n",
       "  ⎝      ⎝                      dt      ⎠                                     \n",
       "──────────────────────────────────────────────────────────────────────────────\n",
       "                                                                              \n",
       "                                                                              \n",
       "\n",
       "   ⎞             2        ⎞                                                   \n",
       "(t)⎠ - 3⋅κ⋅H(t)⋅a (t)⋅q(t)⎠⋅(P(t) + ρ(t)) + 2⋅(k⋅Kf(1)⋅Π(t) + k⋅δ(t) + 3⋅H(t)⋅\n",
       "                                                                              \n",
       "──────────────────────────────────────────────────────────────────────────────\n",
       "    3                                                                         \n",
       " 4⋅k ⋅H(t)⋅Kf(1)                                                              \n",
       "\n",
       "       2   ⎞  2   \n",
       "q(t))⋅H (t)⎟⋅a (t)\n",
       "           ⎠      \n",
       "──────────────────\n",
       "                  \n",
       "                  "
      ]
     },
     "execution_count": 48,
     "metadata": {},
     "output_type": "execute_result"
    }
   ],
   "source": [
    "subs(var_subs,dphi).simplify()"
   ]
  },
  {
   "cell_type": "code",
   "execution_count": 49,
   "metadata": {
    "collapsed": false
   },
   "outputs": [],
   "source": [
    "Doppler = subs(var_subs,subs(pert_eqs,diff(vis(t)*(v_b(t)+sigma(t)),t)/k)).simplify().collect(vis(t))"
   ]
  },
  {
   "cell_type": "code",
   "execution_count": 50,
   "metadata": {
    "collapsed": true
   },
   "outputs": [],
   "source": [
    "remainder = src - ISW-Doppler"
   ]
  },
  {
   "cell_type": "code",
   "execution_count": 51,
   "metadata": {
    "collapsed": false
   },
   "outputs": [],
   "source": [
    "remainder=remainder.simplify().collect(vis(t))"
   ]
  },
  {
   "cell_type": "code",
   "execution_count": 52,
   "metadata": {
    "collapsed": false
   },
   "outputs": [
    {
     "data": {
      "image/png": "[encoded data removed]",
      "text/latex": [
       "$$\\frac{1}{4} \\Delta_{g}{\\left (t \\right )} \\operatorname{vis}{\\left (t \\right )} + 2 \\phi{\\left (t \\right )} \\operatorname{vis}{\\left (t \\right )} + \\frac{5}{8} \\operatorname{polter}{\\left (t \\right )} \\operatorname{vis}{\\left (t \\right )} + \\frac{\\eta{\\left (t \\right )} \\operatorname{vis}{\\left (t \\right )}}{2 \\operatorname{Kf}{\\left (1 \\right )}} + \\frac{15}{8 k^{2}} \\operatorname{polter}{\\left (t \\right )} \\frac{d^{2}}{d t^{2}}  \\operatorname{vis}{\\left (t \\right )} + \\frac{15}{8 k^{2}} \\operatorname{vis}{\\left (t \\right )} \\frac{d^{2}}{d t^{2}}  \\operatorname{polter}{\\left (t \\right )} + \\frac{15}{4 k^{2}} \\frac{d}{d t} \\operatorname{polter}{\\left (t \\right )} \\frac{d}{d t} \\operatorname{vis}{\\left (t \\right )}$$"
      ],
      "text/plain": [
       "                                                                              \n",
       "                                                                              \n",
       "                                                                   15⋅polter(t\n",
       "                                                                              \n",
       "Δ_g(t)⋅vis(t)                   5⋅polter(t)⋅vis(t)   η(t)⋅vis(t)              \n",
       "───────────── + 2⋅φ(t)⋅vis(t) + ────────────────── + ─────────── + ───────────\n",
       "      4                                 8              2⋅Kf(1)                \n",
       "                                                                             8\n",
       "\n",
       "    2                       2                                         \n",
       "   d                       d                                          \n",
       ")⋅───(vis(t))   15⋅vis(t)⋅───(polter(t))      d             d         \n",
       "    2                       2              15⋅──(polter(t))⋅──(vis(t))\n",
       "  dt                      dt                  dt            dt        \n",
       "───────────── + ──────────────────────── + ───────────────────────────\n",
       "  2                          2                            2           \n",
       "⋅k                        8⋅k                          4⋅k            "
      ]
     },
     "execution_count": 52,
     "metadata": {},
     "output_type": "execute_result"
    }
   ],
   "source": [
    "remainder=remainder.subs(delta(t),solve(phi_sub, delta(t))).simplify()\n",
    "remainder"
   ]
  },
  {
   "cell_type": "code",
   "execution_count": 53,
   "metadata": {
    "collapsed": false
   },
   "outputs": [
    {
     "data": {
      "image/png": "[encoded data removed]",
      "text/latex": [
       "$$- \\frac{k}{50} \\left(3 \\operatorname{J_{3}}{\\left (t \\right )} \\operatorname{Kf}{\\left (2 \\right )} - 2 \\operatorname{q_{g}}{\\left (t \\right )}\\right) - \\frac{k}{5} \\operatorname{E_{3}}{\\left (t \\right )} \\operatorname{Kf}{\\left (2 \\right )} + \\frac{4 k}{75} \\sigma{\\left (t \\right )} - \\frac{3}{5} \\operatorname{E_{2}}{\\left (t \\right )} \\operatorname{opac}{\\left (t \\right )} - \\frac{1}{10} \\operatorname{opac}{\\left (t \\right )} \\pi_{g}{\\left (t \\right )} + \\frac{7}{10} \\operatorname{opac}{\\left (t \\right )} \\operatorname{polter}{\\left (t \\right )}$$"
      ],
      "text/plain": [
       "  k⋅(3⋅J₃(t)⋅Kf(2) - 2⋅q_g(t))   k⋅E₃(t)⋅Kf(2)   4⋅k⋅σ(t)   3⋅E₂(t)⋅opac(t)   \n",
       "- ──────────────────────────── - ───────────── + ──────── - ─────────────── - \n",
       "               50                      5            75             5          \n",
       "\n",
       "opac(t)⋅π_g(t)   7⋅opac(t)⋅polter(t)\n",
       "────────────── + ───────────────────\n",
       "      10                  10        "
      ]
     },
     "execution_count": 53,
     "metadata": {},
     "output_type": "execute_result"
    }
   ],
   "source": [
    "polterdot = subs(hierarchies,diff(polter_t,t))\n",
    "polterdot"
   ]
  },
  {
   "cell_type": "code",
   "execution_count": 54,
   "metadata": {
    "collapsed": false
   },
   "outputs": [
    {
     "data": {
      "image/png": "[encoded data removed]",
      "text/latex": [
       "$$\\frac{4 k}{75} \\left(k \\left(A{\\left (t \\right )} + \\phi{\\left (t \\right )}\\right) - H{\\left (t \\right )} \\sigma{\\left (t \\right )}\\right) - \\frac{k}{50} \\left(3 \\operatorname{Kf}{\\left (2 \\right )} \\frac{d}{d t} \\operatorname{J_{3}}{\\left (t \\right )} - 2 \\frac{d}{d t} \\operatorname{q_{g}}{\\left (t \\right )}\\right) - \\frac{k}{5} \\operatorname{Kf}{\\left (2 \\right )} \\frac{d}{d t} \\operatorname{E_{3}}{\\left (t \\right )} - \\frac{2 \\kappa}{75} \\Pi{\\left (t \\right )} a^{2}{\\left (t \\right )} - \\frac{3}{5} \\operatorname{E_{2}}{\\left (t \\right )} \\frac{d}{d t} \\operatorname{opac}{\\left (t \\right )} - \\frac{3}{5} \\operatorname{opac}{\\left (t \\right )} \\frac{d}{d t} \\operatorname{E_{2}}{\\left (t \\right )} - \\frac{1}{10} \\operatorname{opac}{\\left (t \\right )} \\frac{d}{d t} \\pi_{g}{\\left (t \\right )} + \\frac{7}{10} \\operatorname{opac}{\\left (t \\right )} \\frac{d}{d t} \\operatorname{polter}{\\left (t \\right )} - \\frac{1}{10} \\pi_{g}{\\left (t \\right )} \\frac{d}{d t} \\operatorname{opac}{\\left (t \\right )} + \\frac{7}{10} \\operatorname{polter}{\\left (t \\right )} \\frac{d}{d t} \\operatorname{opac}{\\left (t \\right )}$$"
      ],
      "text/plain": [
       "                                      ⎛        d             d         ⎞      \n",
       "                                    k⋅⎜3⋅Kf(2)⋅──(J₃(t)) - 2⋅──(q_g(t))⎟   k⋅K\n",
       "4⋅k⋅(k⋅(A(t) + φ(t)) - H(t)⋅σ(t))     ⎝        dt            dt        ⎠      \n",
       "───────────────────────────────── - ──────────────────────────────────── - ───\n",
       "                75                                   50                       \n",
       "\n",
       "     d                                    d                       d           \n",
       "f(2)⋅──(E₃(t))             2      3⋅E₂(t)⋅──(opac(t))   3⋅opac(t)⋅──(E₂(t))   \n",
       "     dt          2⋅κ⋅Π(t)⋅a (t)           dt                      dt          \n",
       "────────────── - ────────────── - ─────────────────── - ─────────────────── - \n",
       "     5                 75                  5                     5            \n",
       "\n",
       "        d                      d                      d                       \n",
       "opac(t)⋅──(π_g(t))   7⋅opac(t)⋅──(polter(t))   π_g(t)⋅──(opac(t))   7⋅polter(t\n",
       "        dt                     dt                     dt                      \n",
       "────────────────── + ─────────────────────── - ────────────────── + ──────────\n",
       "        10                      10                     10                     \n",
       "\n",
       "  d          \n",
       ")⋅──(opac(t))\n",
       "  dt         \n",
       "─────────────\n",
       " 10          "
      ]
     },
     "execution_count": 54,
     "metadata": {},
     "output_type": "execute_result"
    }
   ],
   "source": [
    "diff(polterdot,t).subs(diff(sigma(t),t),dsigma).simplify()"
   ]
  },
  {
   "cell_type": "code",
   "execution_count": 55,
   "metadata": {
    "collapsed": false
   },
   "outputs": [
    {
     "data": {
      "image/png": "[encoded data removed]",
      "text/latex": [
       "$$\\frac{1}{150 k \\operatorname{Kf}{\\left (1 \\right )}} \\left(8 k^{3} A{\\left (t \\right )} \\operatorname{Kf}{\\left (1 \\right )} - 8 k^{2} H{\\left (t \\right )} \\operatorname{Kf}{\\left (1 \\right )} \\sigma{\\left (t \\right )} + k \\left(- 3 k \\left(3 \\operatorname{Kf}{\\left (2 \\right )} \\frac{d}{d t} \\operatorname{J_{3}}{\\left (t \\right )} - 2 \\frac{d}{d t} \\operatorname{q_{g}}{\\left (t \\right )}\\right) - 30 k \\operatorname{Kf}{\\left (2 \\right )} \\frac{d}{d t} \\operatorname{E_{3}}{\\left (t \\right )} - 4 \\kappa \\Pi{\\left (t \\right )} a^{2}{\\left (t \\right )} - 90 \\operatorname{E_{2}}{\\left (t \\right )} \\frac{d}{d t} \\operatorname{opac}{\\left (t \\right )} - 90 \\operatorname{opac}{\\left (t \\right )} \\frac{d}{d t} \\operatorname{E_{2}}{\\left (t \\right )} - 15 \\operatorname{opac}{\\left (t \\right )} \\frac{d}{d t} \\pi_{g}{\\left (t \\right )} + 105 \\operatorname{opac}{\\left (t \\right )} \\frac{d}{d t} \\operatorname{polter}{\\left (t \\right )} - 15 \\pi_{g}{\\left (t \\right )} \\frac{d}{d t} \\operatorname{opac}{\\left (t \\right )} + 105 \\operatorname{polter}{\\left (t \\right )} \\frac{d}{d t} \\operatorname{opac}{\\left (t \\right )}\\right) \\operatorname{Kf}{\\left (1 \\right )} - 4 \\kappa \\left(k \\operatorname{Kf}{\\left (1 \\right )} \\Pi{\\left (t \\right )} + k \\delta{\\left (t \\right )} + 3 H{\\left (t \\right )} q{\\left (t \\right )}\\right) a^{2}{\\left (t \\right )}\\right)$$"
      ],
      "text/plain": [
       "   3                 2                     ⎛      ⎛        d             d    \n",
       "8⋅k ⋅A(t)⋅Kf(1) - 8⋅k ⋅H(t)⋅Kf(1)⋅σ(t) + k⋅⎜- 3⋅k⋅⎜3⋅Kf(2)⋅──(J₃(t)) - 2⋅──(q_\n",
       "                                           ⎝      ⎝        dt            dt   \n",
       "──────────────────────────────────────────────────────────────────────────────\n",
       "                                                                              \n",
       "\n",
       "     ⎞              d                     2               d                   \n",
       "g(t))⎟ - 30⋅k⋅Kf(2)⋅──(E₃(t)) - 4⋅κ⋅Π(t)⋅a (t) - 90⋅E₂(t)⋅──(opac(t)) - 90⋅opa\n",
       "     ⎠              dt                                    dt                  \n",
       "──────────────────────────────────────────────────────────────────────────────\n",
       "                                                                              \n",
       "\n",
       "     d                      d                        d                        \n",
       "c(t)⋅──(E₂(t)) - 15⋅opac(t)⋅──(π_g(t)) + 105⋅opac(t)⋅──(polter(t)) - 15⋅π_g(t)\n",
       "     dt                     dt                       dt                       \n",
       "──────────────────────────────────────────────────────────────────────────────\n",
       "    150⋅k⋅Kf(1)                                                               \n",
       "\n",
       " d                           d          ⎞                                     \n",
       "⋅──(opac(t)) + 105⋅polter(t)⋅──(opac(t))⎟⋅Kf(1) - 4⋅κ⋅(k⋅Kf(1)⋅Π(t) + k⋅δ(t) +\n",
       " dt                          dt         ⎠                                     \n",
       "──────────────────────────────────────────────────────────────────────────────\n",
       "                                                                              \n",
       "\n",
       "               2   \n",
       " 3⋅H(t)⋅q(t))⋅a (t)\n",
       "                   \n",
       "───────────────────\n",
       "                   "
      ]
     },
     "execution_count": 55,
     "metadata": {},
     "output_type": "execute_result"
    }
   ],
   "source": [
    "polterddot = subs(phi_sub,diff(polterdot,t).subs(diff(sigma(t),t),dsigma).simplify()).simplify()\n",
    "polterddot"
   ]
  },
  {
   "cell_type": "code",
   "execution_count": 56,
   "metadata": {
    "collapsed": false
   },
   "outputs": [],
   "source": [
    "monopole_source = Delta_g(t)*vis(t)/4  \n",
    "sachs_wolfe = 2*phi(t)*vis(t) + eta(t)*vis(t)/(2*Kf(1)) \n",
    "quadrupole_source = (remainder-sachs_wolfe - monopole_source).simplify()\n",
    "dop = diff((v_b(t)+sigma(t))*vis(t),t)/k\n",
    "#check this is equal to the form of the Doppler source above\n",
    "assert(subs(var_subs,subs(pert_eqs,(dop-Doppler))).simplify()==0)"
   ]
  },
  {
   "cell_type": "code",
   "execution_count": 95,
   "metadata": {
    "collapsed": false
   },
   "outputs": [],
   "source": [
    "#for translation in source output routine (does not include all equation variable)\n",
    "\n",
    "def camb_fortran(expr, name= 'camb_function', expand =False):\n",
    "    etakdot, etak, j, qg, vb, qr, qgdot, qrdot, vbdot, pig, pigdot, pir, pirdot, pinu, pinudot, dgq, a, sigma, adotoa, octg, octgprime = \\\n",
    "    sympy.symbols('etakdot etak j qg vb qr qgdot qrdot vbdot pig pigdot pir pirdot pinu pinutdot dgq, a, sigma,adotoa, octg, octgprime')\n",
    "    ddvis, dvis, dopac = sympy.symbols('ddvis dvis dopac', cls= sympy.Function)\n",
    "    clxg, ypolprime, ypol, gpres, grho, polter, polterdot,polterddot, dgpi, phi, diff_rhopi, expmmu, dgrho, sigmadot, phidot = \\\n",
    "      sympy.symbols('clxg ypolprime ypol gpres grho polter polterdot polterddot dgpi, phi, diff_rhopi, expmmu, dgrho sigmadot phidot')\n",
    "\n",
    "    #Keep everything except baryons pressure which is very small\n",
    "    camb_diff_subs= [(diff(q_g(t),t),qgdot),(diff(pi_g(t),t),pigdot),(diff(pi_r(t),t),pirdot),\n",
    "               (diff(q_r(t),t),qrdot),(diff(v_b(t),t),vbdot),(diff(a(t),t), a*adotoa), \n",
    "               (diff(vis(t),t,t),ddvis(j)),(diff(vis(t),t),dvis(j)), (diff(opac(t),t),dopac(j)),\n",
    "               (diff(J_3(t),t),octgprime), (diff(E_2(t),t),ypolprime(2)),\n",
    "               (diff(E_3(t),t),ypolprime(3)), (diff(pi_nu(t),t),pinudot),\n",
    "               (diff(eta(t),t),-2*etakdot/k),(diff(Pi(t),t), diff_rhopi/kappa/a**2),\n",
    "               (diff(polter(t),t,t),polterddot),(diff(polter(t),t),polterdot),\n",
    "                    (diff(sigma(t),t), sigmadot), (diff(phi(t),t), phidot), (diff(p_b(t),t),0)]\n",
    "\n",
    "    camb_subs= [(p_b(t),0),(q(t),dgq/kappa/a**2), (H(t),adotoa),(a(t),a),(sigma(t),sigma), \n",
    "               (v_b(t),vb), (pi_g(t),pig),(pi_r(t),pir),(q_g(t),qg),\n",
    "               (z(t),z),(Delta_g(t),clxg),(E_2(t),ypol(2)), (delta(t), dgrho/kappa/a**2),\n",
    "               (E_3(t),ypol(3)), (polter(t),polter),(J_3(t), octg), \n",
    "               (pi_nu(t),pinu), (P(t),gpres/kappa/a**2),(rho(t),grho/kappa/a**2),\n",
    "               (eta(t),-2*etak/k), (phi(t),phi), (Pi(t),dgpi/a**2/kappa), (exptau(t), expmmu(j)), (t,j)]\n",
    "    \n",
    "    res = cdm_gauge(expr).subs(camb_diff_subs)\n",
    "    if 'Derivative' in str(res):\n",
    "        raise Exception('Remaining derivatives: ' + str(res))\n",
    "    res = res.subs(camb_subs).simplify()\n",
    "    if expand: res = res.expand()\n",
    "    res = res.collect([opac(j), dopac(j), expmmu(j), vis(j)])\n",
    "    res = codegen((name, res), 'f95', 'my_project', header=False)[0][1]\n",
    "    lines  = res.split('\\n')\n",
    "    for i,line in enumerate(lines):\n",
    "        if '=' in line:\n",
    "            res = '\\n'.join(lines[i:-2])\n",
    "            break\n",
    "    return res.strip().replace('Kf', 'EV%Kf').replace('.0)',')')    "
   ]
  },
  {
   "cell_type": "code",
   "execution_count": 96,
   "metadata": {
    "collapsed": false
   },
   "outputs": [
    {
     "name": "stdout",
     "output_type": "stream",
     "text": [
      "phidot = (1.0d0/2.0d0)*(-adotoa*dgpi - 2*adotoa*k**2*phi + dgq*k - &\n",
      "      diff_rhopi + k*sigma*(gpres + grho))/k**2\n",
      "sigmadot = -adotoa*sigma - 1.0d0/2.0d0*dgpi/k + k*phi\n",
      "polterdot = (1.0d0/10.0d0)*pigdot + (3.0d0/5.0d0)*ypolprime(2)\n",
      "polterddot = -2.0d0/25.0d0*adotoa*dgq/(k*EV%Kf(1)) - 4.0d0/75.0d0*adotoa* &\n",
      "      k*sigma - 4.0d0/75.0d0*dgpi - 2.0d0/75.0d0*dgrho/EV%Kf(1) - 3.0d0/ &\n",
      "      50.0d0*k*octgprime*EV%Kf(2) + (1.0d0/25.0d0)*k*qgdot - 1.0d0/5.0d0 &\n",
      "      *k*EV%Kf(2)*ypolprime(3) + (-1.0d0/10.0d0*pig + (7.0d0/10.0d0)* &\n",
      "      polter - 3.0d0/5.0d0*ypol(2))*dopac(j) + (-1.0d0/10.0d0*pigdot &\n",
      "      + (7.0d0/10.0d0)*polterdot - 3.0d0/5.0d0*ypolprime(2))*opac(j)\n",
      "ISW = 2*phidot*expmmu(j)\n",
      "sachs_wolfe = (-etak/(k*EV%Kf(1)) + 2*phi)*vis(j)\n",
      "monopole_source = (1.0d0/4.0d0)*clxg*vis(j)\n",
      "doppler = ((sigma + vb)*dvis(j) + (sigmadot + vbdot)*vis(j))/k\n",
      "quadrupole_source = (5.0d0/8.0d0)*(3*polter*ddvis(j) + 6*polterdot*dvis( &\n",
      "      j) + (k**2*polter + 3*polterddot)*vis(j))/k**2\n"
     ]
    }
   ],
   "source": [
    "print camb_fortran(dphi, 'phidot')\n",
    "print camb_fortran(dsigma, 'sigmadot')\n",
    "print camb_fortran(diff(polter_t,t), 'polterdot')\n",
    "print camb_fortran(polterddot, 'polterddot')\n",
    "print camb_fortran(2*diff(phi(t),t)*exptau(t),'ISW')\n",
    "print camb_fortran(sachs_wolfe, 'sachs_wolfe', expand=True)\n",
    "print camb_fortran(monopole_source, 'monopole_source')\n",
    "print camb_fortran(dop, 'doppler')\n",
    "print camb_fortran(quadrupole_source, 'quadrupole_source')\n"
   ]
  },
  {
   "cell_type": "code",
   "execution_count": null,
   "metadata": {
    "collapsed": true
   },
   "outputs": [],
   "source": []
  }
 ],
 "metadata": {
  "kernelspec": {
   "display_name": "Python 2",
   "language": "python",
   "name": "python2"
  },
  "language_info": {
   "codemirror_mode": {
    "name": "ipython",
    "version": 2
   },
   "file_extension": ".py",
   "mimetype": "text/x-python",
   "name": "python",
   "nbconvert_exporter": "python",
   "pygments_lexer": "ipython2",
   "version": "2.7.13"
  }
 },
 "nbformat": 4,
 "nbformat_minor": 0
}
