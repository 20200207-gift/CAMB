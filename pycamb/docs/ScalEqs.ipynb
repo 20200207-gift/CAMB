{
 "cells": [
  {
   "cell_type": "code",
   "execution_count": 1,
   "metadata": {
    "collapsed": true
   },
   "outputs": [],
   "source": [
    "#Set of scalar equations implemented in CAMB, and calculation of the line-of-sight sources\n",
    "#indices are: g - photons, r- massless neutrinos, c - CDM, b - baryons, de - dark energy, nu - massive neutrinos\n",
    "# kappa = 8 pi G, Pi is anisotropic stress, q =(rho+p)v the heat flux (and for components rho_i q_i = (rho_i+p_i)v_i)\n",
    "# z is the perturbation to the expansion, h perturbation to the scale factor, sigma the shear\n",
    "# phi the Weyl potential, and eta the 3-curvature. Equations are in a general gauge\n",
    "# Equations are implemented in CAMB in the CDM frame (synchronous gauge, but using variables above). \n",
    "# There are functions to convert into Newtonian and synchronous gauge metric variables\n",
    "# Note the code calls Delta_i density perturbation variables clxi\n",
    "\n",
    "%matplotlib inline\n",
    "import sys, platform, os\n",
    "from matplotlib import pyplot as plt\n",
    "import numpy as np\n",
    "from IPython.display import display\n",
    "import six"
   ]
  },
  {
   "cell_type": "code",
   "execution_count": 2,
   "metadata": {
    "collapsed": true
   },
   "outputs": [],
   "source": [
    "import warnings\n",
    "warnings.filterwarnings('ignore', category=DeprecationWarning, module='.*/IPython/.*')\n",
    "import sympy\n",
    "from sympy import diff, Eq, simplify, Function\n",
    "from sympy.abc import t, kappa, K, k\n",
    "from sympy.utilities.codegen import codegen\n",
    "\n",
    "checks = True\n",
    "\n",
    "#Background variables\n",
    "\n",
    "tau0 = sympy.Symbol('tau0', description = 'conformal time today')\n",
    "tau_maxvis = sympy.Symbol('tau_maxvis', description = 'conformal time of peak visibility')\n",
    "\n",
    "f_K = Function ('f_K', description ='comoving angular diameter distance')\n",
    "\n",
    "H = Function('H', description = 'comoving hubble parameter', camb_var = 'adotoa')(t)\n",
    "rho = Function('rho', description = 'total density', camb_var = 'grho', camb_sub = 'grho/kappa/a**2')(t)\n",
    "P = Function('P', description = 'total pressure', camb_var = 'gpres', camb_sub = 'gpres/kappa/a**2')(t)\n",
    "a = Function('a', description = 'scale factor')(t)\n",
    "\n",
    "rho_b = Function('rho_b', description = 'baryon density', camb_var = 'grhob_t', camb_sub = 'grhob_t/kappa/a**2')(t)\n",
    "rho_c = Function('rho_c', description = 'CDM density', camb_var = 'grhoc_t', camb_sub = 'grhoc_t/kappa/a**2')(t)\n",
    "rho_g = Function('rho_g', description = 'photon density', camb_var = 'grhog_t', camb_sub = 'grhog_t/kappa/a**2')(t)\n",
    "rho_r = Function('rho_r', description = 'massless neutrino density', camb_var = 'grhor_t', camb_sub = 'grhor_t/kappa/a**2')(t)\n",
    "rho_nu = Function('rho_nu', description = 'massive neutrino density', camb_var = 'grhonu_t', camb_sub = 'grhonu_t/kappa/a**2')(t)\n",
    "rho_de = Function('rho_de', description = 'dark energy density', camb_var = 'grhov_t', camb_sub = 'grhov_t/kappa/a**2')(t)\n",
    "\n",
    "p_b = Function('p_b', description = 'baryon pressure', camb_sub='0')(t)\n",
    "p_nu = Function('p_nu', description = 'massive neutrino pressure')(t)\n",
    "w_de = Function('w_de', camb_var='w_lam', description = 'fluid dark energy equation of state')(t)\n",
    "p_g = rho_g/3\n",
    "p_r = rho_r/3\n",
    "p_c = 0\n",
    "p_de = w_de*rho_de\n",
    "\n",
    "opacity = Function('opacity', description = 'opacity, a n_e sigma_t')(t)\n",
    "visibility = Function('visibility', description = 'ionization visibility')(t)\n",
    "exptau = Function('exptau', description = 'exp(-tau)')(t)\n",
    "\n",
    "\n",
    "def subs(eqs,expr):\n",
    "    #generalization to act on lists of equations, and support using Eq equations.\n",
    "    #lists are substituted irrespective of order, so no RHS variables are substituted by other elements\n",
    "    if isinstance(expr, (list, tuple)):\n",
    "        res = [subs(eqs,ex) for ex in expr]\n",
    "        return [ x for x in res if x != True]\n",
    "    if not isinstance(expr,sympy.Expr): return expr\n",
    "    if isinstance(eqs, dict):\n",
    "        return expr.subs(eqs)\n",
    "    else:\n",
    "        if not isinstance(eqs,(list,tuple)):\n",
    "            return expr.subs(eqs.lhs,eqs.rhs)\n",
    "        eqs = [(eq.lhs,eq.rhs) for eq in eqs]        \n",
    "        #must use dict in order for rhs not to be substituted by subsequent lhs\n",
    "        return expr.subs(dict(eqs))\n",
    "\n",
    "def solve(eq, x):\n",
    "    res= sympy.solve(eq,x)\n",
    "    if len(res)==1:\n",
    "        return res[0]\n",
    "    else:\n",
    "        return res\n",
    "\n",
    "half = sympy.Rational(1,2)\n",
    "third = sympy.Rational(1,3)\n",
    "Kf =  sympy.IndexedBase('Kf', shape=(sympy.oo,))\n",
    "K_fac = sympy.Symbol('Kf_1') #currently sympy bugs just using Kf[1], so treat as separate symbol\n",
    "K_fac_sub = 1-3*K/k**2\n",
    "K_sub = Eq(K,solve(K_fac_sub-K_fac,K))\n",
    "\n",
    "\n",
    "H_t = diff(a,t)/a\n",
    "dH = -a**2/6*kappa*(rho+3*P)\n",
    "Friedmann = Eq(H**2,a**2*kappa*rho/3-K)\n",
    "Friedmann_subs = [Friedmann, Eq(diff(H,t),dH), Eq(diff(a,t),a*H)]\n",
    "Friedmann_Kfac_subs = subs(K_sub, Friedmann_subs)\n",
    "\n",
    "sympy.init_printing()\n",
    "\n",
    "delta_frame = sympy.Symbol('uprime')(t)\n",
    "def LinearPerturbation(name, species=None, camb_var=None, camb_sub = None, frame_dependence = None, description=None):\n",
    "    f=sympy.Function(name, species=species, camb_var=camb_var, camb_sub=camb_sub, perturbation_order = 1,\n",
    "                        frame_dependence = frame_dependence, description = description)   \n",
    "    return f(t)\n",
    "    \n",
    "def list_perturbations(expr, lst=None):\n",
    "     if lst is None: lst=[]\n",
    "     if getattr(expr, 'perturbation_order', None) and not expr in lst:\n",
    "            lst.append(expr)\n",
    "     for arg in expr.args:\n",
    "        list_perturbations(arg, lst)\n",
    "     return lst\n",
    "    \n",
    "def list_frame_dependent_vars(expr, lst=None):\n",
    "     if lst is None: lst=[]\n",
    "     if getattr(expr, 'frame_dependence', None) and not expr in lst:\n",
    "            lst.append(expr)\n",
    "     for arg in expr.args:\n",
    "        list_frame_dependent_vars(arg, lst)\n",
    "     return lst\n",
    "\n",
    "def simplify_sum(expr):\n",
    "    if isinstance(expr,sympy.Add):\n",
    "        return sympy.Add(*[simplify(term) for term in expr.args])\n",
    "    else:\n",
    "        return expr\n",
    "    \n",
    "\n",
    "def frame_change(expr, delta_u = None, total = False):\n",
    "    if getattr(expr, 'frame_dependence',None):\n",
    "        res = expr.frame_dependence\n",
    "        if delta_u is not None:  \n",
    "            res = res.subs(delta_frame, delta_u)\n",
    "        if total: res += expr\n",
    "        return res\n",
    "    else:\n",
    "        if isinstance(expr, (list,tuple)): return [frame_change(x) for x in expr]\n",
    "        perts = list_frame_dependent_vars(expr)\n",
    "        res = subs([Eq(pert,pert + pert.frame_dependence) for pert in perts], expr)\n",
    "        if delta_u is not None and isinstance(res,sympy.Expr):\n",
    "            res = res.subs(delta_frame, delta_u)\n",
    "        if not total: res -= expr\n",
    "        res = simplify(res).expand()\n",
    "        return simplify_sum(res.collect(list_frame_dependent_vars(res)))\n",
    "        \n",
    "\n",
    "\n",
    "#Perturbation variables\n",
    "\n",
    "#gauge-invariant potential\n",
    "phi = LinearPerturbation('phi', description = 'Weyl potential')\n",
    "\n",
    "eta = LinearPerturbation('eta', camb_var='etak', camb_sub = '-2*etak/k',description = 'three-curvature',\n",
    "                              frame_dependence = -2*K_fac*H*delta_frame/k)\n",
    "\n",
    "sigma = LinearPerturbation('sigma', description = 'shear',\n",
    "                           frame_dependence = delta_frame)\n",
    "\n",
    "A =  LinearPerturbation('A', camb_sub=0, description = 'acceleration',\n",
    "                        frame_dependence = (diff(delta_frame,t)+H*delta_frame)/k)\n",
    "\n",
    "z =  LinearPerturbation('z', description = 'expansion rate perturbation',\n",
    "#                        frame_dependence = delta_frame - 3*(dH- H**2)*delta_frame/k**2)\n",
    "                        frame_dependence =K_fac*delta_frame + 3*kappa*a**2*(rho+P)*delta_frame/(2*k**2))\n",
    "\n",
    "hdot = LinearPerturbation('hdot', camb_sub=k/3*z, description = 'time derivative of scale factor perturbation',\n",
    "                        frame_dependence = k*delta_frame/3 - diff(delta_frame*H,t)/k)\n",
    "\n",
    "\n",
    "delta =  LinearPerturbation('delta', camb_var = 'dgrho', camb_sub='dgrho/kappa/a**2', description = 'total density perturbation',\n",
    "                        frame_dependence = 3*H*(rho+P)*delta_frame/k)\n",
    "\n",
    "delta_P =  LinearPerturbation('delta_P', camb_sub='error', description = 'total pressure perturbation',\n",
    "                        frame_dependence = -diff(P,t)*delta_frame/k)\n",
    "\n",
    "q = LinearPerturbation('q', camb_var='dgq', camb_sub ='dgq/kappa/a**2', description = 'total heat flux',\n",
    "                              frame_dependence = -(rho+P)*delta_frame)\n",
    "\n",
    "Pi = LinearPerturbation('Pi', camb_var ='dgpi', camb_sub='dgpi/a**2/kappa', description = 'total anisotropic stress')\n",
    "\n",
    "\n",
    "\n",
    "#quadrupole source\n",
    "polter  = sympy.Symbol('polter')(t)\n",
    "\n",
    "#Newtonian gauge variables (in general equal to gauge invariant potentials)\n",
    "Phi_N = LinearPerturbation('Phi_N', description ='Newtonian gauge curvature potential')\n",
    "Psi_N = LinearPerturbation('Psi_N', description ='Newtonian gauge acceleration potential')\n",
    "\n",
    "#Synchronous gauge variables\n",
    "eta_s = LinearPerturbation('eta_s', description = 'Synchronous gauge curvature variable')\n",
    "hdot_s = LinearPerturbation('hdot_s', description = 'Synchronous gauge diff(h,t)')\n",
    "\n",
    "#velocities, and dimensionless heat flux [(rho_i+P_i)v_i = rho_i q_i]\n",
    "\n",
    "q_r = LinearPerturbation('q_r', species='r', camb_var='qr', description = 'massless neutrino heat flux',\n",
    "                              frame_dependence = -4*delta_frame/3)\n",
    "q_g = LinearPerturbation('q_g', species='g', camb_var='qg', description = 'photon heat flux'  ,\n",
    "                              frame_dependence = -4*delta_frame/3)\n",
    "q_nu = LinearPerturbation('q_nu', species='nu', camb_var='qnu', description = 'massive neutrino heat flux',\n",
    "                              frame_dependence = -(1+p_nu/rho_nu)*delta_frame)\n",
    "\n",
    "v_c = LinearPerturbation('v_c', species='c',  description = 'CDM velocity',\n",
    "                              frame_dependence = -delta_frame)\n",
    "v_b = LinearPerturbation('v_b', species='b',  camb_var='vb',  description = 'baryon velocity',\n",
    "                              frame_dependence = -delta_frame)\n",
    "v_de = LinearPerturbation('v_de', species='de',  camb_var='vq',  description = 'dark energy velocity',\n",
    "                              frame_dependence = -delta_frame)\n",
    "Delta_b = LinearPerturbation('Delta_b', species='b',  camb_var='clxb',  description = 'fractional baryon density perturbation',\n",
    "                              frame_dependence = 3*H*(1+p_b/rho_b)*delta_frame/k)\n",
    "Delta_c = LinearPerturbation('Delta_c', species='c',  camb_var='clxc',  description = 'fractional CDM density perturbation', \n",
    "                              frame_dependence = 3*H*delta_frame/k)\n",
    "Delta_r = LinearPerturbation('Delta_r', species='r',  camb_var='clxr',  \n",
    "                             description = 'fractional massless neutrino density perturbation', \n",
    "                              frame_dependence = 4*H*delta_frame/k)\n",
    "\n",
    "Delta_nu = LinearPerturbation('Delta_nu', species='nu',  camb_var='clxnu',  \n",
    "                             description = 'fractional massive neutrino density perturbation', \n",
    "                              frame_dependence = 3*H*(1+p_nu/rho_nu)*delta_frame/k)\n",
    "Delta_P_nu =  LinearPerturbation('Delta_P_nu', camb_sub='error', description = 'fractional massive neutrino pressure perturbation',\n",
    "                        frame_dependence = -diff(p_nu,t)/rho_nu*delta_frame/k)\n",
    "\n",
    "\n",
    "Delta_g = LinearPerturbation('Delta_g', species='g',  camb_var='clxg',  description = 'fractional CDM density perturbation', \n",
    "                              frame_dependence = 4*H*delta_frame/k)\n",
    "Delta_de = LinearPerturbation('Delta_de', species='de',  camb_var='clxq',  description = 'fractional dark energy density perturbation', \n",
    "                              frame_dependence = 3*H*(1+w_de)*delta_frame/k)\n",
    "#Sound speeds\n",
    "csq_b = LinearPerturbation('c_sb^2', species='b',  camb_var='cs2', description = 'baryon sound speed')\n",
    "csq_b.frame_dependence = (csq_b*Delta_b - diff(p_b,t)/rho_b*delta_frame/k)/(Delta_b + 3*H*(1+p_b/rho_b)*delta_frame/k) - csq_b \n",
    "\n",
    "#dark energy sound speed defined in rest frame so gauge invariant\n",
    "csqhat_de = LinearPerturbation('chat_sde^2', species='de',  camb_var='cs2_lam',  \n",
    "                             description = 'rest frame dark energy sound speed')\n",
    "\n",
    "#Anisotropic stress\n",
    "pi_g = LinearPerturbation('pi_g', species='g',  camb_var='pig', description = 'photon anisotropic stress')\n",
    "pi_r = LinearPerturbation('pi_r', species='r',  camb_var='pir', description = 'massless neutrino anisotropic stress')\n",
    "pi_nu = LinearPerturbation('pi_nu', species='r',  camb_var='pinu', description = 'massive neutrino anisotropic stress')\n",
    "\n",
    "#frame names specify a frame where a certain variable is zero\n",
    "frame_names = {'CDM':v_c, 'Newtonian':sigma, 'comoving': q, \n",
    "              'flat': eta, 'constant density': delta}\n",
    "\n",
    "def make_gauge_invariant(expr, frame = 'CDM'):\n",
    "    \"\"\"\n",
    "    Makes the quantity gauge invariant, assuming currently evaluated in frame 'frame'.\n",
    "    frame can either be a string frame name, or a variable that is zero in the current frame,\n",
    "    e.g. frame = Delta_g gives the constant photon density frame.\n",
    "    \"\"\"\n",
    "    if isinstance(frame,six.string_types):\n",
    "        if not frame in frame_names: raise ValueError('Unknown frame names: %s'%frame)\n",
    "        frame =frame_names[frame]\n",
    "    if isinstance(expr, Eq): return simplify(Eq(make_gauge_invariant(expr.lhs, frame), make_gauge_invariant(expr.rhs, frame)))\n",
    "    if isinstance(expr, (list,tuple)): return [make_gauge_invariant(x, frame) for x in expr]\n",
    "    #do frame change to make frame variable zero\n",
    "    #special case of frame=A, equivalent to v_c frame by evolution equation\n",
    "    if frame==A: frame = v_c\n",
    "    delta_u = solve(frame_change(frame, total=True), delta_frame)\n",
    "    if delta_frame in delta_u.atoms(Function):\n",
    "        raise ValueError('Cannot solve for change of frame. Currently only supports algebraic frame changes: %s'%delta_u)\n",
    "    return frame_change(expr, delta_u = delta_u, total = True)\n"
   ]
  },
  {
   "cell_type": "code",
   "execution_count": 3,
   "metadata": {},
   "outputs": [
    {
     "data": {
      "image/png": "[encoded data removed]",
      "text/latex": [
       "$$\\left [ \\frac{d}{d t} a{\\left (t \\right )} = H{\\left (t \\right )} a{\\left (t \\right )}, \\quad \\frac{d}{d t} H{\\left (t \\right )} = - \\frac{\\kappa}{6} \\left(3 P{\\left (t \\right )} + \\rho{\\left (t \\right )}\\right) a^{2}{\\left (t \\right )}, \\quad \\frac{d}{d t} \\operatorname{exptau}{\\left (t \\right )} = \\operatorname{visibility}{\\left (t \\right )}\\right ]$$"
      ],
      "text/plain": [
       "⎡                                                     2                       \n",
       "⎢d                     d          -κ⋅(3⋅P(t) + ρ(t))⋅a (t)   d                \n",
       "⎢──(a(t)) = H(t)⋅a(t), ──(H(t)) = ─────────────────────────, ──(exptau(t)) = v\n",
       "⎣dt                    dt                     6              dt               \n",
       "\n",
       "            ⎤\n",
       "            ⎥\n",
       "isibility(t)⎥\n",
       "            ⎦"
      ]
     },
     "metadata": {},
     "output_type": "display_data"
    }
   ],
   "source": [
    "background_eqs = [\n",
    "    Eq(diff(a,t),H*a),\n",
    "    Eq(diff(H,t),dH),\n",
    "    Eq(diff(exptau,t),visibility)\n",
    "]\n",
    "display(background_eqs)"
   ]
  },
  {
   "cell_type": "code",
   "execution_count": 4,
   "metadata": {
    "collapsed": true
   },
   "outputs": [],
   "source": [
    "sys.path.insert(0,r'c:\\work\\dist\\git\\camb\\pycamb')\n",
    "from camb.baseconfig import dll_import, camblib\n",
    "import camb, ctypes\n",
    "test_f = camblib.__handles_MOD_camb_testfunction\n",
    "test_f.argtypes = [ctypes.c_voidp,ctypes.POINTER(ctypes.c_double)]\n",
    "test_f.restype = ctypes.c_double"
   ]
  },
  {
   "cell_type": "code",
   "execution_count": 5,
   "metadata": {
    "collapsed": true
   },
   "outputs": [],
   "source": [
    "from sympy.utilities.autowrap import autowrap\n",
    "f= autowrap(kappa**3, tempdir=r'z:')"
   ]
  },
  {
   "cell_type": "code",
   "execution_count": 6,
   "metadata": {},
   "outputs": [
    {
     "data": {
      "image/png": "[encoded data removed]",
      "text/latex": [
       "$$13310.0$$"
      ],
      "text/plain": [
       "13310.0"
      ]
     },
     "execution_count": 6,
     "metadata": {},
     "output_type": "execute_result"
    }
   ],
   "source": [
    "xval = ctypes.c_double()\n",
    "xval.value = 11.\n",
    "PyCObject_AsVoidPtr = ctypes.PYFUNCTYPE(ctypes.c_void_p, ctypes.py_object)(\n",
    "                          ('PyCObject_AsVoidPtr', ctypes.pythonapi))\n",
    "addr = PyCObject_AsVoidPtr(f._cpointer)\n",
    "test_f(ctypes.cast(addr, ctypes.c_voidp),  ctypes.byref(xval))"
   ]
  },
  {
   "cell_type": "code",
   "execution_count": null,
   "metadata": {
    "collapsed": true,
    "scrolled": true
   },
   "outputs": [],
   "source": []
  },
  {
   "cell_type": "code",
   "execution_count": 7,
   "metadata": {},
   "outputs": [
    {
     "data": {
      "image/png": "[encoded data removed]",
      "text/latex": [
       "$$\\left [ Kf_{1} k^{3} \\phi{\\left (t \\right )} + \\frac{k \\kappa}{2} \\left(Kf_{1} \\Pi{\\left (t \\right )} + \\delta{\\left (t \\right )}\\right) a^{2}{\\left (t \\right )} + \\frac{3 \\kappa}{2} H{\\left (t \\right )} a^{2}{\\left (t \\right )} q{\\left (t \\right )}, \\quad k^{2} \\eta{\\left (t \\right )} + 2 k H{\\left (t \\right )} z{\\left (t \\right )} - \\kappa a^{2}{\\left (t \\right )} \\delta{\\left (t \\right )}, \\quad \\frac{2 k^{2}}{3 a^{2}{\\left (t \\right )}} \\left(- Kf_{1} \\sigma{\\left (t \\right )} + z{\\left (t \\right )}\\right) + \\kappa q{\\left (t \\right )}, \\quad - \\frac{k}{3} z{\\left (t \\right )} + A{\\left (t \\right )} H{\\left (t \\right )} + \\dot{h}{\\left (t \\right )}\\right ]$$"
      ],
      "text/plain": [
       "⎡                                     2                2                      \n",
       "⎢     3        k⋅κ⋅(Kf₁⋅Π(t) + δ(t))⋅a (t)   3⋅κ⋅H(t)⋅a (t)⋅q(t)   2          \n",
       "⎢Kf₁⋅k ⋅φ(t) + ─────────────────────────── + ───────────────────, k ⋅η(t) + 2⋅\n",
       "⎢                           2                         2                       \n",
       "⎣                                                                             \n",
       "\n",
       "                               2                                              \n",
       "                 2          2⋅k ⋅(-Kf₁⋅σ(t) + z(t))             k⋅z(t)        \n",
       "k⋅H(t)⋅z(t) - κ⋅a (t)⋅δ(t), ─────────────────────── + κ⋅q(t), - ────── + A(t)⋅\n",
       "                                       2                          3           \n",
       "                                    3⋅a (t)                                   \n",
       "\n",
       "            ⎤\n",
       "            ⎥\n",
       "H(t) + ḣ(t)⎥\n",
       "            ⎥\n",
       "            ⎦"
      ]
     },
     "execution_count": 7,
     "metadata": {},
     "output_type": "execute_result"
    }
   ],
   "source": [
    "#constraint equations relating variables\n",
    "cons1 = k**3*K_fac*phi+kappa/2*a**2*k*(delta+Pi*K_fac)  +3*kappa/2*a**2*H*q\n",
    "cons2 = k**2*eta-kappa*a**2*delta + 2*k*H*z\n",
    "cons3 = 2*third*(k/a)**2*(z-K_fac*sigma)+kappa*q\n",
    "cons4 = hdot - k/3*z+H*A\n",
    "constraints = [cons1,cons2, cons3, cons4]\n",
    "\n",
    "if checks:\n",
    "    ##All equations should be gauge invariant\n",
    "    for cons in constraints:\n",
    "        assert(simplify(subs(Friedmann_Kfac_subs,make_gauge_invariant(cons))-cons)==0)\n",
    "    \n",
    "constraints"
   ]
  },
  {
   "cell_type": "code",
   "execution_count": 8,
   "metadata": {
    "collapsed": true
   },
   "outputs": [],
   "source": [
    "def subs_for_variable_set(vars = [z, sigma, phi, hdot]):\n",
    "    return solve(constraints, vars)"
   ]
  },
  {
   "cell_type": "code",
   "execution_count": 9,
   "metadata": {},
   "outputs": [
    {
     "data": {
      "image/png": "[encoded data removed]",
      "text/latex": [
       "$$\\left \\{ \\dot{h}{\\left (t \\right )} : \\frac{1}{6 H{\\left (t \\right )}} \\left(- k^{2} \\eta{\\left (t \\right )} + \\kappa a^{2}{\\left (t \\right )} \\delta{\\left (t \\right )} - 6 A{\\left (t \\right )} H^{2}{\\left (t \\right )}\\right), \\quad \\phi{\\left (t \\right )} : - \\frac{\\kappa a^{2}{\\left (t \\right )}}{2 Kf_{1} k^{3}} \\left(Kf_{1} k \\Pi{\\left (t \\right )} + k \\delta{\\left (t \\right )} + 3 H{\\left (t \\right )} q{\\left (t \\right )}\\right), \\quad \\sigma{\\left (t \\right )} : \\frac{1}{2 Kf_{1} k^{2} H{\\left (t \\right )}} \\left(k \\left(- k^{2} \\eta{\\left (t \\right )} + \\kappa a^{2}{\\left (t \\right )} \\delta{\\left (t \\right )}\\right) + 3 \\kappa H{\\left (t \\right )} a^{2}{\\left (t \\right )} q{\\left (t \\right )}\\right), \\quad z{\\left (t \\right )} : \\frac{1}{2 k H{\\left (t \\right )}} \\left(- k^{2} \\eta{\\left (t \\right )} + \\kappa a^{2}{\\left (t \\right )} \\delta{\\left (t \\right )}\\right)\\right \\}$$"
      ],
      "text/plain": [
       "⎧          2           2                   2                                  \n",
       "⎪       - k ⋅η(t) + κ⋅a (t)⋅δ(t) - 6⋅A(t)⋅H (t)        -κ⋅(Kf₁⋅k⋅Π(t) + k⋅δ(t)\n",
       "⎨ḣ(t): ───────────────────────────────────────, φ(t): ───────────────────────\n",
       "⎪                        6⋅H(t)                                               \n",
       "⎩                                                                         2⋅Kf\n",
       "\n",
       "                 2              ⎛   2           2        ⎞             2      \n",
       " + 3⋅H(t)⋅q(t))⋅a (t)         k⋅⎝- k ⋅η(t) + κ⋅a (t)⋅δ(t)⎠ + 3⋅κ⋅H(t)⋅a (t)⋅q(\n",
       "──────────────────────, σ(t): ────────────────────────────────────────────────\n",
       "   3                                                   2                      \n",
       "₁⋅k                                             2⋅Kf₁⋅k ⋅H(t)                 \n",
       "\n",
       "             2           2        ⎫\n",
       "t)        - k ⋅η(t) + κ⋅a (t)⋅δ(t)⎪\n",
       "──, z(t): ────────────────────────⎬\n",
       "                  2⋅k⋅H(t)        ⎪\n",
       "                                  ⎭"
      ]
     },
     "metadata": {},
     "output_type": "display_data"
    }
   ],
   "source": [
    "var_subs = subs_for_variable_set()\n",
    "display(var_subs)"
   ]
  },
  {
   "cell_type": "code",
   "execution_count": 10,
   "metadata": {},
   "outputs": [
    {
     "data": {
      "image/png": "[encoded data removed]",
      "text/latex": [
       "$$q{\\left (t \\right )} = \\frac{2 k^{2}}{3 \\kappa a^{2}{\\left (t \\right )}} \\left(Kf_{1} \\sigma{\\left (t \\right )} - \\frac{1}{2 k H{\\left (t \\right )}} \\left(- k^{2} \\eta{\\left (t \\right )} + \\kappa a^{2}{\\left (t \\right )} \\delta{\\left (t \\right )}\\right)\\right)$$"
      ],
      "text/plain": [
       "            ⎛              2           2        ⎞\n",
       "          2 ⎜           - k ⋅η(t) + κ⋅a (t)⋅δ(t)⎟\n",
       "       2⋅k ⋅⎜Kf₁⋅σ(t) - ────────────────────────⎟\n",
       "            ⎝                   2⋅k⋅H(t)        ⎠\n",
       "q(t) = ──────────────────────────────────────────\n",
       "                            2                    \n",
       "                       3⋅κ⋅a (t)                 "
      ]
     },
     "execution_count": 10,
     "metadata": {},
     "output_type": "execute_result"
    }
   ],
   "source": [
    "hdot_sub, phi_sub, sigma_sub, z_sub = [Eq(x,subs(var_subs,x)) for x in [hdot, phi, sigma, z]]\n",
    "\n",
    "q_sub = Eq(q,subs(Eq(z,subs(var_subs,z)),solve(cons3,q)))\n",
    "q_sub\n"
   ]
  },
  {
   "cell_type": "code",
   "execution_count": 11,
   "metadata": {
    "collapsed": true
   },
   "outputs": [],
   "source": [
    "dz = -H*z - kappa*a**2/k/2*(delta+3*delta_P) + (3*kappa*a**2*(rho+P)/2)*A/k+k*K_fac*A"
   ]
  },
  {
   "cell_type": "code",
   "execution_count": 12,
   "metadata": {
    "collapsed": true
   },
   "outputs": [],
   "source": [
    "dsigma=-H*sigma+k*(phi+A)-half*kappa*a**2/k*Pi"
   ]
  },
  {
   "cell_type": "code",
   "execution_count": 13,
   "metadata": {
    "collapsed": true
   },
   "outputs": [],
   "source": [
    "deta = -1/k*(2*K*z + kappa*a**2*q +2*K_fac*k*H*A)"
   ]
  },
  {
   "cell_type": "code",
   "execution_count": 14,
   "metadata": {
    "collapsed": true
   },
   "outputs": [],
   "source": [
    "dphi = -H*phi+half/k**2*kappa*a**2*(k*(rho+P)*sigma+k*q-diff(Pi,t)-H*Pi)"
   ]
  },
  {
   "cell_type": "code",
   "execution_count": 15,
   "metadata": {},
   "outputs": [
    {
     "data": {
      "image/png": "[encoded data removed]",
      "text/latex": [
       "$$\\left [ \\frac{d}{d t} z{\\left (t \\right )} = Kf_{1} k A{\\left (t \\right )} - H{\\left (t \\right )} z{\\left (t \\right )} + \\frac{3 \\kappa}{2 k} \\left(P{\\left (t \\right )} + \\rho{\\left (t \\right )}\\right) A{\\left (t \\right )} a^{2}{\\left (t \\right )} - \\frac{\\kappa}{2 k} \\left(\\delta{\\left (t \\right )} + 3 \\delta_{P}{\\left (t \\right )}\\right) a^{2}{\\left (t \\right )}, \\quad \\frac{d}{d t} \\sigma{\\left (t \\right )} = k \\left(A{\\left (t \\right )} + \\phi{\\left (t \\right )}\\right) - H{\\left (t \\right )} \\sigma{\\left (t \\right )} - \\frac{\\Pi{\\left (t \\right )}}{2 k} \\kappa a^{2}{\\left (t \\right )}, \\quad \\frac{d}{d t} \\eta{\\left (t \\right )} = - \\frac{1}{k} \\left(2 K z{\\left (t \\right )} + 2 Kf_{1} k A{\\left (t \\right )} H{\\left (t \\right )} + \\kappa a^{2}{\\left (t \\right )} q{\\left (t \\right )}\\right), \\quad \\frac{d}{d t} \\phi{\\left (t \\right )} = - H{\\left (t \\right )} \\phi{\\left (t \\right )} + \\frac{\\kappa}{2 k^{2}} \\left(k \\left(P{\\left (t \\right )} + \\rho{\\left (t \\right )}\\right) \\sigma{\\left (t \\right )} + k q{\\left (t \\right )} - H{\\left (t \\right )} \\Pi{\\left (t \\right )} - \\frac{d}{d t} \\Pi{\\left (t \\right )}\\right) a^{2}{\\left (t \\right )}\\right ]$$"
      ],
      "text/plain": [
       "⎡                                                                             \n",
       "⎢                                                            2                \n",
       "⎢d                                   3⋅κ⋅(P(t) + ρ(t))⋅A(t)⋅a (t)   κ⋅(δ(t) + \n",
       "⎢──(z(t)) = Kf₁⋅k⋅A(t) - H(t)⋅z(t) + ──────────────────────────── - ──────────\n",
       "⎢dt                                              2⋅k                          \n",
       "⎣                                                                             \n",
       "\n",
       "                                                                              \n",
       "           2                                                      2           \n",
       "3⋅δ_P(t))⋅a (t)  d                                        κ⋅Π(t)⋅a (t)  d     \n",
       "───────────────, ──(σ(t)) = k⋅(A(t) + φ(t)) - H(t)⋅σ(t) - ────────────, ──(η(t\n",
       " 2⋅k             dt                                           2⋅k       dt    \n",
       "                                                                              \n",
       "\n",
       "                                                                              \n",
       "      ⎛                                  2        ⎞                           \n",
       "     -⎝2⋅K⋅z(t) + 2⋅Kf₁⋅k⋅A(t)⋅H(t) + κ⋅a (t)⋅q(t)⎠   d                       \n",
       ")) = ───────────────────────────────────────────────, ──(φ(t)) = -H(t)⋅φ(t) + \n",
       "                            k                         dt                      \n",
       "                                                                              \n",
       "\n",
       "  ⎛                                            d       ⎞  2   ⎤\n",
       "κ⋅⎜k⋅(P(t) + ρ(t))⋅σ(t) + k⋅q(t) - H(t)⋅Π(t) - ──(Π(t))⎟⋅a (t)⎥\n",
       "  ⎝                                            dt      ⎠      ⎥\n",
       "──────────────────────────────────────────────────────────────⎥\n",
       "                                2                             ⎥\n",
       "                             2⋅k                              ⎦"
      ]
     },
     "execution_count": 15,
     "metadata": {},
     "output_type": "execute_result"
    }
   ],
   "source": [
    "pert_eqs = [\n",
    "    Eq(diff(z,t),dz),\n",
    "    Eq(diff(sigma,t),dsigma),\n",
    "    Eq(diff(eta,t),deta),\n",
    "    Eq(diff(phi,t), dphi)]\n",
    "pert_eqs"
   ]
  },
  {
   "cell_type": "code",
   "execution_count": 16,
   "metadata": {},
   "outputs": [
    {
     "data": {
      "image/png": "[encoded data removed]",
      "text/latex": [
       "$$\\frac{d}{d t} \\eta{\\left (t \\right )} = Kf_{1} \\left(- \\frac{2 k}{3} \\sigma{\\left (t \\right )} + 2 \\dot{h}{\\left (t \\right )}\\right)$$"
      ],
      "text/plain": [
       "d              ⎛  2⋅k⋅σ(t)          ⎞\n",
       "──(η(t)) = Kf₁⋅⎜- ──────── + 2⋅ḣ(t)⎟\n",
       "dt             ⎝     3              ⎠"
      ]
     },
     "execution_count": 16,
     "metadata": {},
     "output_type": "execute_result"
    }
   ],
   "source": [
    "assert(subs(K_sub,subs(var_subs,subs(q_sub,deta).simplify()-K_fac*(2*hdot - 2*k/3*sigma))).simplify()==0)\n",
    "Eq(diff(eta,t), K_fac*(2*hdot-2*k/3*sigma)) "
   ]
  },
  {
   "cell_type": "code",
   "execution_count": 17,
   "metadata": {},
   "outputs": [
    {
     "data": {
      "image/png": "[encoded data removed]",
      "text/latex": [
       "$$\\left [ \\frac{d}{d t} q{\\left (t \\right )} = - \\frac{2 Kf_{1}}{3} k \\Pi{\\left (t \\right )} - k \\left(P{\\left (t \\right )} + \\rho{\\left (t \\right )}\\right) A{\\left (t \\right )} + k \\delta_{P}{\\left (t \\right )} - 4 H{\\left (t \\right )} q{\\left (t \\right )}, \\quad \\frac{d}{d t} \\delta{\\left (t \\right )} = - k q{\\left (t \\right )} - 3 \\left(P{\\left (t \\right )} + \\rho{\\left (t \\right )}\\right) \\dot{h}{\\left (t \\right )} - 3 \\left(\\delta{\\left (t \\right )} + \\delta_{P}{\\left (t \\right )}\\right) H{\\left (t \\right )}\\right ]$$"
      ],
      "text/plain": [
       "⎡d            2⋅Kf₁⋅k⋅Π(t)                                                  d \n",
       "⎢──(q(t)) = - ──────────── - k⋅(P(t) + ρ(t))⋅A(t) + k⋅δ_P(t) - 4⋅H(t)⋅q(t), ──\n",
       "⎣dt                3                                                        dt\n",
       "\n",
       "                                                                 ⎤\n",
       "(δ(t)) = -k⋅q(t) - 3⋅(P(t) + ρ(t))⋅ḣ(t) - 3⋅(δ(t) + δ_P(t))⋅H(t)⎥\n",
       "                                                                 ⎦"
      ]
     },
     "execution_count": 17,
     "metadata": {},
     "output_type": "execute_result"
    }
   ],
   "source": [
    "drag_t=opacity*(4*v_b/3-q_g)\n",
    "dgrho_t =kappa*a**2*delta;\n",
    "\n",
    "total_eqs = [\n",
    "     Eq(diff(q,t),k*delta_P-4*H*q-2*third*k*K_fac*Pi -(rho+P)*k*A),\n",
    "     Eq(diff(delta,t),-k*q - 3*H*(delta + delta_P) - 3*hdot*(rho+P))\n",
    "]\n",
    "\n",
    "tot_eqs = total_eqs + pert_eqs + background_eqs\n",
    "total_eqs"
   ]
  },
  {
   "cell_type": "code",
   "execution_count": 18,
   "metadata": {
    "collapsed": true
   },
   "outputs": [],
   "source": [
    "if checks:\n",
    "    #check consistency of constraint equations with evolution equations\n",
    "    assert(subs(var_subs,subs(tot_eqs,diff(cons3,t))).simplify()==0)\n",
    "    assert(subs(Friedmann,subs(var_subs,subs(tot_eqs,diff(cons2,t))).simplify()).simplify()==0)\n",
    "    assert(subs(K_sub,subs(Friedmann,subs(var_subs,subs(tot_eqs,diff(cons1,t))).simplify())).simplify()==0)"
   ]
  },
  {
   "cell_type": "code",
   "execution_count": 19,
   "metadata": {},
   "outputs": [
    {
     "data": {
      "image/png": "[encoded data removed]",
      "text/latex": [
       "$$\\left [ \\Psi_{N}{\\left (t \\right )} = - A{\\left (t \\right )} + \\frac{1}{k} \\left(H{\\left (t \\right )} \\sigma{\\left (t \\right )} + \\frac{d}{d t} \\sigma{\\left (t \\right )}\\right), \\quad \\Phi_{N}{\\left (t \\right )} = - \\frac{1}{k} H{\\left (t \\right )} \\sigma{\\left (t \\right )} - \\frac{\\eta{\\left (t \\right )}}{2 Kf_{1}}\\right ]$$"
      ],
      "text/plain": [
       "⎡                             d                                     ⎤\n",
       "⎢                 H(t)⋅σ(t) + ──(σ(t))                              ⎥\n",
       "⎢                             dt                   H(t)⋅σ(t)    η(t)⎥\n",
       "⎢Ψ_N(t) = -A(t) + ────────────────────, Φ_N(t) = - ───────── - ─────⎥\n",
       "⎣                          k                           k       2⋅Kf₁⎦"
      ]
     },
     "execution_count": 19,
     "metadata": {},
     "output_type": "execute_result"
    }
   ],
   "source": [
    "#Newtonian gauge variables in general. Note sigma here is the shear, Pi the anisotropic stress\n",
    "Newt_vars = [Eq(Psi_N, -A + (diff(sigma,t)+H*sigma)/k), Eq(Phi_N,-eta/2/K_fac - H*sigma/k)]\n",
    "if checks:\n",
    "    assert(subs(var_subs,subs(pert_eqs,subs(Newt_vars,Phi_N+Psi_N-2*phi))).simplify()==0)\n",
    "Newt_vars"
   ]
  },
  {
   "cell_type": "markdown",
   "metadata": {},
   "source": [
    "Newtonian gauge variables $\\Psi_N$ and $\\Phi_N$ (not used in CAMB but may be useful) defined for metrix sign choices so flat metric is\n",
    "$$ds^2 = a(\\eta)^2\\left( (1+2\\Psi_N)d\\eta^2 - (1-2\\Phi_N)\\delta_{ij}dx^idx^j\\right)$$\n",
    "(default, as defined by [Ma and Bertschinger](https://arxiv.org/abs/astro-ph/9506072), number count and 21cm papers, etc.)\n",
    "\n",
    "\n",
    "The alternative definition\n",
    "$$ds^2 = a(\\eta)^2\\left( (1+2\\Psi_N)d\\eta^2 - (1+2\\Phi_N)\\delta_{ij}dx^idx^j\\right)$$\n",
    "is used by [Hu et.al.](https://arxiv.org/abs/astro-ph/9709066), lensing review, etc, corresponding to a sign change in $\\Phi_N$.\n"
   ]
  },
  {
   "cell_type": "code",
   "execution_count": 20,
   "metadata": {},
   "outputs": [
    {
     "data": {
      "image/png": "[encoded data removed]",
      "text/latex": [
       "$$\\left [ A{\\left (t \\right )} = - \\Psi_{N}{\\left (t \\right )}, \\quad \\frac{d^{2}}{d t^{2}}  \\sigma{\\left (t \\right )} = 0, \\quad \\frac{d}{d t} \\sigma{\\left (t \\right )} = 0, \\quad \\sigma{\\left (t \\right )} = 0, \\quad \\phi{\\left (t \\right )} = \\frac{1}{2} \\Phi_{N}{\\left (t \\right )} + \\frac{1}{2} \\Psi_{N}{\\left (t \\right )}, \\quad \\eta{\\left (t \\right )} = - 2 Kf_{1} \\Phi_{N}{\\left (t \\right )}, \\quad \\dot{h}{\\left (t \\right )} = - \\frac{d}{d t} \\Phi_{N}{\\left (t \\right )}, \\quad z{\\left (t \\right )} = \\frac{1}{k} \\left(- 3 H{\\left (t \\right )} \\Psi_{N}{\\left (t \\right )} - 3 \\frac{d}{d t} \\Phi_{N}{\\left (t \\right )}\\right)\\right ]$$"
      ],
      "text/plain": [
       "⎡                                                                             \n",
       "⎢                  2                                                          \n",
       "⎢                 d             d                              Φ_N(t)   Ψ_N(t)\n",
       "⎢A(t) = -Ψ_N(t), ───(σ(t)) = 0, ──(σ(t)) = 0, σ(t) = 0, φ(t) = ────── + ──────\n",
       "⎢                  2            dt                               2        2   \n",
       "⎣                dt                                                           \n",
       "\n",
       "                                                      ⎛               d       \n",
       "                                                    3⋅⎜-H(t)⋅Ψ_N(t) - ──(Φ_N(t\n",
       "                                 d                    ⎝               dt      \n",
       ", η(t) = -2⋅Kf₁⋅Φ_N(t), ḣ(t) = -──(Φ_N(t)), z(t) = ──────────────────────────\n",
       "                                 dt                               k           \n",
       "                                                                              \n",
       "\n",
       "  ⎞⎤\n",
       "))⎟⎥\n",
       "  ⎠⎥\n",
       "───⎥\n",
       "   ⎥\n",
       "   ⎦"
      ]
     },
     "execution_count": 20,
     "metadata": {},
     "output_type": "execute_result"
    }
   ],
   "source": [
    "Newtonian_var_subs = [Eq(Phi_N,phi+half*a**2*kappa*Pi/k**2),\n",
    "                   Eq(Psi_N,phi-half*a**2*kappa*Pi/k**2)]\n",
    "\n",
    "#Newtonian gauge has zero shear\n",
    "Newtonian_subs = [ Eq(A, -Psi_N), Eq(diff(sigma,t,t),0), Eq(diff(sigma,t),0), \n",
    "             Eq(sigma,0), Eq(phi,(Phi_N+Psi_N)/2), Eq(eta, -2*Phi_N*K_fac), Eq(hdot, -diff(Phi_N,t))]\n",
    "Newtonian_subs+= [Eq(z,subs(Newtonian_subs,solve(cons4, z)))]\n",
    "\n",
    "def newtonian_gauge(x):\n",
    "    if isinstance(x,(list,tuple)):\n",
    "        res= [newtonian_gauge(y) for y in x]\n",
    "        return [ x for x in res if x != True]\n",
    "    res = subs(Newtonian_subs,x)\n",
    "    if isinstance(res,sympy.Expr):\n",
    "        res = simplify(res.doit())\n",
    "        res2 = simplify(res.subs(Psi_N, Phi_N - a**2*kappa*Pi/k**2))\n",
    "        if len(str(res2)) < len(str(res)):\n",
    "            res= res2\n",
    "    return res\n",
    "\n",
    "\n",
    "if checks:\n",
    "    assert(newtonian_gauge(dsigma)==0)\n",
    "\n",
    "Newtonian_subs"
   ]
  },
  {
   "cell_type": "code",
   "execution_count": 21,
   "metadata": {},
   "outputs": [
    {
     "data": {
      "image/png": "[encoded data removed]",
      "text/latex": [
       "$$\\frac{\\kappa}{2 k} a^{2}{\\left (t \\right )} q{\\left (t \\right )}$$"
      ],
      "text/plain": [
       "   2        \n",
       "κ⋅a (t)⋅q(t)\n",
       "────────────\n",
       "    2⋅k     "
      ]
     },
     "execution_count": 21,
     "metadata": {},
     "output_type": "execute_result"
    }
   ],
   "source": [
    "#e.g. get the Newtonian gauge equation for diff(Phi,t) + H*Psi \n",
    "#[eq 23b of Ma and Bertschinger, noting that their (rho+P)theta = k q since q = (rho+P)v]\n",
    "newtonian_gauge(subs(tot_eqs,subs(Newtonian_var_subs,(diff(Phi_N,t) + H*Psi_N)).simplify().doit()))"
   ]
  },
  {
   "cell_type": "code",
   "execution_count": 22,
   "metadata": {
    "collapsed": true
   },
   "outputs": [],
   "source": [
    "#Relations for setting the sychronous gauge. note however that hdot and eta still differ from Ma & Bertshinger by factors\n",
    "#zero acceleration, comoving with CDM\n",
    "cdm_subs = [Eq(diff(A,t),0), Eq(A,0), Eq(v_c,0)]\n",
    "def cdm_gauge(x):\n",
    "    if isinstance(x,(list,tuple)):\n",
    "        return [cdm_gauge(y) for y in x]\n",
    "    return simplify(subs(cdm_subs,x))\n",
    "    "
   ]
  },
  {
   "cell_type": "markdown",
   "metadata": {},
   "source": [
    "Define synchonous gauge variables in Ma and Bertschinger notation (generalized to non-flat)\n",
    "\n",
    "In terms of [Hu et al](https://arxiv.org/abs/astro-ph/9709066) variables $h_L+ h_T/3 = \\eta_s$ and $h_L = -h_s/6$"
   ]
  },
  {
   "cell_type": "code",
   "execution_count": 23,
   "metadata": {},
   "outputs": [
    {
     "data": {
      "image/png": "[encoded data removed]",
      "text/latex": [
       "$$\\left [ \\eta{\\left (t \\right )} = - 2 Kf_{1} \\eta_{s}{\\left (t \\right )}, \\quad \\dot{h}{\\left (t \\right )} = \\frac{1}{6} \\dot{h}_{s}{\\left (t \\right )}, \\quad \\phi{\\left (t \\right )} = - \\frac{\\kappa a^{2}{\\left (t \\right )}}{2 Kf_{1} k^{3}} \\left(Kf_{1} k \\Pi{\\left (t \\right )} + k \\delta{\\left (t \\right )} + 3 H{\\left (t \\right )} q{\\left (t \\right )}\\right), \\quad z{\\left (t \\right )} = \\frac{\\dot{h}_{s}{\\left (t \\right )}}{2 k}, \\quad \\sigma{\\left (t \\right )} = \\frac{1}{2 k} \\left(\\dot{h}_{s}{\\left (t \\right )} + 6 \\frac{d}{d t} \\eta_{s}{\\left (t \\right )}\\right), \\quad \\frac{d}{d t} A{\\left (t \\right )} = 0, \\quad A{\\left (t \\right )} = 0, \\quad \\operatorname{v_{c}}{\\left (t \\right )} = 0\\right ]$$"
      ],
      "text/plain": [
       "⎡                                                                             \n",
       "⎢                                                                             \n",
       "⎢                              ḣ_s(t)         -κ⋅(Kf₁⋅k⋅Π(t) + k⋅δ(t) + 3⋅H(t\n",
       "⎢η(t) = -2⋅Kf₁⋅η_s(t), ḣ(t) = ───────, φ(t) = ───────────────────────────────\n",
       "⎢                                 6                                      3    \n",
       "⎣                                                                 2⋅Kf₁⋅k     \n",
       "\n",
       "                                                   d                          \n",
       "         2                             ḣ_s(t) + 6⋅──(η_s(t))                 \n",
       ")⋅q(t))⋅a (t)          ḣ_s(t)                     dt          d              \n",
       "──────────────, z(t) = ───────, σ(t) = ──────────────────────, ──(A(t)) = 0, A\n",
       "                         2⋅k                    2⋅k            dt             \n",
       "                                                                              \n",
       "\n",
       "                   ⎤\n",
       "                   ⎥\n",
       "                   ⎥\n",
       "(t) = 0, v_c(t) = 0⎥\n",
       "                   ⎥\n",
       "                   ⎦"
      ]
     },
     "execution_count": 23,
     "metadata": {},
     "output_type": "execute_result"
    }
   ],
   "source": [
    "synchronous_var_subs = [Eq(eta_s,-make_gauge_invariant(eta, v_c)/2/K_fac), \n",
    "                        Eq(hdot_s,6*(hdot + H*A + v_c/k*(k**2/3*K_fac + kappa*a**2/2*(rho+P))))]\n",
    "\n",
    "synchronous_subs = [Eq(eta,-2*K_fac*eta_s), Eq(hdot,hdot_s/6), Eq(phi,subs(var_subs,phi))]\n",
    "synchronous_subs += [subs(synchronous_subs, Eq(z, solve(cons4,z))), \n",
    "                                Eq(sigma,(hdot_s+diff(6*eta_s,t))/2/k)]\n",
    "\n",
    "synchronous_subs = cdm_gauge(synchronous_subs) + cdm_subs\n",
    "\n",
    "def synchronous_gauge(x, convention=1):\n",
    "    if isinstance(x,(list,tuple)):\n",
    "        res = [synchronous_gauge(y) for y in x]\n",
    "        return [ x for x in res if x != True]\n",
    "    res = subs(synchronous_subs,x)\n",
    "    if isinstance(res, sympy.Expr):\n",
    "        return simplify(res.doit())\n",
    "    return simplify(res)\n",
    "\n",
    "if checks:\n",
    "    assert(subs(K_sub,subs(var_subs,subs(pert_eqs,subs(cdm_gauge(synchronous_var_subs),subs(synchronous_subs,sigma) - sigma)\n",
    "                              .doit())).simplify().collect(eta)).simplify()==0)\n",
    "\n",
    "synchronous_subs"
   ]
  },
  {
   "cell_type": "code",
   "execution_count": 24,
   "metadata": {},
   "outputs": [
    {
     "data": {
      "image/png": "[encoded data removed]",
      "text/latex": [
       "$$\\phi{\\left (t \\right )} = \\frac{1}{4 k^{2}} \\left(2 k^{2} \\eta_{s}{\\left (t \\right )} + \\frac{d}{d t} \\dot{h}_{s}{\\left (t \\right )} + 6 \\frac{d^{2}}{d t^{2}}  \\eta_{s}{\\left (t \\right )}\\right)$$"
      ],
      "text/plain": [
       "                                       2        \n",
       "          2          d                d         \n",
       "       2⋅k ⋅η_s(t) + ──(ḣ_s(t)) + 6⋅───(η_s(t))\n",
       "                     dt                2        \n",
       "                                     dt         \n",
       "φ(t) = ─────────────────────────────────────────\n",
       "                             2                  \n",
       "                          4⋅k                   "
      ]
     },
     "execution_count": 24,
     "metadata": {},
     "output_type": "execute_result"
    }
   ],
   "source": [
    "#Alternative pure-metric expression for phi\n",
    "Eq(phi,subs(Eq(Pi,-(3*diff(eta_s,t,t)+diff(hdot_s,t)/2 + 2*(3*H*diff(eta_s,t) + H*hdot_s/2) - k**2*eta_s)/kappa/a**2),\n",
    " synchronous_gauge(subs(solve(constraints[1:],[delta,q,A]), phi_sub).rhs)).simplify())"
   ]
  },
  {
   "cell_type": "code",
   "execution_count": 25,
   "metadata": {},
   "outputs": [
    {
     "data": {
      "image/png": "[encoded data removed]",
      "text/latex": [
       "$$- \\frac{\\kappa}{2} a^{2}{\\left (t \\right )} \\delta{\\left (t \\right )}$$"
      ],
      "text/plain": [
       "    2         \n",
       "-κ⋅a (t)⋅δ(t) \n",
       "──────────────\n",
       "      2       "
      ]
     },
     "execution_count": 25,
     "metadata": {},
     "output_type": "execute_result"
    }
   ],
   "source": [
    "#Check the four synchronous gauge equations\n",
    "synchronous_gauge(subs(var_subs,subs(synchronous_var_subs, K_fac*k**2*eta_s-H*hdot_s/2)).simplify())"
   ]
  },
  {
   "cell_type": "code",
   "execution_count": 26,
   "metadata": {},
   "outputs": [
    {
     "data": {
      "image/png": "[encoded data removed]",
      "text/latex": [
       "$$\\frac{\\kappa}{2 k} a^{2}{\\left (t \\right )} q{\\left (t \\right )}$$"
      ],
      "text/plain": [
       "   2        \n",
       "κ⋅a (t)⋅q(t)\n",
       "────────────\n",
       "    2⋅k     "
      ]
     },
     "execution_count": 26,
     "metadata": {},
     "output_type": "execute_result"
    }
   ],
   "source": [
    "synchronous_gauge(subs(pert_eqs,subs(synchronous_var_subs, -K/2*hdot_s/k**2 + K_fac*diff(eta_s,t)).doit()))"
   ]
  },
  {
   "cell_type": "code",
   "execution_count": 27,
   "metadata": {},
   "outputs": [
    {
     "data": {
      "image/png": "[encoded data removed]",
      "text/latex": [
       "$$\\frac{\\kappa}{6} \\left(\\delta{\\left (t \\right )} + 3 \\delta_{P}{\\left (t \\right )}\\right) a^{2}{\\left (t \\right )}$$"
      ],
      "text/plain": [
       "                     2   \n",
       "κ⋅(δ(t) + 3⋅δ_P(t))⋅a (t)\n",
       "─────────────────────────\n",
       "            6            "
      ]
     },
     "execution_count": 27,
     "metadata": {},
     "output_type": "execute_result"
    }
   ],
   "source": [
    "synchronous_gauge(subs(K_sub,subs(Friedmann,subs(var_subs,subs(total_eqs,subs(background_eqs,subs(pert_eqs,subs(var_subs,\n",
    "        subs(synchronous_var_subs, -(diff(hdot_s,t) + H*hdot_s)/6).doit()).doit())).simplify().expand())\n",
    "    ).simplify().expand())).simplify())"
   ]
  },
  {
   "cell_type": "code",
   "execution_count": 28,
   "metadata": {},
   "outputs": [
    {
     "data": {
      "image/png": "[encoded data removed]",
      "text/latex": [
       "$$- \\kappa \\Pi{\\left (t \\right )} a^{2}{\\left (t \\right )}$$"
      ],
      "text/plain": [
       "         2   \n",
       "-κ⋅Π(t)⋅a (t)"
      ]
     },
     "execution_count": 28,
     "metadata": {},
     "output_type": "execute_result"
    }
   ],
   "source": [
    "#Seems to be a factor of 2 missing in last line of eq A8 of Hu et al.\n",
    "synchronous_gauge(subs(q_sub,subs(K_sub,subs(Friedmann_Kfac_subs,subs(var_subs,\n",
    "    subs(tot_eqs+background_eqs, subs(var_subs,subs(pert_eqs,subs(synchronous_var_subs,\n",
    "    3*diff(eta_s,t,t)+diff(hdot_s,t)/2 + 2*(3*H*diff(eta_s,t) + H*hdot_s/2) - k**2*eta_s).doit()).doit()).doit()))\n",
    "                  .simplify()))))"
   ]
  },
  {
   "cell_type": "code",
   "execution_count": 29,
   "metadata": {
    "collapsed": true
   },
   "outputs": [],
   "source": [
    "#Fluid components"
   ]
  },
  {
   "cell_type": "code",
   "execution_count": 30,
   "metadata": {},
   "outputs": [
    {
     "data": {
      "image/png": "[encoded data removed]",
      "text/latex": [
       "$$\\left [ \\frac{d}{d t} \\rho_{b}{\\left (t \\right )} = - 3 \\left(\\operatorname{p_{b}}{\\left (t \\right )} + \\rho_{b}{\\left (t \\right )}\\right) H{\\left (t \\right )}, \\quad \\frac{d}{d t} \\rho_{c}{\\left (t \\right )} = - 3 H{\\left (t \\right )} \\rho_{c}{\\left (t \\right )}, \\quad \\frac{d}{d t} \\rho_{g}{\\left (t \\right )} = - 4 H{\\left (t \\right )} \\rho_{g}{\\left (t \\right )}, \\quad \\frac{d}{d t} \\rho_{r}{\\left (t \\right )} = - 4 H{\\left (t \\right )} \\rho_{r}{\\left (t \\right )}, \\quad \\frac{d}{d t} \\rho_{\\nu}{\\left (t \\right )} = - 3 \\left(\\operatorname{p_{\\nu}}{\\left (t \\right )} + \\rho_{\\nu}{\\left (t \\right )}\\right) H{\\left (t \\right )}, \\quad \\frac{d}{d t} \\rho_{de}{\\left (t \\right )} = - 3 \\left(\\operatorname{w_{de}}{\\left (t \\right )} + 1\\right) H{\\left (t \\right )} \\rho_{de}{\\left (t \\right )}\\right ]$$"
      ],
      "text/plain": [
       "⎡d                                       d                            d       \n",
       "⎢──(ρ_b(t)) = -3⋅(p_b(t) + ρ_b(t))⋅H(t), ──(ρ_c(t)) = -3⋅H(t)⋅ρ_c(t), ──(ρ_g(t\n",
       "⎣dt                                      dt                           dt      \n",
       "\n",
       "                     d                          d                             \n",
       ")) = -4⋅H(t)⋅ρ_g(t), ──(ρᵣ(t)) = -4⋅H(t)⋅ρᵣ(t), ──(ρ_ν(t)) = -3⋅(p_ν(t) + ρ_ν(\n",
       "                     dt                         dt                            \n",
       "\n",
       "          d                                          ⎤\n",
       "t))⋅H(t), ──(ρ_de(t)) = -3⋅(w_de(t) + 1)⋅H(t)⋅ρ_de(t)⎥\n",
       "          dt                                         ⎦"
      ]
     },
     "execution_count": 30,
     "metadata": {},
     "output_type": "execute_result"
    }
   ],
   "source": [
    "density_eqs = [\n",
    " Eq(diff(rho_b,t),-3*H*(rho_b+p_b)),\n",
    " Eq(diff(rho_c,t),-3*H*(rho_c)),\n",
    " Eq(diff(rho_g,t),-4*H*(rho_g)),\n",
    " Eq(diff(rho_r,t),-4*H*(rho_r)),\n",
    " Eq(diff(rho_nu,t),-3*H*(rho_nu+p_nu)),\n",
    " Eq(diff(rho_de,t),-3*H*(rho_de*(1+w_de)))\n",
    "]\n",
    "density_eqs\n"
   ]
  },
  {
   "cell_type": "code",
   "execution_count": 31,
   "metadata": {},
   "outputs": [
    {
     "data": {
      "image/png": "[encoded data removed]",
      "text/latex": [
       "$$\\left [ \\frac{d}{d t} \\Delta_{r}{\\left (t \\right )} = - k \\operatorname{q_{r}}{\\left (t \\right )} - 4 \\dot{h}{\\left (t \\right )}, \\quad \\frac{d}{d t} \\Delta_{g}{\\left (t \\right )} = - k \\operatorname{q_{g}}{\\left (t \\right )} - 4 \\dot{h}{\\left (t \\right )}, \\quad \\frac{d}{d t} \\Delta_{b}{\\left (t \\right )} = \\left(k \\operatorname{v_{b}}{\\left (t \\right )} + 3 \\dot{h}{\\left (t \\right )}\\right) \\left(- \\frac{\\operatorname{p_{b}}{\\left (t \\right )}}{\\rho_{b}{\\left (t \\right )}} - 1\\right) + \\left(- 3 \\operatorname{c^{2}_{sb}}{\\left (t \\right )} + \\frac{3 \\operatorname{p_{b}}{\\left (t \\right )}}{\\rho_{b}{\\left (t \\right )}}\\right) \\Delta_{b}{\\left (t \\right )} H{\\left (t \\right )}, \\quad \\frac{d}{d t} \\Delta_{c}{\\left (t \\right )} = - k \\operatorname{v_{c}}{\\left (t \\right )} - 3 \\dot{h}{\\left (t \\right )}, \\quad \\frac{d}{d t} \\Delta_{\\nu}{\\left (t \\right )} = - k \\operatorname{q_{\\nu}}{\\left (t \\right )} + \\left(- \\frac{3 \\operatorname{p_{\\nu}}{\\left (t \\right )}}{\\rho_{\\nu}{\\left (t \\right )}} - 3\\right) \\dot{h}{\\left (t \\right )} + 3 \\left(- \\Delta_{P \\nu}{\\left (t \\right )} + \\frac{\\Delta_{\\nu}{\\left (t \\right )} \\operatorname{p_{\\nu}}{\\left (t \\right )}}{\\rho_{\\nu}{\\left (t \\right )}}\\right) H{\\left (t \\right )}, \\quad \\frac{d}{d t} \\Delta_{de}{\\left (t \\right )} = - k \\left(\\operatorname{w_{de}}{\\left (t \\right )} + 1\\right) \\operatorname{v_{de}}{\\left (t \\right )} - 3 \\left(\\Delta_{de}{\\left (t \\right )} + \\frac{3}{k} \\left(\\operatorname{w_{de}}{\\left (t \\right )} + 1\\right) H{\\left (t \\right )} \\operatorname{v_{de}}{\\left (t \\right )}\\right) \\left(\\hat{c}^{2}_{sde}{\\left (t \\right )} - \\operatorname{w_{de}}{\\left (t \\right )}\\right) H{\\left (t \\right )} + \\left(- 3 \\operatorname{w_{de}}{\\left (t \\right )} - 3\\right) \\dot{h}{\\left (t \\right )} - \\frac{3}{k} H{\\left (t \\right )} \\operatorname{v_{de}}{\\left (t \\right )} \\frac{d}{d t} \\operatorname{w_{de}}{\\left (t \\right )}\\right ]$$"
      ],
      "text/plain": [
       "⎡                                                                             \n",
       "⎢                                                                             \n",
       "⎢d                               d                                 d          \n",
       "⎢──(Δᵣ(t)) = -k⋅qᵣ(t) - 4⋅ḣ(t), ──(Δ_g(t)) = -k⋅q_g(t) - 4⋅ḣ(t), ──(Δ_b(t)) \n",
       "⎣dt                              dt                                dt         \n",
       "\n",
       "                                                                              \n",
       "                                                                              \n",
       "                       ⎛  p_b(t)    ⎞   ⎛                3⋅p_b(t)⎞            \n",
       "= (k⋅v_b(t) + 3⋅ḣ(t))⋅⎜- ────── - 1⎟ + ⎜-3⋅c_sb__2(t) + ────────⎟⋅Δ_b(t)⋅H(t)\n",
       "                       ⎝  ρ_b(t)    ⎠   ⎝                 ρ_b(t) ⎠            \n",
       "\n",
       "                                                                              \n",
       "                                                                              \n",
       "  d                                 d                        ⎛  3⋅p_ν(t)    ⎞ \n",
       ", ──(Δ_c(t)) = -k⋅v_c(t) - 3⋅ḣ(t), ──(Δ_ν(t)) = -k⋅q_ν(t) + ⎜- ──────── - 3⎟⋅\n",
       "  dt                                dt                       ⎝   ρ_ν(t)     ⎠ \n",
       "\n",
       "                                                                              \n",
       "                                                                              \n",
       "          ⎛            Δ_ν(t)⋅p_ν(t)⎞       d                                 \n",
       "ḣ(t) + 3⋅⎜-Δ_P_ν(t) + ─────────────⎟⋅H(t), ──(Δ_de(t)) = -k⋅(w_de(t) + 1)⋅v_d\n",
       "          ⎝                ρ_ν(t)   ⎠       dt                                \n",
       "\n",
       "                                                                              \n",
       "                                                                              \n",
       "         ⎛          3⋅(w_de(t) + 1)⋅H(t)⋅v_de(t)⎞                             \n",
       "e(t) - 3⋅⎜Δ_de(t) + ────────────────────────────⎟⋅(ĉ_sde__2(t) - w_de(t))⋅H(t\n",
       "         ⎝                       k              ⎠                             \n",
       "\n",
       "                                            d          ⎤\n",
       "                             3⋅H(t)⋅v_de(t)⋅──(w_de(t))⎥\n",
       "                                            dt         ⎥\n",
       ") + (-3⋅w_de(t) - 3)⋅ḣ(t) - ──────────────────────────⎥\n",
       "                                         k             ⎦"
      ]
     },
     "execution_count": 31,
     "metadata": {},
     "output_type": "execute_result"
    }
   ],
   "source": [
    "delta_eqs = [\n",
    "   Eq(diff(Delta_r,t),-4*hdot-k*q_r),\n",
    "   Eq(diff(Delta_g,t),-4*hdot-k*q_g),\n",
    "   Eq(diff(Delta_b,t),-(1+p_b/rho_b)*(3*hdot+k*v_b)\n",
    "                       +(p_b/rho_b-csq_b)*3*H*Delta_b),\n",
    "   Eq(diff(Delta_c,t), -3*hdot -k*v_c),\n",
    "   Eq(diff(Delta_nu,t), -3*(1+p_nu/rho_nu)*hdot \n",
    "            - k*q_nu +3*H*(-Delta_P_nu + Delta_nu*p_nu/rho_nu)),\n",
    "   Eq(diff(Delta_de,t), \n",
    "      -3*(1+w_de)*hdot-(1+w_de)*k*v_de-3*H*(csqhat_de-w_de)*(Delta_de+3*H*(1+w_de)*v_de/k)\n",
    "     - 3*H*diff(w_de,t)*v_de/k)  \n",
    "]\n",
    "delta_eqs"
   ]
  },
  {
   "cell_type": "code",
   "execution_count": 32,
   "metadata": {},
   "outputs": [
    {
     "data": {
      "image/png": "[encoded data removed]",
      "text/latex": [
       "$$\\left [ \\frac{d}{d t} \\Delta_{r}{\\left (t \\right )} = - k \\operatorname{q_{r}}{\\left (t \\right )} + 4 \\frac{d}{d t} \\Phi_{N}{\\left (t \\right )}, \\quad \\frac{d}{d t} \\Delta_{g}{\\left (t \\right )} = - k \\operatorname{q_{g}}{\\left (t \\right )} + 4 \\frac{d}{d t} \\Phi_{N}{\\left (t \\right )}, \\quad \\frac{d}{d t} \\Delta_{b}{\\left (t \\right )} = - \\frac{1}{\\rho_{b}{\\left (t \\right )}} \\left(\\left(k \\operatorname{v_{b}}{\\left (t \\right )} - 3 \\frac{d}{d t} \\Phi_{N}{\\left (t \\right )}\\right) \\left(\\operatorname{p_{b}}{\\left (t \\right )} + \\rho_{b}{\\left (t \\right )}\\right) + 3 \\left(\\operatorname{c^{2}_{sb}}{\\left (t \\right )} \\rho_{b}{\\left (t \\right )} - \\operatorname{p_{b}}{\\left (t \\right )}\\right) \\Delta_{b}{\\left (t \\right )} H{\\left (t \\right )}\\right), \\quad \\frac{d}{d t} \\Delta_{c}{\\left (t \\right )} = - k \\operatorname{v_{c}}{\\left (t \\right )} + 3 \\frac{d}{d t} \\Phi_{N}{\\left (t \\right )}, \\quad \\frac{d}{d t} \\Delta_{\\nu}{\\left (t \\right )} = \\frac{1}{\\rho_{\\nu}{\\left (t \\right )}} \\left(- k \\operatorname{q_{\\nu}}{\\left (t \\right )} \\rho_{\\nu}{\\left (t \\right )} - 3 \\left(\\Delta_{P \\nu}{\\left (t \\right )} \\rho_{\\nu}{\\left (t \\right )} - \\Delta_{\\nu}{\\left (t \\right )} \\operatorname{p_{\\nu}}{\\left (t \\right )}\\right) H{\\left (t \\right )} + 3 \\left(\\operatorname{p_{\\nu}}{\\left (t \\right )} + \\rho_{\\nu}{\\left (t \\right )}\\right) \\frac{d}{d t} \\Phi_{N}{\\left (t \\right )}\\right), \\quad \\frac{d}{d t} \\Delta_{de}{\\left (t \\right )} = \\frac{1}{k} \\left(k \\left(- k \\operatorname{v_{de}}{\\left (t \\right )} + 3 \\frac{d}{d t} \\Phi_{N}{\\left (t \\right )}\\right) \\left(\\operatorname{w_{de}}{\\left (t \\right )} + 1\\right) - 3 \\left(k \\Delta_{de}{\\left (t \\right )} + 3 \\left(\\operatorname{w_{de}}{\\left (t \\right )} + 1\\right) H{\\left (t \\right )} \\operatorname{v_{de}}{\\left (t \\right )}\\right) \\left(\\hat{c}^{2}_{sde}{\\left (t \\right )} - \\operatorname{w_{de}}{\\left (t \\right )}\\right) H{\\left (t \\right )} - 3 H{\\left (t \\right )} \\operatorname{v_{de}}{\\left (t \\right )} \\frac{d}{d t} \\operatorname{w_{de}}{\\left (t \\right )}\\right)\\right ]$$"
      ],
      "text/plain": [
       "⎡                                                                             \n",
       "⎢                                                                             \n",
       "⎢d                        d           d                          d           d\n",
       "⎢──(Δᵣ(t)) = -k⋅qᵣ(t) + 4⋅──(Φ_N(t)), ──(Δ_g(t)) = -k⋅q_g(t) + 4⋅──(Φ_N(t)), ─\n",
       "⎣dt                       dt          dt                         dt          d\n",
       "\n",
       "             ⎛⎛             d         ⎞                                       \n",
       "            -⎜⎜k⋅v_b(t) - 3⋅──(Φ_N(t))⎟⋅(p_b(t) + ρ_b(t)) + 3⋅(c_sb__2(t)⋅ρ_b(\n",
       "             ⎝⎝             dt        ⎠                                       \n",
       "─(Δ_b(t)) = ──────────────────────────────────────────────────────────────────\n",
       "t                                                      ρ_b(t)                 \n",
       "\n",
       "                        ⎞                                                     \n",
       "t) - p_b(t))⋅Δ_b(t)⋅H(t)⎟                                                     \n",
       "                        ⎠   d                          d           d          \n",
       "──────────────────────────, ──(Δ_c(t)) = -k⋅v_c(t) + 3⋅──(Φ_N(t)), ──(Δ_ν(t)) \n",
       "                            dt                         dt          dt         \n",
       "\n",
       "                                                                              \n",
       "  -k⋅q_ν(t)⋅ρ_ν(t) - 3⋅(Δ_P_ν(t)⋅ρ_ν(t) - Δ_ν(t)⋅p_ν(t))⋅H(t) + 3⋅(p_ν(t) + ρ_\n",
       "                                                                              \n",
       "= ────────────────────────────────────────────────────────────────────────────\n",
       "                                             ρ_ν(t)                           \n",
       "\n",
       "      d                           ⎛               d         ⎞                 \n",
       "ν(t))⋅──(Φ_N(t))                k⋅⎜-k⋅v_de(t) + 3⋅──(Φ_N(t))⎟⋅(w_de(t) + 1) - \n",
       "      dt          d               ⎝               dt        ⎠                 \n",
       "────────────────, ──(Δ_de(t)) = ──────────────────────────────────────────────\n",
       "                  dt                                                          \n",
       "\n",
       "                                                                              \n",
       "3⋅(k⋅Δ_de(t) + 3⋅(w_de(t) + 1)⋅H(t)⋅v_de(t))⋅(ĉ_sde__2(t) - w_de(t))⋅H(t) - 3\n",
       "                                                                              \n",
       "──────────────────────────────────────────────────────────────────────────────\n",
       "                            k                                                 \n",
       "\n",
       "              d          ⎤\n",
       "⋅H(t)⋅v_de(t)⋅──(w_de(t))⎥\n",
       "              dt         ⎥\n",
       "─────────────────────────⎥\n",
       "                         ⎦"
      ]
     },
     "execution_count": 32,
     "metadata": {},
     "output_type": "execute_result"
    }
   ],
   "source": [
    "newtonian_gauge(delta_eqs)"
   ]
  },
  {
   "cell_type": "code",
   "execution_count": 33,
   "metadata": {},
   "outputs": [
    {
     "data": {
      "image/png": "[encoded data removed]",
      "text/latex": [
       "$$\\left [ \\frac{d}{d t} \\operatorname{q_{r}}{\\left (t \\right )} = - \\frac{2 Kf_{1}}{3} k \\pi_{r}{\\left (t \\right )} - \\frac{4 k}{3} A{\\left (t \\right )} + \\frac{k}{3} \\Delta_{r}{\\left (t \\right )}, \\quad \\frac{d}{d t} \\operatorname{q_{g}}{\\left (t \\right )} = - \\frac{2 Kf_{1}}{3} k \\pi_{g}{\\left (t \\right )} - \\frac{4 k}{3} A{\\left (t \\right )} + \\frac{k}{3} \\Delta_{g}{\\left (t \\right )} + \\left(- \\operatorname{q_{g}}{\\left (t \\right )} + \\frac{4}{3} \\operatorname{v_{b}}{\\left (t \\right )}\\right) \\operatorname{opacity}{\\left (t \\right )}, \\quad \\frac{d}{d t} \\operatorname{v_{b}}{\\left (t \\right )} = - k A{\\left (t \\right )} + \\frac{1}{\\operatorname{p_{b}}{\\left (t \\right )} + \\rho_{b}{\\left (t \\right )}} \\left(k \\Delta_{b}{\\left (t \\right )} \\operatorname{c^{2}_{sb}}{\\left (t \\right )} \\rho_{b}{\\left (t \\right )} - \\left(- \\operatorname{q_{g}}{\\left (t \\right )} + \\frac{4}{3} \\operatorname{v_{b}}{\\left (t \\right )}\\right) \\operatorname{opacity}{\\left (t \\right )} \\rho_{g}{\\left (t \\right )}\\right) - H{\\left (t \\right )} \\operatorname{v_{b}}{\\left (t \\right )} - \\frac{\\operatorname{v_{b}}{\\left (t \\right )} \\frac{d}{d t} \\operatorname{p_{b}}{\\left (t \\right )}}{\\operatorname{p_{b}}{\\left (t \\right )} + \\rho_{b}{\\left (t \\right )}}, \\quad \\frac{d}{d t} \\operatorname{v_{c}}{\\left (t \\right )} = - k A{\\left (t \\right )} - H{\\left (t \\right )} \\operatorname{v_{c}}{\\left (t \\right )}, \\quad \\frac{d}{d t} \\operatorname{q_{\\nu}}{\\left (t \\right )} = - \\frac{k}{3} \\left(2 Kf_{1} \\pi_{\\nu}{\\left (t \\right )} - 3 \\Delta_{P \\nu}{\\left (t \\right )}\\right) - k \\left(\\frac{\\operatorname{p_{\\nu}}{\\left (t \\right )}}{\\rho_{\\nu}{\\left (t \\right )}} + 1\\right) A{\\left (t \\right )} - \\left(- \\frac{3 \\operatorname{p_{\\nu}}{\\left (t \\right )}}{\\rho_{\\nu}{\\left (t \\right )}} + 1\\right) H{\\left (t \\right )} \\operatorname{q_{\\nu}}{\\left (t \\right )}, \\quad \\frac{d}{d t} \\operatorname{v_{de}}{\\left (t \\right )} = - k A{\\left (t \\right )} + \\frac{k \\Delta_{de}{\\left (t \\right )} \\hat{c}^{2}_{sde}{\\left (t \\right )}}{\\operatorname{w_{de}}{\\left (t \\right )} + 1} - \\left(- 3 \\hat{c}^{2}_{sde}{\\left (t \\right )} + 1\\right) H{\\left (t \\right )} \\operatorname{v_{de}}{\\left (t \\right )}\\right ]$$"
      ],
      "text/plain": [
       "⎡                                                                             \n",
       "⎢                                                                             \n",
       "⎢d             2⋅Kf₁⋅k⋅πᵣ(t)   4⋅k⋅A(t)   k⋅Δᵣ(t)  d              2⋅Kf₁⋅k⋅π_g(\n",
       "⎢──(qᵣ(t)) = - ───────────── - ──────── + ───────, ──(q_g(t)) = - ────────────\n",
       "⎣dt                  3            3          3     dt                   3     \n",
       "\n",
       "                                                                              \n",
       "                                                                              \n",
       "t)   4⋅k⋅A(t)   k⋅Δ_g(t)   ⎛          4⋅v_b(t)⎞             d                 \n",
       "── - ──────── + ──────── + ⎜-q_g(t) + ────────⎟⋅opacity(t), ──(v_b(t)) = -k⋅A(\n",
       "        3          3       ⎝             3    ⎠             dt                \n",
       "\n",
       "                                  ⎛          4⋅v_b(t)⎞                        \n",
       "     k⋅Δ_b(t)⋅c_sb__2(t)⋅ρ_b(t) - ⎜-q_g(t) + ────────⎟⋅opacity(t)⋅ρ_g(t)      \n",
       "                                  ⎝             3    ⎠                        \n",
       "t) + ─────────────────────────────────────────────────────────────────── - H(t\n",
       "                               p_b(t) + ρ_b(t)                                \n",
       "\n",
       "                  d                                                           \n",
       "           v_b(t)⋅──(p_b(t))                                                  \n",
       "                  dt          d                                   d           \n",
       ")⋅v_b(t) - ─────────────────, ──(v_c(t)) = -k⋅A(t) - H(t)⋅v_c(t), ──(q_ν(t)) =\n",
       "            p_b(t) + ρ_b(t)   dt                                  dt          \n",
       "\n",
       "                                                                              \n",
       "                                                                              \n",
       "   k⋅(2⋅Kf₁⋅π_ν(t) - 3⋅Δ_P_ν(t))     ⎛p_ν(t)    ⎞        ⎛  3⋅p_ν(t)    ⎞     \n",
       " - ───────────────────────────── - k⋅⎜────── + 1⎟⋅A(t) - ⎜- ──────── + 1⎟⋅H(t)\n",
       "                 3                   ⎝ρ_ν(t)    ⎠        ⎝   ρ_ν(t)     ⎠     \n",
       "\n",
       "                                                                              \n",
       "                                                                              \n",
       "         d                       k⋅Δ_de(t)⋅ĉ_sde__2(t)                       \n",
       "⋅q_ν(t), ──(v_de(t)) = -k⋅A(t) + ────────────────────── - (-3⋅ĉ_sde__2(t) + 1\n",
       "         dt                           w_de(t) + 1                             \n",
       "\n",
       "              ⎤\n",
       "              ⎥\n",
       "              ⎥\n",
       ")⋅H(t)⋅v_de(t)⎥\n",
       "              ⎦"
      ]
     },
     "execution_count": 33,
     "metadata": {},
     "output_type": "execute_result"
    }
   ],
   "source": [
    "vel_eqs = [\n",
    "    Eq(diff(q_r,t),-2*third*k*pi_r*K_fac+third*k*Delta_r-4*k/3*A), \n",
    "    Eq(diff(q_g,t),-2*third*k*pi_g*K_fac+third*k*Delta_g+drag_t-4*k/3*A),\n",
    "    Eq(diff(v_b,t),-k*A-H*v_b - diff(p_b,t)*v_b/(rho_b+p_b)\n",
    "              +1/(rho_b+p_b)*(rho_b*csq_b*k*Delta_b-rho_g*drag_t)),\n",
    "    Eq(diff(v_c,t),-H*v_c-k*A),\n",
    "    Eq(diff(q_nu,t),-H*(1-3*p_nu/rho_nu)*q_nu \n",
    "             -k/3*(2*K_fac*pi_nu - 3*Delta_P_nu)-(1+p_nu/rho_nu)*k*A),\n",
    "    Eq(diff(v_de,t),k*csqhat_de*Delta_de/(1+w_de)-H*(1-3*csqhat_de)*v_de - k*A )\n",
    "]\n",
    "vel_eqs"
   ]
  },
  {
   "cell_type": "code",
   "execution_count": 34,
   "metadata": {
    "collapsed": true
   },
   "outputs": [],
   "source": [
    "component_eqs = density_eqs + delta_eqs + vel_eqs"
   ]
  },
  {
   "cell_type": "code",
   "execution_count": 35,
   "metadata": {
    "collapsed": true
   },
   "outputs": [],
   "source": [
    "#check all equations are gauge invariant\n",
    "if checks:\n",
    "    for eq in delta_eqs + vel_eqs:\n",
    "        res=simplify(subs(component_eqs+background_eqs,make_gauge_invariant(eq.lhs).doit()\n",
    "                  -make_gauge_invariant(eq.rhs)))\n",
    "        if res:\n",
    "            display(eq)\n",
    "            display(res)            \n",
    "            raise Exception('Non-zero')\n"
   ]
  },
  {
   "cell_type": "code",
   "execution_count": 36,
   "metadata": {
    "collapsed": true
   },
   "outputs": [],
   "source": [
    "def Newtonian(exp):\n",
    "    return make_gauge_invariant(expr,'Newtonian')\n"
   ]
  },
  {
   "cell_type": "code",
   "execution_count": 37,
   "metadata": {
    "collapsed": true
   },
   "outputs": [],
   "source": [
    "#Gauge invariant quantities equivalent to the Newtonian gauge variables\n",
    "delta_N = delta - 3*(rho+P)*H*sigma/k\n",
    "Delta_g_N = Delta_g - 4*H*sigma/k\n",
    "Delta_r_N = Delta_r - 4*H*sigma/k\n",
    "Delta_c_N = Delta_c - 3*H*sigma/k\n",
    "Delta_b_N = Delta_b - 3*H*sigma/k\n",
    "Delta_nu_N= Delta_nu - 3*(1+p_nu/rho_nu)*H*sigma/k\n",
    "Delta_de_N= Delta_de - 3*(1+w_de)*H*sigma/k\n",
    "q_N = q + (rho+P)*sigma\n",
    "v_b_N = v_b + sigma\n",
    "v_c_N = v_c + sigma\n",
    "v_de_N = v_de + sigma\n",
    "q_r_N=  q_r + 4*sigma/3\n",
    "q_g_N=  q_g + 4*sigma/3\n",
    "q_nu_N = q_nu + (1+p_nu/rho_nu)*sigma\n",
    "sigma_N = 0\n",
    "eta_N =eta + 2*K_fac*H*sigma/k\n",
    "hdot_N = hdot + diff(H*sigma,t)/k - k*sigma/3\n",
    "A_N = A - diff(sigma,t)/k - H*sigma/k\n",
    "z_N = make_gauge_invariant(z,'Newtonian')\n",
    "csq_b_N = (csq_b*Delta_b + diff(p_b,t)/rho_b*sigma/k)/Delta_b_N "
   ]
  },
  {
   "cell_type": "code",
   "execution_count": 38,
   "metadata": {},
   "outputs": [
    {
     "name": "stdout",
     "output_type": "stream",
     "text": [
      "Newtonian gauge version:\n"
     ]
    },
    {
     "data": {
      "image/png": "[encoded data removed]",
      "text/latex": [
       "$$k \\operatorname{q_{g}}{\\left (t \\right )} + \\frac{d}{d t} \\Delta_{g}{\\left (t \\right )} - 4 \\frac{d}{d t} \\Phi_{N}{\\left (t \\right )}$$"
      ],
      "text/plain": [
       "           d              d         \n",
       "k⋅q_g(t) + ──(Δ_g(t)) - 4⋅──(Φ_N(t))\n",
       "           dt             dt        "
      ]
     },
     "metadata": {},
     "output_type": "display_data"
    },
    {
     "name": "stdout",
     "output_type": "stream",
     "text": [
      "CDM frame version:\n"
     ]
    },
    {
     "data": {
      "image/png": "[encoded data removed]",
      "text/latex": [
       "$$k \\operatorname{q_{g}}{\\left (t \\right )} + 4 \\dot{h}{\\left (t \\right )} + \\frac{d}{d t} \\Delta_{g}{\\left (t \\right )}$$"
      ],
      "text/plain": [
       "                     d         \n",
       "k⋅q_g(t) + 4⋅ḣ(t) + ──(Δ_g(t))\n",
       "                     dt        "
      ]
     },
     "metadata": {},
     "output_type": "display_data"
    },
    {
     "name": "stdout",
     "output_type": "stream",
     "text": [
      "Synchronous gauge variable version:\n"
     ]
    },
    {
     "data": {
      "image/png": "[encoded data removed]",
      "text/latex": [
       "$$k \\operatorname{q_{g}}{\\left (t \\right )} + \\frac{2}{3} \\dot{h}_{s}{\\left (t \\right )} + \\frac{d}{d t} \\Delta_{g}{\\left (t \\right )}$$"
      ],
      "text/plain": [
       "           2⋅ḣ_s(t)   d         \n",
       "k⋅q_g(t) + ───────── + ──(Δ_g(t))\n",
       "               3       dt        "
      ]
     },
     "metadata": {},
     "output_type": "display_data"
    },
    {
     "name": "stdout",
     "output_type": "stream",
     "text": [
      "OK\n"
     ]
    }
   ],
   "source": [
    "#Gauge invariant quantities equivalent to the cdm frame (synchronous gauge) variables\n",
    "delta_sync = delta + 3*H*(rho+P)*v_c/k\n",
    "Delta_g_sync = Delta_g + 4*H*v_c/k\n",
    "Delta_r_sync = Delta_r + 4*H*v_c/k\n",
    "Delta_c_sync = Delta_c + 3*H*v_c/k\n",
    "Delta_b_sync = Delta_b + 3*H*v_c/k\n",
    "Delta_nu_sync= Delta_nu + 3*(1+p_nu/rho_nu)*H*v_c/k\n",
    "Delta_de_sync= Delta_de + 3*(1+w_de)*H*v_c/k\n",
    "q_sync = q - (rho+P)*v_c\n",
    "v_b_sync = v_b-v_c\n",
    "v_c_sync = 0\n",
    "v_de_sync = v_de - v_c\n",
    "q_r_sync=  q_r - 4*v_c/3\n",
    "q_g_sync=  q_g - 4*v_c/3\n",
    "q_nu_sync = q_nu - (1+p_nu/rho_nu)*v_c\n",
    "sigma_sync = v_c + sigma\n",
    "A_sync = 0\n",
    "eta_sync =eta -2*K_fac*H*v_c/k\n",
    "hdot_sync = hdot- diff(H*v_c,t)/k + k*v_c/3\n",
    "z_sync = 3*hdot_sync/k    \n",
    "csq_b_sync = (csq_b*Delta_b + diff(p_b,t)/rho_b*v_c/k)/Delta_b_sync \n",
    "\n",
    "def show_gauges(x):\n",
    "    print 'Newtonian gauge version:'\n",
    "    display(newtonian_gauge(x))\n",
    "    print 'CDM frame version:'\n",
    "    display(cdm_gauge(x))\n",
    "    print 'Synchronous gauge variable version:'\n",
    "    display(synchronous_gauge(x))\n",
    "\n",
    "\n",
    "def check_equation(camb_eq, view = True, p_b_zero=False):\n",
    "    if view:\n",
    "        show_gauges(camb_eq)\n",
    "    res = simplify(subs(component_eqs,camb_eq.simplify()))\n",
    "    if p_b_zero: res = subs(Eq(p_b,0),res).doit().simplify()\n",
    "    if res==0:\n",
    "        print 'OK'\n",
    "    else:\n",
    "        print 'Non-zero, equal to:'\n",
    "        display(res)\n",
    "\n",
    "#For example CAMB implements the equation d Delta_g/dt= -k*(4/3*z+qg) in synchronous gauge. Check this works.\n",
    "check_equation(diff(Delta_g_sync,t) + k*(4*z_sync/3 + q_g_sync)) "
   ]
  },
  {
   "cell_type": "code",
   "execution_count": 39,
   "metadata": {},
   "outputs": [
    {
     "name": "stdout",
     "output_type": "stream",
     "text": [
      "Newtonian gauge version:\n"
     ]
    },
    {
     "data": {
      "image/png": "[encoded data removed]",
      "text/latex": [
       "$$\\frac{1}{\\rho_{b}{\\left (t \\right )}} \\left(- k \\Delta_{b}{\\left (t \\right )} \\operatorname{c^{2}_{sb}}{\\left (t \\right )} \\rho_{b}{\\left (t \\right )} - \\frac{1}{3} \\left(3 \\operatorname{q_{g}}{\\left (t \\right )} - 4 \\operatorname{v_{b}}{\\left (t \\right )}\\right) \\operatorname{opacity}{\\left (t \\right )} \\rho_{g}{\\left (t \\right )} + \\left(\\left(\\operatorname{v_{b}}{\\left (t \\right )} - \\operatorname{v_{c}}{\\left (t \\right )}\\right) H{\\left (t \\right )} + \\frac{d}{d t} \\operatorname{v_{b}}{\\left (t \\right )} - \\frac{d}{d t} \\operatorname{v_{c}}{\\left (t \\right )}\\right) \\rho_{b}{\\left (t \\right )} - \\operatorname{v_{c}}{\\left (t \\right )} \\frac{d}{d t} \\operatorname{p_{b}}{\\left (t \\right )}\\right)$$"
      ],
      "text/plain": [
       "                              (3⋅q_g(t) - 4⋅v_b(t))⋅opacity(t)⋅ρ_g(t)   ⎛     \n",
       "-k⋅Δ_b(t)⋅c_sb__2(t)⋅ρ_b(t) - ─────────────────────────────────────── + ⎜(v_b(\n",
       "                                                 3                      ⎝     \n",
       "──────────────────────────────────────────────────────────────────────────────\n",
       "                                                                        ρ_b(t)\n",
       "\n",
       "                    d            d         ⎞                 d         \n",
       "t) - v_c(t))⋅H(t) + ──(v_b(t)) - ──(v_c(t))⎟⋅ρ_b(t) - v_c(t)⋅──(p_b(t))\n",
       "                    dt           dt        ⎠                 dt        \n",
       "───────────────────────────────────────────────────────────────────────\n",
       "                                                                       "
      ]
     },
     "metadata": {},
     "output_type": "display_data"
    },
    {
     "name": "stdout",
     "output_type": "stream",
     "text": [
      "CDM frame version:\n"
     ]
    },
    {
     "data": {
      "image/png": "[encoded data removed]",
      "text/latex": [
       "$$\\frac{1}{\\rho_{b}{\\left (t \\right )}} \\left(- \\frac{1}{3} \\left(3 \\operatorname{q_{g}}{\\left (t \\right )} - 4 \\operatorname{v_{b}}{\\left (t \\right )}\\right) \\operatorname{opacity}{\\left (t \\right )} \\rho_{g}{\\left (t \\right )} + \\left(- k \\Delta_{b}{\\left (t \\right )} \\operatorname{c^{2}_{sb}}{\\left (t \\right )} + H{\\left (t \\right )} \\operatorname{v_{b}}{\\left (t \\right )} - \\frac{d}{d t} 0 + \\frac{d}{d t} \\operatorname{v_{b}}{\\left (t \\right )}\\right) \\rho_{b}{\\left (t \\right )}\\right)$$"
      ],
      "text/plain": [
       "  (3⋅q_g(t) - 4⋅v_b(t))⋅opacity(t)⋅ρ_g(t)   ⎛                                 \n",
       "- ─────────────────────────────────────── + ⎜-k⋅Δ_b(t)⋅c_sb__2(t) + H(t)⋅v_b(t\n",
       "                     3                      ⎝                                 \n",
       "──────────────────────────────────────────────────────────────────────────────\n",
       "                                                   ρ_b(t)                     \n",
       "\n",
       "    d       d         ⎞       \n",
       ") - ──(0) + ──(v_b(t))⎟⋅ρ_b(t)\n",
       "    dt      dt        ⎠       \n",
       "──────────────────────────────\n",
       "                              "
      ]
     },
     "metadata": {},
     "output_type": "display_data"
    },
    {
     "name": "stdout",
     "output_type": "stream",
     "text": [
      "Synchronous gauge variable version:\n"
     ]
    },
    {
     "data": {
      "image/png": "[encoded data removed]",
      "text/latex": [
       "$$\\frac{1}{\\rho_{b}{\\left (t \\right )}} \\left(- \\frac{1}{3} \\left(3 \\operatorname{q_{g}}{\\left (t \\right )} - 4 \\operatorname{v_{b}}{\\left (t \\right )}\\right) \\operatorname{opacity}{\\left (t \\right )} \\rho_{g}{\\left (t \\right )} + \\left(- k \\Delta_{b}{\\left (t \\right )} \\operatorname{c^{2}_{sb}}{\\left (t \\right )} + H{\\left (t \\right )} \\operatorname{v_{b}}{\\left (t \\right )} + \\frac{d}{d t} \\operatorname{v_{b}}{\\left (t \\right )}\\right) \\rho_{b}{\\left (t \\right )}\\right)$$"
      ],
      "text/plain": [
       "  (3⋅q_g(t) - 4⋅v_b(t))⋅opacity(t)⋅ρ_g(t)   ⎛                                 \n",
       "- ─────────────────────────────────────── + ⎜-k⋅Δ_b(t)⋅c_sb__2(t) + H(t)⋅v_b(t\n",
       "                     3                      ⎝                                 \n",
       "──────────────────────────────────────────────────────────────────────────────\n",
       "                                               ρ_b(t)                         \n",
       "\n",
       "    d         ⎞       \n",
       ") + ──(v_b(t))⎟⋅ρ_b(t)\n",
       "    dt        ⎠       \n",
       "──────────────────────\n",
       "                      "
      ]
     },
     "metadata": {},
     "output_type": "display_data"
    },
    {
     "name": "stdout",
     "output_type": "stream",
     "text": [
      "OK\n"
     ]
    }
   ],
   "source": [
    "check_equation(diff(v_b_sync,t)+H*v_b_sync\n",
    "                    -csq_b_sync*k*Delta_b_sync+rho_g/rho_b*opacity*(4*v_b_sync/3-q_g_sync),p_b_zero=True)"
   ]
  },
  {
   "cell_type": "code",
   "execution_count": 40,
   "metadata": {},
   "outputs": [
    {
     "name": "stdout",
     "output_type": "stream",
     "text": [
      "Newtonian gauge version:\n"
     ]
    },
    {
     "data": {
      "image/png": "[encoded data removed]",
      "text/latex": [
       "$$- \\frac{2 Kf_{1}}{k} \\left(k \\Phi_{N}{\\left (t \\right )} + H{\\left (t \\right )} \\operatorname{v_{c}}{\\left (t \\right )}\\right)$$"
      ],
      "text/plain": [
       "-2⋅Kf₁⋅(k⋅Φ_N(t) + H(t)⋅v_c(t)) \n",
       "────────────────────────────────\n",
       "               k                "
      ]
     },
     "metadata": {},
     "output_type": "display_data"
    },
    {
     "name": "stdout",
     "output_type": "stream",
     "text": [
      "CDM frame version:\n"
     ]
    },
    {
     "data": {
      "image/png": "[encoded data removed]",
      "text/latex": [
       "$$\\eta{\\left (t \\right )}$$"
      ],
      "text/plain": [
       "η(t)"
      ]
     },
     "metadata": {},
     "output_type": "display_data"
    },
    {
     "name": "stdout",
     "output_type": "stream",
     "text": [
      "Synchronous gauge variable version:\n"
     ]
    },
    {
     "data": {
      "image/png": "[encoded data removed]",
      "text/latex": [
       "$$- 2 Kf_{1} \\eta_{s}{\\left (t \\right )}$$"
      ],
      "text/plain": [
       "-2⋅Kf₁⋅η_s(t)"
      ]
     },
     "metadata": {},
     "output_type": "display_data"
    }
   ],
   "source": [
    "#can see how a synchronous gauge variable used in CAMB can be obtained in Newtonian gauge, e.g.\n",
    "show_gauges(eta_sync)"
   ]
  },
  {
   "cell_type": "code",
   "execution_count": 41,
   "metadata": {},
   "outputs": [
    {
     "name": "stdout",
     "output_type": "stream",
     "text": [
      "Newtonian gauge version:\n"
     ]
    },
    {
     "data": {
      "image/png": "[encoded data removed]",
      "text/latex": [
       "$$\\Delta_{r}{\\left (t \\right )}$$"
      ],
      "text/plain": [
       "Δᵣ(t)"
      ]
     },
     "metadata": {},
     "output_type": "display_data"
    },
    {
     "name": "stdout",
     "output_type": "stream",
     "text": [
      "CDM frame version:\n"
     ]
    },
    {
     "data": {
      "image/png": "[encoded data removed]",
      "text/latex": [
       "$$\\Delta_{r}{\\left (t \\right )} - \\frac{4}{k} H{\\left (t \\right )} \\sigma{\\left (t \\right )}$$"
      ],
      "text/plain": [
       "        4⋅H(t)⋅σ(t)\n",
       "Δᵣ(t) - ───────────\n",
       "             k     "
      ]
     },
     "metadata": {},
     "output_type": "display_data"
    },
    {
     "name": "stdout",
     "output_type": "stream",
     "text": [
      "Synchronous gauge variable version:\n"
     ]
    },
    {
     "data": {
      "image/png": "[encoded data removed]",
      "text/latex": [
       "$$\\frac{1}{k^{2}} \\left(k^{2} \\Delta_{r}{\\left (t \\right )} - 2 \\left(\\dot{h}_{s}{\\left (t \\right )} + 6 \\frac{d}{d t} \\eta_{s}{\\left (t \\right )}\\right) H{\\left (t \\right )}\\right)$$"
      ],
      "text/plain": [
       " 2           ⎛            d         ⎞     \n",
       "k ⋅Δᵣ(t) - 2⋅⎜ḣ_s(t) + 6⋅──(η_s(t))⎟⋅H(t)\n",
       "             ⎝            dt        ⎠     \n",
       "──────────────────────────────────────────\n",
       "                     2                    \n",
       "                    k                     "
      ]
     },
     "metadata": {},
     "output_type": "display_data"
    }
   ],
   "source": [
    "show_gauges(Delta_r_N)"
   ]
  },
  {
   "cell_type": "code",
   "execution_count": 42,
   "metadata": {},
   "outputs": [
    {
     "name": "stdout",
     "output_type": "stream",
     "text": [
      "Newtonian gauge version:\n"
     ]
    },
    {
     "data": {
      "image/png": "[encoded data removed]",
      "text/latex": [
       "$$- \\Psi_{N}{\\left (t \\right )}$$"
      ],
      "text/plain": [
       "-Ψ_N(t)"
      ]
     },
     "metadata": {},
     "output_type": "display_data"
    },
    {
     "name": "stdout",
     "output_type": "stream",
     "text": [
      "CDM frame version:\n"
     ]
    },
    {
     "data": {
      "image/png": "[encoded data removed]",
      "text/latex": [
       "$$- \\frac{1}{k} \\left(H{\\left (t \\right )} \\sigma{\\left (t \\right )} + \\frac{d}{d t} \\sigma{\\left (t \\right )}\\right)$$"
      ],
      "text/plain": [
       " ⎛            d       ⎞ \n",
       "-⎜H(t)⋅σ(t) + ──(σ(t))⎟ \n",
       " ⎝            dt      ⎠ \n",
       "────────────────────────\n",
       "           k            "
      ]
     },
     "metadata": {},
     "output_type": "display_data"
    },
    {
     "name": "stdout",
     "output_type": "stream",
     "text": [
      "Synchronous gauge variable version:\n"
     ]
    },
    {
     "data": {
      "image/png": "[encoded data removed]",
      "text/latex": [
       "$$- \\frac{1}{2 k^{2}} \\left(\\left(\\dot{h}_{s}{\\left (t \\right )} + 6 \\frac{d}{d t} \\eta_{s}{\\left (t \\right )}\\right) H{\\left (t \\right )} + \\frac{d}{d t} \\dot{h}_{s}{\\left (t \\right )} + 6 \\frac{d^{2}}{d t^{2}}  \\eta_{s}{\\left (t \\right )}\\right)$$"
      ],
      "text/plain": [
       " ⎛                                                  2        ⎞ \n",
       " ⎜⎛            d         ⎞        d                d         ⎟ \n",
       "-⎜⎜ḣ_s(t) + 6⋅──(η_s(t))⎟⋅H(t) + ──(ḣ_s(t)) + 6⋅───(η_s(t))⎟ \n",
       " ⎜⎝            dt        ⎠        dt                2        ⎟ \n",
       " ⎝                                                dt         ⎠ \n",
       "───────────────────────────────────────────────────────────────\n",
       "                                 2                             \n",
       "                              2⋅k                              "
      ]
     },
     "metadata": {},
     "output_type": "display_data"
    }
   ],
   "source": [
    "show_gauges(A_N)"
   ]
  },
  {
   "cell_type": "code",
   "execution_count": 43,
   "metadata": {
    "collapsed": true
   },
   "outputs": [],
   "source": [
    "rho_t =rho_b+rho_c+rho_r+rho_g+rho_nu+ rho_de"
   ]
  },
  {
   "cell_type": "code",
   "execution_count": 44,
   "metadata": {
    "collapsed": true
   },
   "outputs": [],
   "source": [
    "P_t=third*(rho_r+rho_g)+p_b+p_nu + w_de*rho_de"
   ]
  },
  {
   "cell_type": "code",
   "execution_count": 45,
   "metadata": {},
   "outputs": [
    {
     "data": {
      "image/png": "[encoded data removed]",
      "text/latex": [
       "$$\\left [ \\rho{\\left (t \\right )} = \\rho_{b}{\\left (t \\right )} + \\rho_{c}{\\left (t \\right )} + \\rho_{de}{\\left (t \\right )} + \\rho_{g}{\\left (t \\right )} + \\rho_{\\nu}{\\left (t \\right )} + \\rho_{r}{\\left (t \\right )}, \\quad P{\\left (t \\right )} = \\operatorname{p_{b}}{\\left (t \\right )} + \\operatorname{p_{\\nu}}{\\left (t \\right )} + \\rho_{de}{\\left (t \\right )} \\operatorname{w_{de}}{\\left (t \\right )} + \\frac{1}{3} \\rho_{g}{\\left (t \\right )} + \\frac{1}{3} \\rho_{r}{\\left (t \\right )}\\right ]$$"
      ],
      "text/plain": [
       "⎡                                                                             \n",
       "⎢ρ(t) = ρ_b(t) + ρ_c(t) + ρ_de(t) + ρ_g(t) + ρ_ν(t) + ρᵣ(t), P(t) = p_b(t) + p\n",
       "⎣                                                                             \n",
       "\n",
       "                          ρ_g(t)   ρᵣ(t)⎤\n",
       "_ν(t) + ρ_de(t)⋅w_de(t) + ────── + ─────⎥\n",
       "                            3        3  ⎦"
      ]
     },
     "execution_count": 45,
     "metadata": {},
     "output_type": "execute_result"
    }
   ],
   "source": [
    "tot_subs = [\n",
    "    Eq(rho, rho_t),\n",
    "    Eq(P, P_t)\n",
    "]\n",
    "tot_subs"
   ]
  },
  {
   "cell_type": "code",
   "execution_count": 46,
   "metadata": {},
   "outputs": [
    {
     "data": {
      "image/png": "[encoded data removed]",
      "text/latex": [
       "$$\\left [ \\Pi{\\left (t \\right )} = \\pi_{g}{\\left (t \\right )} \\rho_{g}{\\left (t \\right )} + \\pi_{\\nu}{\\left (t \\right )} \\rho_{\\nu}{\\left (t \\right )} + \\pi_{r}{\\left (t \\right )} \\rho_{r}{\\left (t \\right )}, \\quad \\delta{\\left (t \\right )} = \\Delta_{b}{\\left (t \\right )} \\rho_{b}{\\left (t \\right )} + \\Delta_{c}{\\left (t \\right )} \\rho_{c}{\\left (t \\right )} + \\Delta_{de}{\\left (t \\right )} \\rho_{de}{\\left (t \\right )} + \\Delta_{g}{\\left (t \\right )} \\rho_{g}{\\left (t \\right )} + \\Delta_{\\nu}{\\left (t \\right )} \\rho_{\\nu}{\\left (t \\right )} + \\Delta_{r}{\\left (t \\right )} \\rho_{r}{\\left (t \\right )}, \\quad q{\\left (t \\right )} = \\left(\\operatorname{p_{b}}{\\left (t \\right )} + \\rho_{b}{\\left (t \\right )}\\right) \\operatorname{v_{b}}{\\left (t \\right )} + \\left(\\operatorname{w_{de}}{\\left (t \\right )} + 1\\right) \\rho_{de}{\\left (t \\right )} \\operatorname{v_{de}}{\\left (t \\right )} + \\operatorname{q_{g}}{\\left (t \\right )} \\rho_{g}{\\left (t \\right )} + \\operatorname{q_{\\nu}}{\\left (t \\right )} \\rho_{\\nu}{\\left (t \\right )} + \\operatorname{q_{r}}{\\left (t \\right )} \\rho_{r}{\\left (t \\right )} + \\rho_{c}{\\left (t \\right )} \\operatorname{v_{c}}{\\left (t \\right )}, \\quad \\delta_{P}{\\left (t \\right )} = \\left(\\Delta_{de}{\\left (t \\right )} \\hat{c}^{2}_{sde}{\\left (t \\right )} + \\frac{3}{k} \\left(\\operatorname{w_{de}}{\\left (t \\right )} + 1\\right) \\left(\\hat{c}^{2}_{sde}{\\left (t \\right )} - \\operatorname{w_{de}}{\\left (t \\right )} + \\frac{\\frac{d}{d t} \\operatorname{w_{de}}{\\left (t \\right )}}{3 \\left(\\operatorname{w_{de}}{\\left (t \\right )} + 1\\right) H{\\left (t \\right )}}\\right) H{\\left (t \\right )} \\operatorname{v_{de}}{\\left (t \\right )}\\right) \\rho_{de}{\\left (t \\right )} + \\Delta_{P \\nu}{\\left (t \\right )} \\rho_{\\nu}{\\left (t \\right )} + \\Delta_{b}{\\left (t \\right )} \\operatorname{c^{2}_{sb}}{\\left (t \\right )} \\rho_{b}{\\left (t \\right )} + \\frac{1}{3} \\Delta_{g}{\\left (t \\right )} \\rho_{g}{\\left (t \\right )} + \\frac{1}{3} \\Delta_{r}{\\left (t \\right )} \\rho_{r}{\\left (t \\right )}\\right ]$$"
      ],
      "text/plain": [
       "⎡                                                                             \n",
       "⎢                                                                             \n",
       "⎢                                                                             \n",
       "⎢                                                                             \n",
       "⎢                                                                             \n",
       "⎢Π(t) = π_g(t)⋅ρ_g(t) + π_ν(t)⋅ρ_ν(t) + πᵣ(t)⋅ρᵣ(t), δ(t) = Δ_b(t)⋅ρ_b(t) + Δ_\n",
       "⎣                                                                             \n",
       "\n",
       "                                                                              \n",
       "                                                                              \n",
       "                                                                              \n",
       "                                                                              \n",
       "                                                                              \n",
       "c(t)⋅ρ_c(t) + Δ_de(t)⋅ρ_de(t) + Δ_g(t)⋅ρ_g(t) + Δ_ν(t)⋅ρ_ν(t) + Δᵣ(t)⋅ρᵣ(t), q\n",
       "                                                                              \n",
       "\n",
       "                                                                              \n",
       "                                                                              \n",
       "                                                                              \n",
       "                                                                              \n",
       "                                                                              \n",
       "(t) = (p_b(t) + ρ_b(t))⋅v_b(t) + (w_de(t) + 1)⋅ρ_de(t)⋅v_de(t) + q_g(t)⋅ρ_g(t)\n",
       "                                                                              \n",
       "\n",
       "                                                         ⎛                    \n",
       "                                                         ⎜                    \n",
       "                                                         ⎜                    \n",
       "                                                         ⎜                    \n",
       "                                                         ⎜                    \n",
       " + q_ν(t)⋅ρ_ν(t) + qᵣ(t)⋅ρᵣ(t) + ρ_c(t)⋅v_c(t), δ_P(t) = ⎜Δ_de(t)⋅ĉ_sde__2(t)\n",
       "                                                         ⎝                    \n",
       "\n",
       "                   ⎛                             d               ⎞            \n",
       "                   ⎜                             ──(w_de(t))     ⎟            \n",
       "                   ⎜                             dt              ⎟            \n",
       "   3⋅(w_de(t) + 1)⋅⎜ĉ_sde__2(t) - w_de(t) + ────────────────────⎟⋅H(t)⋅v_de(t\n",
       "                   ⎝                         3⋅(w_de(t) + 1)⋅H(t)⎠            \n",
       " + ───────────────────────────────────────────────────────────────────────────\n",
       "                                        k                                     \n",
       "\n",
       " ⎞                                                                            \n",
       " ⎟                                                                            \n",
       " ⎟                                                                            \n",
       ")⎟                                                                            \n",
       " ⎟                                                        Δ_g(t)⋅ρ_g(t)   Δᵣ(t\n",
       "─⎟⋅ρ_de(t) + Δ_P_ν(t)⋅ρ_ν(t) + Δ_b(t)⋅c_sb__2(t)⋅ρ_b(t) + ───────────── + ────\n",
       " ⎠                                                              3             \n",
       "\n",
       "       ⎤\n",
       "       ⎥\n",
       "       ⎥\n",
       "       ⎥\n",
       ")⋅ρᵣ(t)⎥\n",
       "───────⎥\n",
       " 3     ⎦"
      ]
     },
     "execution_count": 46,
     "metadata": {},
     "output_type": "execute_result"
    }
   ],
   "source": [
    "#Note that csqhat_de is defined in the dark energy rest-frame, so this is general-gauge result for pressure perturbation:\n",
    "Delta_P_de =  (csqhat_de*Delta_de + 3*H*v_de/k*(1+w_de)*(csqhat_de-w_de + diff(w_de,t)/3/H/(1+w_de)))\n",
    "tot_pert_subs = [\n",
    "    Eq(Pi, rho_g*pi_g+rho_r*pi_r + rho_nu*pi_nu),\n",
    "    Eq(delta,rho_g*Delta_g+rho_r*Delta_r+rho_b*Delta_b+rho_c*Delta_c \n",
    "             +rho_nu*Delta_nu + rho_de*Delta_de),\n",
    "    Eq(q,rho_g*q_g+rho_r*q_r+rho_c*v_c+(rho_b+p_b)*v_b + rho_nu*q_nu+ rho_de*(1+w_de)*v_de),\n",
    "    Eq(delta_P,rho_nu*Delta_P_nu + third*(rho_g*Delta_g+rho_r*Delta_r) +csq_b*Delta_b*rho_b\n",
    "        + Delta_P_de*rho_de)\n",
    "\n",
    "]\n",
    "tot_pert_subs"
   ]
  },
  {
   "cell_type": "code",
   "execution_count": 47,
   "metadata": {
    "collapsed": true
   },
   "outputs": [],
   "source": [
    "def define_variable(name, namespace = globals(), order=1):\n",
    "    if not name in namespace:\n",
    "        namespace[name] = sympy.Function(name, perturbation_order=order)(t)\n",
    "    return namespace[name]  \n",
    "    \n",
    "def define_variables(names, namespace = globals(), order =1):\n",
    "    return [define_variable(name, namespace,order) for name in names.split()]\n",
    "        \n",
    "        \n",
    "def make_index_func(name,l, namespace = globals()):\n",
    "    name += '_'+str(l)\n",
    "    return define_variable(name, namespace)\n",
    "\n",
    "#Boltzmann hierarchies. Haven't included massive neutrinos here as yet.\n",
    "def J_eq(l):\n",
    "  #photons\n",
    "  assert(l>1) \n",
    "  Gl = make_index_func('J',l)\n",
    "  Glp = make_index_func('J',l+1)\n",
    "  Glm = make_index_func('J',l-1)\n",
    "  eq=-k/(2*l+1)*( (l+1)*Kf[l]*Glp - l*Glm) - opacity*Gl\n",
    "  if l==2: eq = eq +  8*k/15*sigma + opacity*polter\n",
    "  return Eq(diff(Gl,t),eq).subs({'J_2(t)' : pi_g, 'J_1(t)': q_g})\n",
    "\n",
    "def G_eq(l):\n",
    "  #massless neutrinos\n",
    "  assert(l>1) \n",
    "  Gl = make_index_func('G',l)\n",
    "  Glp = make_index_func('G',l+1)\n",
    "  Glm = make_index_func('G',l-1)\n",
    "  eq=-k/(2*l+1)*( (l+1)*Kf[l]*Glp - l*Glm);\n",
    "  if l==2: eq = eq +  8*k/15*sigma\n",
    "  return Eq(diff(Gl,t),eq).subs({'G_2(t)': pi_r,'G_1(t)': q_r})\n",
    "\n",
    "def E_eq(l):\n",
    "  #E polarization  \n",
    "  assert(l>1)\n",
    "  El = make_index_func('E',l)\n",
    "  Elp = make_index_func('E',l+1)\n",
    "  Elm = make_index_func('E',l-1)\n",
    "  eq = -k/(2*l+1)*( (l+3)*(l-1)*Kf[l]*Elp/(l+1) - l*Elm)-opacity*El;\n",
    "  if l==2:\n",
    "    eq = eq +polter*opacity\n",
    "  return Eq(diff(El,t),eq).subs('E_1(t)', 0)\n"
   ]
  },
  {
   "cell_type": "code",
   "execution_count": 48,
   "metadata": {},
   "outputs": [
    {
     "data": {
      "image/png": "[encoded data removed]",
      "text/latex": [
       "$$\\left [ \\frac{d}{d t} \\pi_{g}{\\left (t \\right )} = - \\frac{k}{5} \\left(3 \\operatorname{J_{3}}{\\left (t \\right )} Kf_{2} - 2 \\operatorname{q_{g}}{\\left (t \\right )}\\right) + \\frac{8 k}{15} \\sigma{\\left (t \\right )} - \\operatorname{opacity}{\\left (t \\right )} \\pi_{g}{\\left (t \\right )} + \\operatorname{opacity}{\\left (t \\right )} \\operatorname{polter}{\\left (t \\right )}, \\quad \\frac{d}{d t} \\pi_{r}{\\left (t \\right )} = - \\frac{k}{5} \\left(3 \\operatorname{G_{3}}{\\left (t \\right )} Kf_{2} - 2 \\operatorname{q_{r}}{\\left (t \\right )}\\right) + \\frac{8 k}{15} \\sigma{\\left (t \\right )}, \\quad \\frac{d}{d t} \\operatorname{E_{2}}{\\left (t \\right )} = - \\frac{k Kf_{2}}{3} \\operatorname{E_{3}}{\\left (t \\right )} - \\operatorname{E_{2}}{\\left (t \\right )} \\operatorname{opacity}{\\left (t \\right )} + \\operatorname{opacity}{\\left (t \\right )} \\operatorname{polter}{\\left (t \\right )}, \\quad \\frac{d}{d t} \\operatorname{J_{3}}{\\left (t \\right )} = - \\frac{k}{7} \\left(4 \\operatorname{J_{4}}{\\left (t \\right )} Kf_{3} - 3 \\pi_{g}{\\left (t \\right )}\\right) - \\operatorname{J_{3}}{\\left (t \\right )} \\operatorname{opacity}{\\left (t \\right )}, \\quad \\frac{d}{d t} \\operatorname{G_{3}}{\\left (t \\right )} = - \\frac{k}{7} \\left(4 \\operatorname{G_{4}}{\\left (t \\right )} Kf_{3} - 3 \\pi_{r}{\\left (t \\right )}\\right), \\quad \\frac{d}{d t} \\operatorname{E_{3}}{\\left (t \\right )} = - \\frac{k}{7} \\left(- 3 \\operatorname{E_{2}}{\\left (t \\right )} + 3 \\operatorname{E_{4}}{\\left (t \\right )} Kf_{3}\\right) - \\operatorname{E_{3}}{\\left (t \\right )} \\operatorname{opacity}{\\left (t \\right )}, \\quad \\frac{d}{d t} \\operatorname{J_{4}}{\\left (t \\right )} = - \\frac{k}{9} \\left(- 4 \\operatorname{J_{3}}{\\left (t \\right )} + 5 \\operatorname{J_{5}}{\\left (t \\right )} Kf_{4}\\right) - \\operatorname{J_{4}}{\\left (t \\right )} \\operatorname{opacity}{\\left (t \\right )}, \\quad \\frac{d}{d t} \\operatorname{G_{4}}{\\left (t \\right )} = - \\frac{k}{9} \\left(- 4 \\operatorname{G_{3}}{\\left (t \\right )} + 5 \\operatorname{G_{5}}{\\left (t \\right )} Kf_{4}\\right), \\quad \\frac{d}{d t} \\operatorname{E_{4}}{\\left (t \\right )} = - \\frac{k}{9} \\left(- 4 \\operatorname{E_{3}}{\\left (t \\right )} + \\frac{21 Kf_{4}}{5} \\operatorname{E_{5}}{\\left (t \\right )}\\right) - \\operatorname{E_{4}}{\\left (t \\right )} \\operatorname{opacity}{\\left (t \\right )}\\right ]$$"
      ],
      "text/plain": [
       "⎡                                                                             \n",
       "⎢                                                                             \n",
       "⎢d              k⋅(3⋅J₃(t)⋅Kf[2] - 2⋅q_g(t))   8⋅k⋅σ(t)                       \n",
       "⎢──(π_g(t)) = - ──────────────────────────── + ──────── - opacity(t)⋅π_g(t) + \n",
       "⎣dt                          5                    15                          \n",
       "\n",
       "                                                                              \n",
       "                                                                              \n",
       "                      d             k⋅(3⋅G₃(t)⋅Kf[2] - 2⋅qᵣ(t))   8⋅k⋅σ(t)  d \n",
       "opacity(t)⋅polter(t), ──(πᵣ(t)) = - ─────────────────────────── + ────────, ──\n",
       "                      dt                         5                   15     dt\n",
       "\n",
       "                                                                              \n",
       "                                                                              \n",
       "            k⋅E₃(t)⋅Kf[2]                                            d        \n",
       "(E₂(t)) = - ───────────── - E₂(t)⋅opacity(t) + opacity(t)⋅polter(t), ──(J₃(t))\n",
       "                  3                                                  dt       \n",
       "\n",
       "                                                                              \n",
       "                                                                              \n",
       "     k⋅(4⋅J₄(t)⋅Kf[3] - 3⋅π_g(t))                     d           -k⋅(4⋅G₄(t)⋅\n",
       " = - ──────────────────────────── - J₃(t)⋅opacity(t), ──(G₃(t)) = ────────────\n",
       "                  7                                   dt                      \n",
       "\n",
       "                                                                              \n",
       "                                                                              \n",
       "Kf[3] - 3⋅πᵣ(t))   d             k⋅(-3⋅E₂(t) + 3⋅E₄(t)⋅Kf[3])                 \n",
       "─────────────────, ──(E₃(t)) = - ──────────────────────────── - E₃(t)⋅opacity(\n",
       "  7                dt                         7                               \n",
       "\n",
       "                                                                              \n",
       "                                                                              \n",
       "    d             k⋅(-4⋅J₃(t) + 5⋅J₅(t)⋅Kf[4])                     d          \n",
       "t), ──(J₄(t)) = - ──────────────────────────── - J₄(t)⋅opacity(t), ──(G₄(t)) =\n",
       "    dt                         9                                   dt         \n",
       "\n",
       "                                                 ⎛           21⋅E₅(t)⋅Kf[4]⎞  \n",
       "                                               k⋅⎜-4⋅E₃(t) + ──────────────⎟  \n",
       " -k⋅(-4⋅G₃(t) + 5⋅G₅(t)⋅Kf[4])   d               ⎝                 5       ⎠  \n",
       " ──────────────────────────────, ──(E₄(t)) = - ───────────────────────────── -\n",
       "               9                 dt                          9                \n",
       "\n",
       "                 ⎤\n",
       "                 ⎥\n",
       "                 ⎥\n",
       " E₄(t)⋅opacity(t)⎥\n",
       "                 ⎦"
      ]
     },
     "execution_count": 48,
     "metadata": {},
     "output_type": "execute_result"
    }
   ],
   "source": [
    "hierarchies = []\n",
    "for l in range(2,5):\n",
    "    hierarchies+= [J_eq(l), G_eq(l), E_eq(l)]\n",
    "hierarchies    "
   ]
  },
  {
   "cell_type": "code",
   "execution_count": 49,
   "metadata": {
    "collapsed": true
   },
   "outputs": [],
   "source": [
    "#Check consistency of fluid equations with equations from total stress-energy conservation\n",
    "for eq in total_eqs:\n",
    "    assert(subs(component_eqs+tot_subs,subs(tot_pert_subs,eq).doit()).doit().simplify())"
   ]
  },
  {
   "cell_type": "code",
   "execution_count": 50,
   "metadata": {},
   "outputs": [
    {
     "data": {
      "image/png": "[encoded data removed]",
      "text/latex": [
       "$$\\frac{3}{5} \\operatorname{E_{2}}{\\left (t \\right )} + \\frac{1}{10} \\pi_{g}{\\left (t \\right )}$$"
      ],
      "text/plain": [
       "3⋅E₂(t)   π_g(t)\n",
       "─────── + ──────\n",
       "   5        10  "
      ]
     },
     "execution_count": 50,
     "metadata": {},
     "output_type": "execute_result"
    }
   ],
   "source": [
    "polter_t = sympy.Rational(2,15)*(3*pi_g/4 + 9*E_2/2)\n",
    "#quadrupole source =15*polter_t/8\n",
    "polter_t"
   ]
  },
  {
   "cell_type": "code",
   "execution_count": 51,
   "metadata": {
    "collapsed": true
   },
   "outputs": [],
   "source": [
    "#Line of sight temperature anisotropy source\n",
    "\n",
    "source1 = k*sigma*exptau +visibility*15*polter/8\n",
    "source = source1/3+diff(source1,t,t)/k**2 +visibility*Delta_g/4-hdot*exptau +diff(visibility*v_b-k*exptau*A,t)/k"
   ]
  },
  {
   "cell_type": "code",
   "execution_count": 52,
   "metadata": {
    "collapsed": true
   },
   "outputs": [],
   "source": [
    "src=subs(var_subs,subs(background_eqs+pert_eqs,subs(background_eqs+pert_eqs,source).expand().doit()).simplify()).simplify().expand()"
   ]
  },
  {
   "cell_type": "code",
   "execution_count": 53,
   "metadata": {},
   "outputs": [
    {
     "data": {
      "image/png": "[encoded data removed]",
      "text/latex": [
       "$$\\frac{\\operatorname{exptau}{\\left (t \\right )}}{6 Kf_{1} k^{3} H{\\left (t \\right )}} \\left(Kf_{1} k^{3} \\left(k^{2} \\eta{\\left (t \\right )} - \\kappa a^{2}{\\left (t \\right )} \\delta{\\left (t \\right )}\\right) + 3 Kf_{1} k^{2} \\kappa H{\\left (t \\right )} a^{2}{\\left (t \\right )} q{\\left (t \\right )} - 6 Kf_{1} k \\kappa H{\\left (t \\right )} a^{2}{\\left (t \\right )} \\frac{d}{d t} \\Pi{\\left (t \\right )} + k^{3} \\left(- k^{2} \\eta{\\left (t \\right )} - 3 \\kappa P{\\left (t \\right )} a^{2}{\\left (t \\right )} \\eta{\\left (t \\right )} + \\kappa a^{2}{\\left (t \\right )} \\delta{\\left (t \\right )} - 2 \\kappa a^{2}{\\left (t \\right )} \\eta{\\left (t \\right )} \\rho{\\left (t \\right )}\\right) - 3 k^{3} H^{2}{\\left (t \\right )} \\eta{\\left (t \\right )} + 3 k^{2} \\kappa H{\\left (t \\right )} a^{2}{\\left (t \\right )} q{\\left (t \\right )} + k \\kappa^{2} \\left(3 P{\\left (t \\right )} + 2 \\rho{\\left (t \\right )}\\right) a^{4}{\\left (t \\right )} \\delta{\\left (t \\right )} + 9 k \\kappa H^{2}{\\left (t \\right )} a^{2}{\\left (t \\right )} \\delta{\\left (t \\right )} + 3 \\kappa \\left(3 \\kappa P{\\left (t \\right )} a^{2}{\\left (t \\right )} + 2 \\kappa a^{2}{\\left (t \\right )} \\rho{\\left (t \\right )} + 9 H^{2}{\\left (t \\right )}\\right) H{\\left (t \\right )} a^{2}{\\left (t \\right )} q{\\left (t \\right )}\\right)$$"
      ],
      "text/plain": [
       "⎛     3 ⎛ 2           2        ⎞          2         2                         \n",
       "⎜Kf₁⋅k ⋅⎝k ⋅η(t) - κ⋅a (t)⋅δ(t)⎠ + 3⋅Kf₁⋅k ⋅κ⋅H(t)⋅a (t)⋅q(t) - 6⋅Kf₁⋅k⋅κ⋅H(t)\n",
       "⎝                                                                             \n",
       "──────────────────────────────────────────────────────────────────────────────\n",
       "                                                                              \n",
       "                                                                              \n",
       "\n",
       "  2    d           3 ⎛   2                  2              2                2 \n",
       "⋅a (t)⋅──(Π(t)) + k ⋅⎝- k ⋅η(t) - 3⋅κ⋅P(t)⋅a (t)⋅η(t) + κ⋅a (t)⋅δ(t) - 2⋅κ⋅a (\n",
       "       dt                                                                     \n",
       "──────────────────────────────────────────────────────────────────────────────\n",
       "                                                                              \n",
       "                                                                              \n",
       "\n",
       "            ⎞      3  2              2         2              2               \n",
       "t)⋅η(t)⋅ρ(t)⎠ - 3⋅k ⋅H (t)⋅η(t) + 3⋅k ⋅κ⋅H(t)⋅a (t)⋅q(t) + k⋅κ ⋅(3⋅P(t) + 2⋅ρ(\n",
       "                                                                              \n",
       "──────────────────────────────────────────────────────────────────────────────\n",
       "                   3                                                          \n",
       "            6⋅Kf₁⋅k ⋅H(t)                                                     \n",
       "\n",
       "     4                  2     2               ⎛          2           2        \n",
       "t))⋅a (t)⋅δ(t) + 9⋅k⋅κ⋅H (t)⋅a (t)⋅δ(t) + 3⋅κ⋅⎝3⋅κ⋅P(t)⋅a (t) + 2⋅κ⋅a (t)⋅ρ(t)\n",
       "                                                                              \n",
       "──────────────────────────────────────────────────────────────────────────────\n",
       "                                                                              \n",
       "                                                                              \n",
       "\n",
       "      2   ⎞       2        ⎞          \n",
       " + 9⋅H (t)⎠⋅H(t)⋅a (t)⋅q(t)⎟⋅exptau(t)\n",
       "                           ⎠          \n",
       "──────────────────────────────────────\n",
       "                                      \n",
       "                                      "
      ]
     },
     "execution_count": 53,
     "metadata": {},
     "output_type": "execute_result"
    }
   ],
   "source": [
    "ISW = src.coeff(exptau)*exptau\n",
    "ISW.simplify()"
   ]
  },
  {
   "cell_type": "code",
   "execution_count": 54,
   "metadata": {
    "collapsed": true
   },
   "outputs": [],
   "source": [
    "#Check ISW is just 2*d phi/d eta\n",
    "assert(subs(K_sub,subs(Friedmann,subs(K_sub,subs(Friedmann,subs(var_subs,2*dphi*exptau - ISW).simplify())).simplify())).simplify()==0)"
   ]
  },
  {
   "cell_type": "code",
   "execution_count": 99,
   "metadata": {},
   "outputs": [
    {
     "data": {
      "image/png": "[encoded data removed]",
      "text/latex": [
       "$$\\frac{k^{2} \\eta{\\left (t \\right )}}{6 H{\\left (t \\right )}} - \\frac{\\kappa a^{2}{\\left (t \\right )} \\delta{\\left (t \\right )}}{6 H{\\left (t \\right )}} + \\left(\\frac{2 Kf_{1}}{3} k - \\frac{k}{3} + \\frac{\\kappa}{2 k} P{\\left (t \\right )} a^{2}{\\left (t \\right )} + \\frac{5 \\kappa}{6 k} a^{2}{\\left (t \\right )} \\rho{\\left (t \\right )}\\right) \\sigma{\\left (t \\right )} - \\frac{\\kappa}{2 k^{2}} a^{2}{\\left (t \\right )} \\frac{d}{d t} \\Pi{\\left (t \\right )} + \\frac{H{\\left (t \\right )}}{2 Kf_{1}} \\eta{\\left (t \\right )}$$"
      ],
      "text/plain": [
       "                                                                              \n",
       " 2           2           ⎛                      2           2        ⎞        \n",
       "k ⋅η(t)   κ⋅a (t)⋅δ(t)   ⎜2⋅Kf₁⋅k   k   κ⋅P(t)⋅a (t)   5⋅κ⋅a (t)⋅ρ(t)⎟        \n",
       "─────── - ──────────── + ⎜─────── - ─ + ──────────── + ──────────────⎟⋅σ(t) - \n",
       " 6⋅H(t)      6⋅H(t)      ⎝   3      3       2⋅k             6⋅k      ⎠        \n",
       "                                                                              \n",
       "\n",
       "   2    d                   \n",
       "κ⋅a (t)⋅──(Π(t))            \n",
       "        dt         H(t)⋅η(t)\n",
       "──────────────── + ─────────\n",
       "         2           2⋅Kf₁  \n",
       "      2⋅k                   "
      ]
     },
     "execution_count": 99,
     "metadata": {},
     "output_type": "execute_result"
    }
   ],
   "source": [
    "#More numerically stable form of phidot (but shorter than term in ISW above, which is also OK)\n",
    "dphi2=subs(Friedmann_Kfac_subs,subs(q_sub,subs(var_subs, dphi)).expand()).simplify().expand().collect(sigma)\n",
    "dphi2"
   ]
  },
  {
   "cell_type": "code",
   "execution_count": 55,
   "metadata": {},
   "outputs": [
    {
     "data": {
      "image/png": "[encoded data removed]",
      "text/latex": [
       "$$\\frac{\\kappa a^{2}{\\left (t \\right )}}{4 Kf_{1} k^{3} H{\\left (t \\right )}} \\left(- 2 Kf_{1} k \\left(- k q{\\left (t \\right )} + H{\\left (t \\right )} \\Pi{\\left (t \\right )} + \\frac{d}{d t} \\Pi{\\left (t \\right )}\\right) H{\\left (t \\right )} - \\left(k \\left(k^{2} \\eta{\\left (t \\right )} - \\kappa a^{2}{\\left (t \\right )} \\delta{\\left (t \\right )}\\right) - 3 \\kappa H{\\left (t \\right )} a^{2}{\\left (t \\right )} q{\\left (t \\right )}\\right) \\left(P{\\left (t \\right )} + \\rho{\\left (t \\right )}\\right) + 2 \\left(Kf_{1} k \\Pi{\\left (t \\right )} + k \\delta{\\left (t \\right )} + 3 H{\\left (t \\right )} q{\\left (t \\right )}\\right) H^{2}{\\left (t \\right )}\\right)$$"
      ],
      "text/plain": [
       "  ⎛          ⎛                      d       ⎞        ⎛  ⎛ 2           2       \n",
       "κ⋅⎜- 2⋅Kf₁⋅k⋅⎜-k⋅q(t) + H(t)⋅Π(t) + ──(Π(t))⎟⋅H(t) - ⎝k⋅⎝k ⋅η(t) - κ⋅a (t)⋅δ(t\n",
       "  ⎝          ⎝                      dt      ⎠                                 \n",
       "──────────────────────────────────────────────────────────────────────────────\n",
       "                                                                              \n",
       "                                                                              \n",
       "\n",
       " ⎞             2        ⎞                                                     \n",
       ")⎠ - 3⋅κ⋅H(t)⋅a (t)⋅q(t)⎠⋅(P(t) + ρ(t)) + 2⋅(Kf₁⋅k⋅Π(t) + k⋅δ(t) + 3⋅H(t)⋅q(t)\n",
       "                                                                              \n",
       "──────────────────────────────────────────────────────────────────────────────\n",
       "       3                                                                      \n",
       "4⋅Kf₁⋅k ⋅H(t)                                                                 \n",
       "\n",
       "   2   ⎞  2   \n",
       ")⋅H (t)⎟⋅a (t)\n",
       "       ⎠      \n",
       "──────────────\n",
       "              \n",
       "              "
      ]
     },
     "execution_count": 55,
     "metadata": {},
     "output_type": "execute_result"
    }
   ],
   "source": [
    "subs(var_subs,dphi).simplify()"
   ]
  },
  {
   "cell_type": "code",
   "execution_count": 56,
   "metadata": {
    "collapsed": true
   },
   "outputs": [],
   "source": [
    "Doppler = subs(var_subs,subs(pert_eqs,diff(visibility*(v_b+sigma),t)/k)).simplify().collect(visibility)"
   ]
  },
  {
   "cell_type": "code",
   "execution_count": 57,
   "metadata": {
    "collapsed": true
   },
   "outputs": [],
   "source": [
    "remainder = src - ISW-Doppler"
   ]
  },
  {
   "cell_type": "code",
   "execution_count": 58,
   "metadata": {
    "collapsed": true
   },
   "outputs": [],
   "source": [
    "remainder=remainder.simplify().collect(visibility)"
   ]
  },
  {
   "cell_type": "code",
   "execution_count": 59,
   "metadata": {},
   "outputs": [
    {
     "data": {
      "image/png": "[encoded data removed]",
      "text/latex": [
       "$$\\frac{1}{4} \\Delta_{g}{\\left (t \\right )} \\operatorname{visibility}{\\left (t \\right )} + 2 \\phi{\\left (t \\right )} \\operatorname{visibility}{\\left (t \\right )} + \\frac{5}{8} \\operatorname{polter}{\\left (t \\right )} \\operatorname{visibility}{\\left (t \\right )} + \\frac{15}{8 k^{2}} \\operatorname{polter}{\\left (t \\right )} \\frac{d^{2}}{d t^{2}}  \\operatorname{visibility}{\\left (t \\right )} + \\frac{15}{8 k^{2}} \\operatorname{visibility}{\\left (t \\right )} \\frac{d^{2}}{d t^{2}}  \\operatorname{polter}{\\left (t \\right )} + \\frac{15}{4 k^{2}} \\frac{d}{d t} \\operatorname{polter}{\\left (t \\right )} \\frac{d}{d t} \\operatorname{visibility}{\\left (t \\right )} + \\frac{\\eta{\\left (t \\right )}}{2 Kf_{1}} \\operatorname{visibility}{\\left (t \\right )}$$"
      ],
      "text/plain": [
       "                                                                              \n",
       "                                                                              \n",
       "                                                                          15⋅p\n",
       "                                                                              \n",
       "Δ_g(t)⋅visibility(t)                          5⋅polter(t)⋅visibility(t)       \n",
       "──────────────────── + 2⋅φ(t)⋅visibility(t) + ───────────────────────── + ────\n",
       "         4                                                8                   \n",
       "                                                                              \n",
       "\n",
       "           2                                     2                            \n",
       "          d                                     d                             \n",
       "olter(t)⋅───(visibility(t))   15⋅visibility(t)⋅───(polter(t))      d          \n",
       "           2                                     2              15⋅──(polter(t\n",
       "         dt                                    dt                  dt         \n",
       "─────────────────────────── + ─────────────────────────────── + ──────────────\n",
       "             2                                 2                              \n",
       "          8⋅k                               8⋅k                               \n",
       "\n",
       "                                         \n",
       "                                         \n",
       "   d                                     \n",
       "))⋅──(visibility(t))                     \n",
       "   dt                  η(t)⋅visibility(t)\n",
       "──────────────────── + ──────────────────\n",
       "    2                        2⋅Kf₁       \n",
       " 4⋅k                                     "
      ]
     },
     "execution_count": 59,
     "metadata": {},
     "output_type": "execute_result"
    }
   ],
   "source": [
    "remainder=remainder.subs(delta,solve(phi_sub, delta)).simplify()\n",
    "remainder"
   ]
  },
  {
   "cell_type": "code",
   "execution_count": 60,
   "metadata": {},
   "outputs": [
    {
     "data": {
      "image/png": "[encoded data removed]",
      "text/latex": [
       "$$- \\frac{k}{50} \\left(3 \\operatorname{J_{3}}{\\left (t \\right )} Kf_{2} - 2 \\operatorname{q_{g}}{\\left (t \\right )}\\right) - \\frac{k Kf_{2}}{5} \\operatorname{E_{3}}{\\left (t \\right )} + \\frac{4 k}{75} \\sigma{\\left (t \\right )} - \\frac{3}{5} \\operatorname{E_{2}}{\\left (t \\right )} \\operatorname{opacity}{\\left (t \\right )} - \\frac{1}{10} \\operatorname{opacity}{\\left (t \\right )} \\pi_{g}{\\left (t \\right )} + \\frac{7}{10} \\operatorname{opacity}{\\left (t \\right )} \\operatorname{polter}{\\left (t \\right )}$$"
      ],
      "text/plain": [
       "  k⋅(3⋅J₃(t)⋅Kf[2] - 2⋅q_g(t))   k⋅E₃(t)⋅Kf[2]   4⋅k⋅σ(t)   3⋅E₂(t)⋅opacity(t)\n",
       "- ──────────────────────────── - ───────────── + ──────── - ──────────────────\n",
       "               50                      5            75              5         \n",
       "\n",
       "   opacity(t)⋅π_g(t)   7⋅opacity(t)⋅polter(t)\n",
       " - ───────────────── + ──────────────────────\n",
       "           10                    10          "
      ]
     },
     "execution_count": 60,
     "metadata": {},
     "output_type": "execute_result"
    }
   ],
   "source": [
    "polterdot = subs(hierarchies,diff(polter_t,t))\n",
    "polterdot"
   ]
  },
  {
   "cell_type": "code",
   "execution_count": 61,
   "metadata": {},
   "outputs": [
    {
     "data": {
      "image/png": "[encoded data removed]",
      "text/latex": [
       "$$\\frac{4 k}{75} \\left(k \\left(A{\\left (t \\right )} + \\phi{\\left (t \\right )}\\right) - H{\\left (t \\right )} \\sigma{\\left (t \\right )}\\right) - \\frac{k}{50} \\left(3 \\frac{d}{d t} \\operatorname{J_{3}}{\\left (t \\right )} Kf_{2} - 2 \\frac{d}{d t} \\operatorname{q_{g}}{\\left (t \\right )}\\right) - \\frac{k Kf_{2}}{5} \\frac{d}{d t} \\operatorname{E_{3}}{\\left (t \\right )} - \\frac{2 \\kappa}{75} \\Pi{\\left (t \\right )} a^{2}{\\left (t \\right )} - \\frac{3}{5} \\operatorname{E_{2}}{\\left (t \\right )} \\frac{d}{d t} \\operatorname{opacity}{\\left (t \\right )} - \\frac{3}{5} \\operatorname{opacity}{\\left (t \\right )} \\frac{d}{d t} \\operatorname{E_{2}}{\\left (t \\right )} - \\frac{1}{10} \\operatorname{opacity}{\\left (t \\right )} \\frac{d}{d t} \\pi_{g}{\\left (t \\right )} + \\frac{7}{10} \\operatorname{opacity}{\\left (t \\right )} \\frac{d}{d t} \\operatorname{polter}{\\left (t \\right )} - \\frac{1}{10} \\pi_{g}{\\left (t \\right )} \\frac{d}{d t} \\operatorname{opacity}{\\left (t \\right )} + \\frac{7}{10} \\operatorname{polter}{\\left (t \\right )} \\frac{d}{d t} \\operatorname{opacity}{\\left (t \\right )}$$"
      ],
      "text/plain": [
       "                                      ⎛  d                   d         ⎞     d\n",
       "                                    k⋅⎜3⋅──(J₃(t))⋅Kf[2] - 2⋅──(q_g(t))⎟   k⋅─\n",
       "4⋅k⋅(k⋅(A(t) + φ(t)) - H(t)⋅σ(t))     ⎝  dt                  dt        ⎠     d\n",
       "───────────────────────────────── - ──────────────────────────────────── - ───\n",
       "                75                                   50                       \n",
       "\n",
       "                                          d                             d     \n",
       "─(E₃(t))⋅Kf[2]             2      3⋅E₂(t)⋅──(opacity(t))   3⋅opacity(t)⋅──(E₂(\n",
       "t                2⋅κ⋅Π(t)⋅a (t)           dt                            dt    \n",
       "────────────── - ────────────── - ────────────────────── - ───────────────────\n",
       "     5                 75                   5                        5        \n",
       "\n",
       "                 d                         d                      d           \n",
       "t))   opacity(t)⋅──(π_g(t))   7⋅opacity(t)⋅──(polter(t))   π_g(t)⋅──(opacity(t\n",
       "                 dt                        dt                     dt          \n",
       "─── - ───────────────────── + ────────────────────────── - ───────────────────\n",
       "                10                        10                         10       \n",
       "\n",
       "                 d             \n",
       "))   7⋅polter(t)⋅──(opacity(t))\n",
       "                 dt            \n",
       "── + ──────────────────────────\n",
       "                 10            "
      ]
     },
     "execution_count": 61,
     "metadata": {},
     "output_type": "execute_result"
    }
   ],
   "source": [
    "diff(polterdot,t).subs(diff(sigma,t),dsigma).simplify()"
   ]
  },
  {
   "cell_type": "code",
   "execution_count": 62,
   "metadata": {},
   "outputs": [
    {
     "data": {
      "image/png": "[encoded data removed]",
      "text/latex": [
       "$$\\frac{1}{150 Kf_{1} k} \\left(8 Kf_{1} k^{3} A{\\left (t \\right )} - 8 Kf_{1} k^{2} H{\\left (t \\right )} \\sigma{\\left (t \\right )} + Kf_{1} k \\left(- 3 k \\left(3 \\frac{d}{d t} \\operatorname{J_{3}}{\\left (t \\right )} Kf_{2} - 2 \\frac{d}{d t} \\operatorname{q_{g}}{\\left (t \\right )}\\right) - 30 k \\frac{d}{d t} \\operatorname{E_{3}}{\\left (t \\right )} Kf_{2} - 4 \\kappa \\Pi{\\left (t \\right )} a^{2}{\\left (t \\right )} - 90 \\operatorname{E_{2}}{\\left (t \\right )} \\frac{d}{d t} \\operatorname{opacity}{\\left (t \\right )} - 90 \\operatorname{opacity}{\\left (t \\right )} \\frac{d}{d t} \\operatorname{E_{2}}{\\left (t \\right )} - 15 \\operatorname{opacity}{\\left (t \\right )} \\frac{d}{d t} \\pi_{g}{\\left (t \\right )} + 105 \\operatorname{opacity}{\\left (t \\right )} \\frac{d}{d t} \\operatorname{polter}{\\left (t \\right )} - 15 \\pi_{g}{\\left (t \\right )} \\frac{d}{d t} \\operatorname{opacity}{\\left (t \\right )} + 105 \\operatorname{polter}{\\left (t \\right )} \\frac{d}{d t} \\operatorname{opacity}{\\left (t \\right )}\\right) - 4 \\kappa \\left(Kf_{1} k \\Pi{\\left (t \\right )} + k \\delta{\\left (t \\right )} + 3 H{\\left (t \\right )} q{\\left (t \\right )}\\right) a^{2}{\\left (t \\right )}\\right)$$"
      ],
      "text/plain": [
       "       3               2                   ⎛      ⎛  d                   d    \n",
       "8⋅Kf₁⋅k ⋅A(t) - 8⋅Kf₁⋅k ⋅H(t)⋅σ(t) + Kf₁⋅k⋅⎜- 3⋅k⋅⎜3⋅──(J₃(t))⋅Kf[2] - 2⋅──(q_\n",
       "                                           ⎝      ⎝  dt                  dt   \n",
       "──────────────────────────────────────────────────────────────────────────────\n",
       "                                                                              \n",
       "\n",
       "     ⎞        d                           2               d                   \n",
       "g(t))⎟ - 30⋅k⋅──(E₃(t))⋅Kf[2] - 4⋅κ⋅Π(t)⋅a (t) - 90⋅E₂(t)⋅──(opacity(t)) - 90⋅\n",
       "     ⎠        dt                                          dt                  \n",
       "──────────────────────────────────────────────────────────────────────────────\n",
       "                                                                              \n",
       "\n",
       "           d                         d                           d            \n",
       "opacity(t)⋅──(E₂(t)) - 15⋅opacity(t)⋅──(π_g(t)) + 105⋅opacity(t)⋅──(polter(t))\n",
       "           dt                        dt                          dt           \n",
       "──────────────────────────────────────────────────────────────────────────────\n",
       "          150⋅Kf₁⋅k                                                           \n",
       "\n",
       "             d                              d             ⎞                   \n",
       " - 15⋅π_g(t)⋅──(opacity(t)) + 105⋅polter(t)⋅──(opacity(t))⎟ - 4⋅κ⋅(Kf₁⋅k⋅Π(t) \n",
       "             dt                             dt            ⎠                   \n",
       "──────────────────────────────────────────────────────────────────────────────\n",
       "                                                                              \n",
       "\n",
       "                         2   \n",
       "+ k⋅δ(t) + 3⋅H(t)⋅q(t))⋅a (t)\n",
       "                             \n",
       "─────────────────────────────\n",
       "                             "
      ]
     },
     "execution_count": 62,
     "metadata": {},
     "output_type": "execute_result"
    }
   ],
   "source": [
    "polterddot = subs(phi_sub,diff(polterdot,t).subs(diff(sigma,t),dsigma).simplify()).simplify()\n",
    "polterddot"
   ]
  },
  {
   "cell_type": "code",
   "execution_count": 63,
   "metadata": {
    "collapsed": true
   },
   "outputs": [],
   "source": [
    "monopole_source = Delta_g*visibility/4  \n",
    "sachs_wolfe = 2*phi*visibility + eta*visibility/(2*K_fac) \n",
    "quadrupole_source = (remainder-sachs_wolfe - monopole_source).simplify()\n",
    "dop = diff((v_b+sigma)*visibility,t)/k\n",
    "#check this is equal to the form of the Doppler source above\n",
    "if checks:\n",
    "    assert(subs(var_subs,subs(pert_eqs,(dop-Doppler))).simplify()==0)"
   ]
  },
  {
   "cell_type": "code",
   "execution_count": 105,
   "metadata": {},
   "outputs": [],
   "source": [
    "#for translation in source output routine (does not include all equation variable)\n",
    "\n",
    "camb_cache={}\n",
    "camb_diff_vars = 'etakdot qgdot qrdot vbdot pigdot pirdot pinudot '+ \\\n",
    "                 'octg octgdot polterdot polterddot diff_rhopi sigmadot phidot  ' +\\\n",
    "                 'ddvisibility dvisibility dopacity ddopacity'\n",
    "camb_arr_vars = 'Edot E'\n",
    "\n",
    "def camb_fortran(expr, name= 'camb_function', expand =False):\n",
    "    var_subs = []\n",
    "    for var in expr.atoms(Function):\n",
    "        camb_var = getattr(var,'camb_var',None)\n",
    "        if camb_var: \n",
    "            camb_var = define_variable(camb_var)\n",
    "        camb_sub = getattr(var, 'camb_sub', None) or camb_var\n",
    "        if camb_sub:\n",
    "            if isinstance(camb_sub,six.string_types): camb_sub = eval(camb_sub)\n",
    "            var_subs.append((var, camb_sub))\n",
    "\n",
    "    j = camb_cache.setdefault('j',sympy.Idx('j'))\n",
    "    etakdot, qgdot, qrdot, vbdot, pigdot, pirdot, pinudot, octg, octgdot, \\\n",
    "        polterdot, polterddot, diff_rhopi, sigmadot, phidot, \\\n",
    "        ddvisibility, dvisibility, dopacity, ddopacity = \\\n",
    "        define_variables(camb_diff_vars,camb_cache)\n",
    "    Edot, E= \\\n",
    "        sympy.symbols(camb_arr_vars, cls= sympy.IndexedBase, shape=(sympy.oo,))\n",
    "\n",
    "    #Keep everything except baryons pressure which is very small\n",
    "    camb_diff_subs= [(diff(q_g,t),qgdot),(diff(pi_g,t),pigdot),(diff(pi_r,t),pirdot),\n",
    "               (diff(q_r,t),qrdot),(diff(v_b,t),vbdot),(diff(a,t), a*adotoa), \n",
    "               (diff(visibility,t,t),ddvisibility),(diff(visibility,t),dvisibility), \n",
    "                     (diff(opacity,t,t),ddopacity), (diff(opacity,t),dopacity),\n",
    "               (diff(J_3,t),octgdot), (diff(E_2,t),Edot[2]),\n",
    "               (diff(E_3,t),Edot[3]),(diff(pi_nu,t),pinudot),\n",
    "               (diff(eta,t),-2*etakdot/k), (diff(Pi,t), diff_rhopi/kappa/a**2),\n",
    "               (diff(polter,t,t),polterddot),(diff(polter,t),polterdot),\n",
    "                    (diff(sigma,t), sigmadot), (diff(phi,t), phidot), (diff(p_b,t),0)]\n",
    "\n",
    "    camb_subs= var_subs + [(p_b,0),(E_2,E[2]),(E_3,E[3]), (J_3, octg), (K_fac,Kf[1])]\n",
    "    \n",
    "    res = cdm_gauge(expr).subs(camb_diff_subs)\n",
    "    if 'Derivative' in str(res):\n",
    "        raise Exception('Remaining derivatives: ' + str(res))\n",
    "    res = res.subs(camb_subs).simplify()\n",
    "    if True:\n",
    "        no_arg_funcs = [f for f in res.atoms(Function) if f.args[0]==t]\n",
    "        res = res.subs(zip(no_arg_funcs, [sympy.Symbol(str(x.func)) for x in no_arg_funcs]))\n",
    "    if expand: res = res.expand()\n",
    "    res = res.collect([sympy.Symbol(str(x.func)) for x in [k,sigma,adotoa,opacity, visibility, dopacity, dvisibility, ddvisibility]])\n",
    "    if True:\n",
    "        res =  sympy.fcode(res, source_format='free', standard=95,  assign_to = name, contract=False )\n",
    "        lines  = res.split('\\n')\n",
    "        for i,line in enumerate(lines):\n",
    "            if '=' in line:\n",
    "                res = '\\n'.join(lines[i:])\n",
    "                break\n",
    "    else:\n",
    "        #res = autowrap(res, tempdir=r'z:',)\n",
    "        \n",
    "        res = codegen((name, res), 'f95', 'my_project', header=False)[0][1]\n",
    "        print res\n",
    "        lines  = res.split('\\n')\n",
    "        for i,line in enumerate(lines):\n",
    "            if '=' in line:\n",
    "                res = '\\n'.join(lines[i:-2])\n",
    "                break\n",
    "    res = ''.join([x.strip() for x in res.split('&')]).replace('Kf', 'EV%Kf')    \n",
    "    import textwrap\n",
    "    res = ' &\\n    '.join(textwrap.wrap(res))\n",
    "    return res    "
   ]
  },
  {
   "cell_type": "code",
   "execution_count": 106,
   "metadata": {},
   "outputs": [
    {
     "name": "stdout",
     "output_type": "stream",
     "text": [
      "phidot = -adotoa*etak/(k*EV%Kf(1)) - 1.0d0/2.0d0*diff_rhopi/k**2 + &\n",
      "    sigma*((1.0d0/2.0d0)*gpres/k + (5.0d0/6.0d0)*grho/k + &\n",
      "    (2.0d0/3.0d0)*k*EV%Kf(1) - 1.0d0/3.0d0*k) + (-1.0d0/6.0d0*dgrho - &\n",
      "    1.0d0/3.0d0*etak*k)/adotoa\n",
      "sigmadot = -adotoa*sigma - 1.0d0/2.0d0*dgpi/k + k*phi\n",
      "polterdot = (1.0d0/10.0d0)*pigdot + (3.0d0/5.0d0)*Edot(2)\n",
      "polterddot = -2.0d0/25.0d0*adotoa*dgq/(k*EV%Kf(1)) - &\n",
      "    4.0d0/75.0d0*adotoa*k*sigma - 4.0d0/75.0d0*dgpi - &\n",
      "    2.0d0/75.0d0*dgrho/EV%Kf(1) + dopacity*(-1.0d0/10.0d0*pig + &\n",
      "    (7.0d0/10.0d0)*polter - 3.0d0/5.0d0*E(2)) &\n",
      "    -3.0d0/50.0d0*k*octgdot*EV%Kf(2) + (1.0d0/25.0d0)*k*qgdot - &\n",
      "    1.0d0/5.0d0*k*Edot(3)*EV%Kf(2) + opacity*(-1.0d0/10.0d0*pigdot + &\n",
      "    (7.0d0/10.0d0)*polterdot - 3.0d0/5.0d0*Edot(2))\n",
      "ISW = 2*exptau*phidot\n",
      "sachs_wolfe = visibility*(-etak/(k*EV%Kf(1)) + 2*phi)\n",
      "monopole_source = (1.0d0/4.0d0)*clxg*visibility\n",
      "doppler = (dvisibility*(sigma + vb) + visibility*(sigmadot + vbdot))/k\n",
      "quadrupole_source = (5.0d0/8.0d0)*(3*ddvisibility*polter + &\n",
      "    6*dvisibility*polterdot + visibility*(k**2*polter + &\n",
      "    3*polterddot))/k**2\n"
     ]
    }
   ],
   "source": [
    "print camb_fortran(dphi2, 'phidot')\n",
    "print camb_fortran(dsigma, 'sigmadot')\n",
    "print camb_fortran(diff(polter_t,t), 'polterdot')\n",
    "print camb_fortran(polterddot, 'polterddot')\n",
    "print camb_fortran(2*diff(phi,t)*exptau,'ISW')\n",
    "print camb_fortran(sachs_wolfe, 'sachs_wolfe', expand=True)\n",
    "print camb_fortran(monopole_source, 'monopole_source')\n",
    "print camb_fortran(dop, 'doppler')\n",
    "print camb_fortran(quadrupole_source, 'quadrupole_source')\n"
   ]
  },
  {
   "cell_type": "code",
   "execution_count": 66,
   "metadata": {},
   "outputs": [
    {
     "data": {
      "text/plain": [
       "'cs2,adotoa,clxq,gpres,pir,pig,clxr,vq,dgpi,grhog_t,grhoc_t,grhob_t,etak,grhor_t,qnu,grhonu_t,pinu,clxnu,dgq,w_lam,vb,cs2_lam,grhov_t,dgrho,clxg,clxb,clxc,qg,qr,grho'"
      ]
     },
     "execution_count": 66,
     "metadata": {},
     "output_type": "execute_result"
    }
   ],
   "source": [
    "items=[]\n",
    "for x in globals():\n",
    "    if getattr(globals()[x],'camb_var',None):\n",
    "        items.append(globals()[x].camb_var)\n",
    "\",\".join(items)"
   ]
  },
  {
   "cell_type": "code",
   "execution_count": 67,
   "metadata": {},
   "outputs": [
    {
     "name": "stdout",
     "output_type": "stream",
     "text": [
      "c:\\work\\dist\\git\\camb\\pycamb\\camb\n"
     ]
    }
   ],
   "source": [
    "print os.path.abspath(os.path.dirname(camb.__file__))\n"
   ]
  },
  {
   "cell_type": "code",
   "execution_count": 68,
   "metadata": {},
   "outputs": [
    {
     "name": "stdout",
     "output_type": "stream",
     "text": [
      "gfortran -shared -static -O1 -ffast-math -fmax-errors=4 -J z:\\code.f90 -o tester1.dll\n"
     ]
    }
   ],
   "source": [
    "import shutil, struct, subprocess\n",
    "import ctypes\n",
    "\n",
    "\"\"\"\n",
    " Type TTimeVars\n",
    "         real(dl) adotoa, a, grho, gpres, w_de, cs2_de, &\n",
    "            etak, etakdot, phi, phidot, sigma, sigmadot, &  \n",
    "            dgrho, clxg,clxb,clxc,clxnu, clxq, &\n",
    "            dgq, qg, qr, vq, vb, qnu, qgdot, qrdot, vbdot, &\n",
    "            dgpi, pig, pir, pinu, pigdot, pirdot, pinudot, diff_rhopi, &\n",
    "            polter, polterdot, polterddot, &\n",
    "            E(3), Edot(3), octg, octgdot, &\n",
    "            opac, dopac, &\n",
    "            reserved(8)\n",
    "    end Type TTimeVars\n",
    "\"\"\"\n",
    "\n",
    "testpath='z:\\\\'\n",
    "source_file_count = globals().setdefault('source_file_count',0)+1\n",
    "template = \"\"\"\n",
    "REAL*8 function source_func(t, a, adotoa, grho, gpres,w_lam, cs2_lam,  &\n",
    "        k, Kf, etak, etakdot, phi, phidot, sigma, sigmadot, &  \n",
    "        dgrho, clxg,clxb,clxc,clxnu, clxq, &\n",
    "        dgq, qg, qr, vq, vb, qnu, qgdot, qrdot, vbdot, &\n",
    "        dgpi, pig, pir, pinu, pigdot, pirdot, pinudot, diff_rhopi, &\n",
    "        polter, polterdot, polterddot, &\n",
    "        octg, octgprime, ypol, ypolprime, &\n",
    "        opac, vis, expmmu, ddvis, dvis, dopac)\n",
    "implicit none\n",
    "use ThermoData\n",
    "use ModelData\n",
    "   \n",
    "REAL*8, intent(in) :: t, a, adotoa, grho, gpres,w_lam, cs2_lam,  &\n",
    "        k, Kf(*), etak, etakdot, phi, phidot, sigma, sigmadot, &  \n",
    "        dgrho, clxg,clxb,clxc,clxnu, clxq, &\n",
    "        dgq, qg, qr, vq, vb, qnu, qgdot, qrdot, vbdot, &\n",
    "        dgpi, pig, pir, pinu, pigdot, pirdot, pinudot, diff_rhopi, &\n",
    "        polter, polterdot, polterddot, &\n",
    "        octg, octgprime, ypol, ypolprime, &\n",
    "        opac, vis, expmmu, ddvis, dvis, dopac\n",
    "\n",
    "source_func = -adotoa*sigma - 1.0d0/2.0d0*dgpi/k + k*phi\n",
    "end function\n",
    "\"\"\"\n",
    "\n",
    "COMPILER = \"gfortran\"\n",
    "FFLAGS = \"-shared -static -O1 -ffast-math -fmax-errors=4 -J\"\n",
    "if struct.calcsize(\"P\") == 4: FFLAGS = \"-m32 \" + FFLAGS\n",
    "DLLNAME='tester%s.dll'%source_file_count\n",
    "\n",
    "workdir = testpath or tempfile.mkdtemp(\"_camb_compile\")\n",
    "if not os.access(workdir, os.F_OK):\n",
    "    os.mkdir(workdir)\n",
    "oldwork = os.getcwd()\n",
    "os.chdir(workdir)\n",
    "source_file = os.path.join(workdir, 'code.f90')\n",
    "with open(source_file, 'w') as f:\n",
    "    f.write(template)\n",
    "        \n",
    "OUTPUT = r\"-o %s\" % (DLLNAME)\n",
    "print(COMPILER + ' ' + FFLAGS + ' ' + source_file + ' ' + OUTPUT)\n",
    "subprocess.call(COMPILER + ' ' + FFLAGS + ' ' + source_file + ' ' + OUTPUT, shell=True)\n",
    "func_lib = ctypes.LibraryLoader(ctypes.CDLL).LoadLibrary(DLLNAME)\n",
    "func = func_lib.source_func_\n",
    "if not testpath:\n",
    "    shutil.rmtree(workdir)\n",
    "os.chdir(oldwork)"
   ]
  },
  {
   "cell_type": "code",
   "execution_count": 69,
   "metadata": {},
   "outputs": [
    {
     "data": {
      "text/plain": [
       "<_FuncPtr object at 0x0000000009DB8798>"
      ]
     },
     "execution_count": 69,
     "metadata": {},
     "output_type": "execute_result"
    }
   ],
   "source": [
    "func_lib.source_func_"
   ]
  },
  {
   "cell_type": "code",
   "execution_count": 96,
   "metadata": {},
   "outputs": [
    {
     "data": {
      "image/png": "[encoded data removed]",
      "text/latex": [
       "$$\\frac{k^{2} \\eta{\\left (t \\right )}}{6 H{\\left (t \\right )}} - \\frac{\\kappa a^{2}{\\left (t \\right )} \\delta{\\left (t \\right )}}{6 H{\\left (t \\right )}} + \\left(\\frac{2 Kf_{1}}{3} k - \\frac{k}{3} + \\frac{\\kappa}{2 k} P{\\left (t \\right )} a^{2}{\\left (t \\right )} + \\frac{5 \\kappa}{6 k} a^{2}{\\left (t \\right )} \\rho{\\left (t \\right )}\\right) \\sigma{\\left (t \\right )} - \\frac{\\kappa}{2 k^{2}} a^{2}{\\left (t \\right )} \\frac{d}{d t} \\Pi{\\left (t \\right )} + \\frac{H{\\left (t \\right )}}{2 Kf_{1}} \\eta{\\left (t \\right )}$$"
      ],
      "text/plain": [
       "                                                                              \n",
       " 2           2           ⎛                      2           2        ⎞        \n",
       "k ⋅η(t)   κ⋅a (t)⋅δ(t)   ⎜2⋅Kf₁⋅k   k   κ⋅P(t)⋅a (t)   5⋅κ⋅a (t)⋅ρ(t)⎟        \n",
       "─────── - ──────────── + ⎜─────── - ─ + ──────────── + ──────────────⎟⋅σ(t) - \n",
       " 6⋅H(t)      6⋅H(t)      ⎝   3      3       2⋅k             6⋅k      ⎠        \n",
       "                                                                              \n",
       "\n",
       "   2    d                   \n",
       "κ⋅a (t)⋅──(Π(t))            \n",
       "        dt         H(t)⋅η(t)\n",
       "──────────────── + ─────────\n",
       "         2           2⋅Kf₁  \n",
       "      2⋅k                   "
      ]
     },
     "execution_count": 96,
     "metadata": {},
     "output_type": "execute_result"
    }
   ],
   "source": [
    "dphi2=subs(Friedmann_Kfac_subs,subs(q_sub,subs(var_subs, dphi)).expand()).simplify().expand().collect(sigma)\n",
    "dphi2"
   ]
  },
  {
   "cell_type": "code",
   "execution_count": 74,
   "metadata": {},
   "outputs": [
    {
     "data": {
      "image/png": "[encoded data removed]",
      "text/latex": [
       "$$- H{\\left (t \\right )} \\phi{\\left (t \\right )} + \\frac{\\kappa}{2 k^{2}} \\left(k \\left(P{\\left (t \\right )} + \\rho{\\left (t \\right )}\\right) \\sigma{\\left (t \\right )} + k q{\\left (t \\right )} - H{\\left (t \\right )} \\Pi{\\left (t \\right )} - \\frac{d}{d t} \\Pi{\\left (t \\right )}\\right) a^{2}{\\left (t \\right )}$$"
      ],
      "text/plain": [
       "               ⎛                                            d       ⎞  2   \n",
       "             κ⋅⎜k⋅(P(t) + ρ(t))⋅σ(t) + k⋅q(t) - H(t)⋅Π(t) - ──(Π(t))⎟⋅a (t)\n",
       "               ⎝                                            dt      ⎠      \n",
       "-H(t)⋅φ(t) + ──────────────────────────────────────────────────────────────\n",
       "                                             2                             \n",
       "                                          2⋅k                              "
      ]
     },
     "execution_count": 74,
     "metadata": {},
     "output_type": "execute_result"
    }
   ],
   "source": [
    "dphi"
   ]
  },
  {
   "cell_type": "code",
   "execution_count": 75,
   "metadata": {},
   "outputs": [
    {
     "data": {
      "image/png": "[encoded data removed]",
      "text/latex": [
       "$$q{\\left (t \\right )} = \\frac{2 k^{2}}{3 \\kappa a^{2}{\\left (t \\right )}} \\left(Kf_{1} \\sigma{\\left (t \\right )} - \\frac{1}{2 k H{\\left (t \\right )}} \\left(- k^{2} \\eta{\\left (t \\right )} + \\kappa a^{2}{\\left (t \\right )} \\delta{\\left (t \\right )}\\right)\\right)$$"
      ],
      "text/plain": [
       "            ⎛              2           2        ⎞\n",
       "          2 ⎜           - k ⋅η(t) + κ⋅a (t)⋅δ(t)⎟\n",
       "       2⋅k ⋅⎜Kf₁⋅σ(t) - ────────────────────────⎟\n",
       "            ⎝                   2⋅k⋅H(t)        ⎠\n",
       "q(t) = ──────────────────────────────────────────\n",
       "                            2                    \n",
       "                       3⋅κ⋅a (t)                 "
      ]
     },
     "execution_count": 75,
     "metadata": {},
     "output_type": "execute_result"
    }
   ],
   "source": [
    "q_sub"
   ]
  },
  {
   "cell_type": "code",
   "execution_count": 93,
   "metadata": {},
   "outputs": [
    {
     "name": "stdout",
     "output_type": "stream",
     "text": [
      "doppler = -adotoa*etak/(k*EV%Kf(1)) - 1.0d0/2.0d0*diff_rhopi/k**2 + &\n",
      "    (1.0d0/2.0d0)*gpres*sigma/k + (5.0d0/6.0d0)*grho*sigma/k + &\n",
      "    (2.0d0/3.0d0)*k*sigma*EV%Kf(1) - 1.0d0/3.0d0*k*sigma - &\n",
      "    1.0d0/6.0d0*dgrho/adotoa -1.0d0/3.0d0*etak*k/adotoa\n"
     ]
    }
   ],
   "source": [
    "print camb_fortran(dphi2, 'doppler')"
   ]
  },
  {
   "cell_type": "code",
   "execution_count": 81,
   "metadata": {},
   "outputs": [
    {
     "name": "stdout",
     "output_type": "stream",
     "text": [
      "camb_function = (1.0d0/12.0d0)*(9*adotoa**2*dgrho*k + &\n",
      "    6*adotoa**2*etak*k**2 + 3*adotoa*dgq*k**2*EV%Kf(1) + 3*adotoa*dgq*k**2 &\n",
      "    + 3*adotoa*dgq*(9*adotoa**2 + 3*gpres + 2*grho) - &\n",
      "    6*adotoa*diff_rhopi*k*EV%Kf(1) +dgrho*k*(3*gpres + 2*grho) - &\n",
      "    k**3*(dgrho + 2*etak*k)*EV%Kf(1) + k**2*(6*etak*gpres + 4*etak*grho + &\n",
      "    k*(dgrho + 2*etak*k)))/(adotoa*k**3*EV%Kf(1))\n"
     ]
    }
   ],
   "source": [
    "print camb_fortran(ISW/2/exptau)"
   ]
  },
  {
   "cell_type": "code",
   "execution_count": null,
   "metadata": {
    "collapsed": true
   },
   "outputs": [],
   "source": []
  }
 ],
 "metadata": {
  "kernelspec": {
   "display_name": "Python 2",
   "language": "python",
   "name": "python2"
  },
  "language_info": {
   "codemirror_mode": {
    "name": "ipython",
    "version": 2
   },
   "file_extension": ".py",
   "mimetype": "text/x-python",
   "name": "python",
   "nbconvert_exporter": "python",
   "pygments_lexer": "ipython2",
   "version": "2.7.13"
  }
 },
 "nbformat": 4,
 "nbformat_minor": 1
}
